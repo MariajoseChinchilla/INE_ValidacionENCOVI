{
 "cells": [
  {
   "cell_type": "code",
   "execution_count": 4,
   "metadata": {},
   "outputs": [
    {
     "name": "stderr",
     "output_type": "stream",
     "text": [
      "100%|██████████| 1431/1431 [00:19<00:00, 74.15condicion/s] \n"
     ]
    }
   ],
   "source": [
    "from INEvalidador import Validador\n",
    "validador = Validador()\n",
    "validador.process_to_export()"
   ]
  },
  {
   "cell_type": "code",
   "execution_count": 3,
   "metadata": {},
   "outputs": [
    {
     "data": {
      "text/html": [
       "<div>\n",
       "<style scoped>\n",
       "    .dataframe tbody tr th:only-of-type {\n",
       "        vertical-align: middle;\n",
       "    }\n",
       "\n",
       "    .dataframe tbody tr th {\n",
       "        vertical-align: top;\n",
       "    }\n",
       "\n",
       "    .dataframe thead th {\n",
       "        text-align: right;\n",
       "    }\n",
       "</style>\n",
       "<table border=\"1\" class=\"dataframe\">\n",
       "  <thead>\n",
       "    <tr style=\"text-align: right;\">\n",
       "      <th></th>\n",
       "      <th>PPA03</th>\n",
       "      <th>P09A01A</th>\n",
       "    </tr>\n",
       "  </thead>\n",
       "  <tbody>\n",
       "  </tbody>\n",
       "</table>\n",
       "</div>"
      ],
      "text/plain": [
       "Empty DataFrame\n",
       "Columns: [PPA03, P09A01A]\n",
       "Index: []"
      ]
     },
     "execution_count": 3,
     "metadata": {},
     "output_type": "execute_result"
    }
   ],
   "source": [
    "cadena = \"PPA03 < 7 y (P09A01A esta en (1,2) | P09A01B no es (vacio) | P09A01C no es (vacio) | P09A02A esta en (1,2) | P09A02B no es (vacio) | P09A02C no es (vacio) | P09A03A no es (vacio) | P09A03B no es (vacio) | P09A03C no es (vacio) | P09A04A no es (vacio) | P09A04B no es (vacio) | P09A04C no es (vacio) | P09A05A no es (vacio) | P09A05B no es (vacio) | P09A05C no es (vacio))\"\n",
    "validador.filter_base(cadena,[\"PPA03\",\"P09A01A\"])"
   ]
  },
  {
   "cell_type": "code",
   "execution_count": null,
   "metadata": {},
   "outputs": [],
   "source": [
    "validador.filter_base(\"PPA03 < 7 y (P09A01A no es (vacio) | P09A01B no es (vacio) | P09A01C no es (vacio) | P09A02A no es (vacio) | P09A02B no es (vacio) | P09A02C no es (vacio) | P09A03A no es (vacio) | P09A03B no es (vacio) | P09A03C no es (vacio) | P09A04A no es (vacio) | P09A04B no es (vacio) | P09A04C no es (vacio) | P09A05A no es (vacio) | P09A05B no es (vacio) | P09A05C no es (vacio))\",\n",
    "                     [\"DEPTO\", \"MUPIO\", \"SECTOR\", \"VIVIENDA\", \"HOGAR\", \"CP\", \"PPA03\", \"P09A01A\", \"P09A01B\", \"P09A01C\", \"P09A02A\", \"P09A02B\", \"P09A02C\", \"P09A03A\", \"P09A03B\", \"P09A03C\", \"P09A04A\", \"P09A04B\", \"P09A04C\", \"P09A05A\", \"P09A05B\", \"P09A05C\" ])"
   ]
  },
  {
   "cell_type": "code",
   "execution_count": 1,
   "metadata": {},
   "outputs": [],
   "source": [
    "import pandas as pd"
   ]
  },
  {
   "cell_type": "code",
   "execution_count": 3,
   "metadata": {},
   "outputs": [
    {
     "data": {
      "text/plain": [
       "personas-id      int64\n",
       "level-1-id       int64\n",
       "occ              int64\n",
       "id_persona     float64\n",
       "npersona        object\n",
       "                ...   \n",
       "p12a14g        float64\n",
       "p12a14h        float64\n",
       "p12a14i        float64\n",
       "p12a14j        float64\n",
       "p12a14ja        object\n",
       "Length: 685, dtype: object"
      ]
     },
     "execution_count": 3,
     "metadata": {},
     "output_type": "execute_result"
    }
   ],
   "source": [
    "pd.read_feather('tablas/personas.feather').dtypes"
   ]
  },
  {
   "cell_type": "code",
   "execution_count": null,
   "metadata": {},
   "outputs": [],
   "source": []
  }
 ],
 "metadata": {
  "kernelspec": {
   "display_name": "Python 3.11.2 64-bit",
   "language": "python",
   "name": "python3"
  },
  "language_info": {
   "codemirror_mode": {
    "name": "ipython",
    "version": 3
   },
   "file_extension": ".py",
   "mimetype": "text/x-python",
   "name": "python",
   "nbconvert_exporter": "python",
   "pygments_lexer": "ipython3",
   "version": "3.11.3"
  },
  "orig_nbformat": 4,
  "vscode": {
   "interpreter": {
    "hash": "aee8b7b246df8f9039afb4144a1f6fd8d2ca17a180786b69acc140d282b71a49"
   }
  }
 },
 "nbformat": 4,
 "nbformat_minor": 2
}
