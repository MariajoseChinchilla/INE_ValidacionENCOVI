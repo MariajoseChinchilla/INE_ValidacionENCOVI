{
 "cells": [
  {
   "cell_type": "code",
   "execution_count": 1,
   "metadata": {},
   "outputs": [
    {
     "name": "stderr",
     "output_type": "stream",
     "text": [
      "100%|██████████| 1431/1431 [00:17<00:00, 83.55condicion/s] \n"
     ]
    }
   ],
   "source": [
    "from INEvalidador import Validador\n",
    "validador = Validador()\n",
    "#validador.process_to_export()"
   ]
  },
  {
   "cell_type": "code",
   "execution_count": 16,
   "metadata": {},
   "outputs": [
    {
     "data": {
      "text/plain": [
       "'(PPA03 < 7 & P09A01A in (1,2))'"
      ]
     },
     "execution_count": 16,
     "metadata": {},
     "output_type": "execute_result"
    }
   ],
   "source": [
    "validador.leer_condicion(\"PPA03 < 7 y P09A01A está en (1,2)\")"
   ]
  },
  {
   "cell_type": "code",
   "execution_count": 23,
   "metadata": {},
   "outputs": [
    {
     "data": {
      "text/plain": [
       "dtype('float64')"
      ]
     },
     "execution_count": 23,
     "metadata": {},
     "output_type": "execute_result"
    }
   ],
   "source": [
    "validador.df.P09A01A.dtypes"
   ]
  },
  {
   "cell_type": "code",
   "execution_count": 15,
   "metadata": {},
   "outputs": [
    {
     "data": {
      "text/html": [
       "<div>\n",
       "<style scoped>\n",
       "    .dataframe tbody tr th:only-of-type {\n",
       "        vertical-align: middle;\n",
       "    }\n",
       "\n",
       "    .dataframe tbody tr th {\n",
       "        vertical-align: top;\n",
       "    }\n",
       "\n",
       "    .dataframe thead th {\n",
       "        text-align: right;\n",
       "    }\n",
       "</style>\n",
       "<table border=\"1\" class=\"dataframe\">\n",
       "  <thead>\n",
       "    <tr style=\"text-align: right;\">\n",
       "      <th></th>\n",
       "      <th>DEPTO</th>\n",
       "      <th>MUPIO</th>\n",
       "      <th>SECTOR</th>\n",
       "      <th>VIVIENDA</th>\n",
       "      <th>HOGAR</th>\n",
       "      <th>CP</th>\n",
       "      <th>PPA03</th>\n",
       "      <th>P09A01A</th>\n",
       "      <th>P09A01B</th>\n",
       "      <th>P09A01C</th>\n",
       "      <th>...</th>\n",
       "      <th>P09A02C</th>\n",
       "      <th>P09A03A</th>\n",
       "      <th>P09A03B</th>\n",
       "      <th>P09A03C</th>\n",
       "      <th>P09A04A</th>\n",
       "      <th>P09A04B</th>\n",
       "      <th>P09A04C</th>\n",
       "      <th>P09A05A</th>\n",
       "      <th>P09A05B</th>\n",
       "      <th>P09A05C</th>\n",
       "    </tr>\n",
       "  </thead>\n",
       "  <tbody>\n",
       "  </tbody>\n",
       "</table>\n",
       "<p>0 rows × 22 columns</p>\n",
       "</div>"
      ],
      "text/plain": [
       "Empty DataFrame\n",
       "Columns: [DEPTO, MUPIO, SECTOR, VIVIENDA, HOGAR, CP, PPA03, P09A01A, P09A01B, P09A01C, P09A02A, P09A02B, P09A02C, P09A03A, P09A03B, P09A03C, P09A04A, P09A04B, P09A04C, P09A05A, P09A05B, P09A05C]\n",
       "Index: []\n",
       "\n",
       "[0 rows x 22 columns]"
      ]
     },
     "execution_count": 15,
     "metadata": {},
     "output_type": "execute_result"
    }
   ],
   "source": [
    "validador.filter_base(\"PPA03 < 7 y P09A01A está en (1,2)\",\n",
    "                     [\"DEPTO\", \"MUPIO\", \"SECTOR\", \"VIVIENDA\", \"HOGAR\", \"CP\", \"PPA03\", \"P09A01A\", \"P09A01B\", \"P09A01C\", \"P09A02A\", \"P09A02B\", \"P09A02C\", \"P09A03A\", \"P09A03B\", \"P09A03C\", \"P09A04A\", \"P09A04B\", \"P09A04C\", \"P09A05A\", \"P09A05B\", \"P09A05C\" ])"
   ]
  },
  {
   "cell_type": "code",
   "execution_count": null,
   "metadata": {},
   "outputs": [],
   "source": []
  }
 ],
 "metadata": {
  "kernelspec": {
   "display_name": "Python 3.11.2 64-bit",
   "language": "python",
   "name": "python3"
  },
  "language_info": {
   "codemirror_mode": {
    "name": "ipython",
    "version": 3
   },
   "file_extension": ".py",
   "mimetype": "text/x-python",
   "name": "python",
   "nbconvert_exporter": "python",
   "pygments_lexer": "ipython3",
   "version": "3.11.2"
  },
  "orig_nbformat": 4,
  "vscode": {
   "interpreter": {
    "hash": "aee8b7b246df8f9039afb4144a1f6fd8d2ca17a180786b69acc140d282b71a49"
   }
  }
 },
 "nbformat": 4,
 "nbformat_minor": 2
}
