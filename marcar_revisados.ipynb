{
 "cells": [
  {
   "cell_type": "code",
   "execution_count": 7,
   "metadata": {},
   "outputs": [],
   "source": [
    "import pandas as pd\n",
    "\n",
    "codigos_todos = pd.read_excel(\"codigos revisados.xlsx\")\n",
    "codigos_revisados = pd.read_excel(\"Expresiones.xlsx\")\n",
    "\n",
    "for codigo in list(codigos_todos[\"Código de Error\"]):\n",
    "    if codigo in list(codigos_revisados[\"Código de Error\"]):\n",
    "        codigos_todos.loc[codigos_todos[\"Código de Error\"] == codigo, \"Estado de aceptación\"] = 1\n"
   ]
  },
  {
   "cell_type": "code",
   "execution_count": 10,
   "metadata": {},
   "outputs": [],
   "source": [
    "codigos_todos.to_excel(\"Salida.xlsx\")"
   ]
  },
  {
   "cell_type": "code",
   "execution_count": null,
   "metadata": {},
   "outputs": [],
   "source": []
  }
 ],
 "metadata": {
  "kernelspec": {
   "display_name": "Python 3",
   "language": "python",
   "name": "python3"
  },
  "language_info": {
   "codemirror_mode": {
    "name": "ipython",
    "version": 3
   },
   "file_extension": ".py",
   "mimetype": "text/x-python",
   "name": "python",
   "nbconvert_exporter": "python",
   "pygments_lexer": "ipython3",
   "version": "3.11.2"
  },
  "orig_nbformat": 4
 },
 "nbformat": 4,
 "nbformat_minor": 2
}
