{
 "cells": [
  {
   "cell_type": "code",
   "execution_count": 1,
   "metadata": {},
   "outputs": [],
   "source": [
    "import pandas as pd\n",
    "import numpy as np\n",
    "from datetime import datetime\n",
    "import re\n",
    "import os\n",
    "\n",
    "df = pd.read_spss(\"BasePrueba.sav\")\n",
    "expresiones = pd.read_excel(\"Expresiones.xlsx\")"
   ]
  },
  {
   "cell_type": "code",
   "execution_count": 2,
   "metadata": {},
   "outputs": [],
   "source": [
    "def leer_condicion(condition):\n",
    "    # Para las columnas de texto, busca patrones del tipo 'variable = (vacío)' o 'variable no es (vacío)'\n",
    "    text_var_pattern = r'(\\w+)\\s*(==|!=)\\s*\\((vacío|vacio)\\)'\n",
    "    text_var_matches = re.findall(text_var_pattern, condition)\n",
    "\n",
    "    for var, op in text_var_matches:\n",
    "        if op == '==':\n",
    "            condition = condition.replace(f'{var} {op} (vacío)', f'{var} == \"\"')\n",
    "            condition = condition.replace(f'{var} {op} (vacio)', f'{var} == \"\"')\n",
    "        elif op == '!=':\n",
    "            condition = condition.replace(f'{var} {op} (vacío)', f'{var} != \"\"')\n",
    "            condition = condition.replace(f'{var} {op} (vacio)', f'{var} != \"\"')\n",
    "\n",
    "    # Reemplaza los símbolos y frases con su equivalente en Python\n",
    "    condition = condition.replace('<=', '<=').replace(\"VACIO\", \"vacío\").replace(\"VACÍO\", \"vacío\")\n",
    "    condition = condition.replace('=', '==').replace('<>', '!=').replace(\">==\", \">=\").replace(\"<==\",\"<=\").replace(\"Y\", \"y\")\n",
    "    condition = condition.replace(' y ', ' & ').replace(' o ', ' | ').replace('NO ESTA EN', 'not in').replace('no está en', 'not in')\n",
    "    condition = condition.replace('ESTA EN', 'in').replace('está en', 'in')\n",
    "\n",
    "    # Para las demás columnas, asume que son numéricas y reemplaza 'no es (vacío)' por '!= np.nan' y 'es (vacío)' por '== np.nan'\n",
    "    condition = condition.replace(' no es (vacío)', '!=\"NaN\"')\n",
    "    condition = condition.replace(' no es vacío', '!=\"NaN\"')\n",
    "    condition = condition.replace(' es (vacío)', '==\"NaN\"')\n",
    "    condition = condition.replace(' es vacío', '==\"NaN\"')\n",
    "\n",
    "    condition = condition.replace(\"NA\", 'None')\n",
    "\n",
    "    # Reemplaza las comparaciones entre variables para que sean legibles en Python\n",
    "    condition = re.sub(r'(\\w+)\\s*(<=|>=|<|>|==|!=)\\s*(\\w+)', r'\\1 \\2 \\3', condition)\n",
    "\n",
    "    # Si \"está en\" se encuentra en la condición, lo reemplaza por la sintaxis correcta en Python\n",
    "    if \"está en\" in condition:\n",
    "        condition = re.sub(r'(\\w+)\\s+está en\\s+(\\(.*?\\))', r'\\1 in \\2', condition)\n",
    "    \n",
    "    # Agrega paréntesis alrededor de la condición\n",
    "    condition = '(' + condition + ')'\n",
    "    return condition\n",
    "\n",
    "# Función para filtrar base de datos dada una query\n",
    "def filter_base(conditions):\n",
    "    global df\n",
    "    filter = leer_condicion(conditions)\n",
    "    df_filtered = df[df.eval(filter)]\n",
    "    return df_filtered"
   ]
  },
  {
   "cell_type": "code",
   "execution_count": 89,
   "metadata": {},
   "outputs": [
    {
     "data": {
      "text/plain": [
       "'(P01H09 == 1 & (P01H10 == (vacío) | P01H11 == (vacío) | P01H12 == (vacío) | P01H13 == (vacío) | P01H14 == (vacío) | P01H15 == (vacío) | P01H16 == (vacío) ))'"
      ]
     },
     "execution_count": 89,
     "metadata": {},
     "output_type": "execute_result"
    }
   ],
   "source": [
    "leer_condicion(\"P01H09 = 1 y (P01H10 = (VACIO) o P01H11 = (VACIO) o P01H12 = (VACIO) o P01H13 = (VACIO) o P01H14 = (VACIO) o P01H15 = (VACIO) o P01H16 = (VACIO) )\")"
   ]
  },
  {
   "cell_type": "code",
   "execution_count": 93,
   "metadata": {},
   "outputs": [
    {
     "data": {
      "text/html": [
       "<div>\n",
       "<style scoped>\n",
       "    .dataframe tbody tr th:only-of-type {\n",
       "        vertical-align: middle;\n",
       "    }\n",
       "\n",
       "    .dataframe tbody tr th {\n",
       "        vertical-align: top;\n",
       "    }\n",
       "\n",
       "    .dataframe thead th {\n",
       "        text-align: right;\n",
       "    }\n",
       "</style>\n",
       "<table border=\"1\" class=\"dataframe\">\n",
       "  <thead>\n",
       "    <tr style=\"text-align: right;\">\n",
       "      <th></th>\n",
       "      <th>P09H01A</th>\n",
       "      <th>P09H01B</th>\n",
       "      <th>P09H01C</th>\n",
       "      <th>P09H01D</th>\n",
       "      <th>P07A02B</th>\n",
       "      <th>P07A06C</th>\n",
       "      <th>P06B06B</th>\n",
       "      <th>P06B25B</th>\n",
       "      <th>P10E10B</th>\n",
       "      <th>PPA01A</th>\n",
       "      <th>...</th>\n",
       "      <th>P01H07</th>\n",
       "      <th>P01H08</th>\n",
       "      <th>P01H09</th>\n",
       "      <th>P01H10</th>\n",
       "      <th>P01H11</th>\n",
       "      <th>P01H12</th>\n",
       "      <th>P01H13</th>\n",
       "      <th>P01H14</th>\n",
       "      <th>P01H15</th>\n",
       "      <th>P01H16</th>\n",
       "    </tr>\n",
       "  </thead>\n",
       "  <tbody>\n",
       "  </tbody>\n",
       "</table>\n",
       "<p>0 rows × 737 columns</p>\n",
       "</div>"
      ],
      "text/plain": [
       "Empty DataFrame\n",
       "Columns: [P09H01A, P09H01B, P09H01C, P09H01D, P07A02B, P07A06C, P06B06B, P06B25B, P10E10B, PPA01A, PPA01B, P08A01C, P08A01E, P08A03C, P08A03E, P10C05C, P10D06C, P10D06E, P06B06D, P06B25D, P10E10D, P08A01G, P08A03G, P10C05E, P10C05G, P10D06G, P03C01A, P03C02A, P04A13A, P05A01A, P05A04A, P05C02A, P05C04A, P05D05A, P05D18HA, P05E19A, P05E24KA, P06B17A, P06B27B, P06B27C, P07A02C, P07A04A, P07A05A, P07A06D, P08A04A, P10A02A, P10A07A, P10B02A, P10B05A, P10B10A, P10C02, P10C03, P10C04, P10C07, P10C10A, P10C20A, P10C45A, P10C46A, P10D02, P10D03, P10D04, P10D05, P10E09A, P12A08HA, P12A14JA, P05C06A, P05C08AA, P05C08BA, P05C09GA, P05D04AA, P05D07A, P05D09AA, P05D09BA, P05D19A, P05E09A, P05E10A, P05E18A, P05E23KA, P06A02A, P06B09A, P06B11AA, P06B11BA, P12A12B, P05C05A, CAPI_IIIB, CAPI_IV, CAPI_IX, CAPI_V, CAPI_VI, CAPI_VII, CAPI_VIII, CAPI_X, CAPI_XI, CAPI_XII, P03B01, P03B02, P04A01A, P04A04A, P05A07, P05B02, ...]\n",
       "Index: []\n",
       "\n",
       "[0 rows x 737 columns]"
      ]
     },
     "execution_count": 93,
     "metadata": {},
     "output_type": "execute_result"
    }
   ],
   "source": [
    "filter_base(\"P01H09 = 1 y (P01H10 es vacío o P01H11  es vacío o P01H12  es vacío o P01H13  es vacío o P01H14  es vacío o P01H15  es vacío o P01H16  es vacío)\")"
   ]
  },
  {
   "cell_type": "code",
   "execution_count": 18,
   "metadata": {},
   "outputs": [],
   "source": [
    "# Función para devolver inconsistencias dado un analista, capitulo, seccion en especifico\n",
    "def process_specific_data(capitulo, seccion, analista):\n",
    "    global expresiones\n",
    "    try:        \n",
    "        # Crear lista con expresiones para filtrar\n",
    "        expressions = list(expresiones[(expresiones[\"Analista\"] == analista) & (expresiones[\"Capítulo\"] == capitulo) & (expresiones[\"Sección\"] == seccion)][\"Condición o Criterio\"])\n",
    "        \n",
    "        # Crear archivo tipo ExcelWriter para exportar en diferentes pestañas\n",
    "        writer = pd.ExcelWriter(\"C{}S{}.xlsx\".format(capitulo,seccion))\n",
    "        \n",
    "        # Leer filtros y tomar subconjuntos de la base\n",
    "        for i in range(len(expressions)):\n",
    "            try:\n",
    "                Validacion = filter_base(expressions[i])  # Aplicar filtro a la base de datos\n",
    "                sheet_name = \"S{}V{}\".format(capitulo, seccion, i)  # Generar el nombre de la hoja\n",
    "                Validacion.to_excel(writer, sheet_name=sheet_name)  # Exportar subconjunto de datos a una hoja de Excel\n",
    "            except Exception as e:\n",
    "                print(f\"Error al procesar la expresión {expressions[i]}: {e}\")  # Manejar error específico de una expresión\n",
    "\n",
    "        writer.save()  # Guardar el archivo de Excel con las hojas generadas\n",
    "        print(\"Proceso completado exitosamente.\")  # Indicar que el proceso ha finalizado con éxito\n",
    "    \n",
    "    except Exception as e:\n",
    "        print(f\"Error general: {e}\")  # Manejar error general en caso de problemas durante el proceso\n"
   ]
  },
  {
   "cell_type": "code",
   "execution_count": 3,
   "metadata": {},
   "outputs": [],
   "source": [
    "import os\n",
    "from datetime import datetime\n",
    "\n",
    "def process_general_data():\n",
    "    global df, expresiones\n",
    "    try:\n",
    "        grouped = expresiones.groupby([\"Capítulo\", \"Sección\"])\n",
    "\n",
    "        # Crear lista con expresiones para filtrar\n",
    "        tuplas_chap_sec = [(name[0], name[1]) for name, _ in grouped]\n",
    "\n",
    "        # Leer filtros y tomar subconjuntos de la base\n",
    "        carpeta_padre = f\"Inconsistencias_{datetime.strftime(datetime.now(), '%d_%m_%Y_%H_%M_%S')}\"\n",
    "        if not os.path.exists(carpeta_padre):\n",
    "            os.mkdir(carpeta_padre)\n",
    "        for capitulo, seccion in tuplas_chap_sec:\n",
    "            # Crear carpeta por capitulo\n",
    "            folder_name = f\"C{capitulo}\"\n",
    "            ruta_carpeta = os.path.join(carpeta_padre, folder_name)\n",
    "            if not os.path.exists(ruta_carpeta):\n",
    "                os.makedirs(ruta_carpeta)\n",
    "            conditions = list(expresiones[(expresiones[\"Capítulo\"] == capitulo) & (expresiones[\"Sección\"] == seccion)][\"Condición o Criterio\"])\n",
    "            for condition in conditions:\n",
    "                try:\n",
    "                    Validacion = filter_base(condition)  # Aplicar filtro a la base de datos\n",
    "                    sheet_name = \"S{}V{}\".format(seccion, conditions.index(condition))  # Generar el nombre de la hoja\n",
    "                    filename = os.path.join(ruta_carpeta, \"S{}.xlsx\".format(seccion))  # Crea la ruta completa al archivo\n",
    "                    Validacion.to_excel(filename, sheet_name=sheet_name)  # Exportar subconjunto de datos a una hoja de Excel\n",
    "                except Exception as e:\n",
    "                    pass\n",
    "                    #print(f\"Error al procesar la expresión {condition}: {e}\")  # Manejar error específico de una expresión\n",
    "\n",
    "    except Exception as e:\n",
    "        print(f\"Error general: {e}\")  # Manejar error general en caso de problemas durante el proceso\n"
   ]
  },
  {
   "cell_type": "code",
   "execution_count": 4,
   "metadata": {},
   "outputs": [],
   "source": [
    "process_general_data()"
   ]
  }
 ],
 "metadata": {
  "kernelspec": {
   "display_name": "Python 3",
   "language": "python",
   "name": "python3"
  },
  "language_info": {
   "codemirror_mode": {
    "name": "ipython",
    "version": 3
   },
   "file_extension": ".py",
   "mimetype": "text/x-python",
   "name": "python",
   "nbconvert_exporter": "python",
   "pygments_lexer": "ipython3",
   "version": "3.11.2"
  },
  "orig_nbformat": 4
 },
 "nbformat": 4,
 "nbformat_minor": 2
}
