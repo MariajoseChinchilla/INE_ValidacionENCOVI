{
 "cells": [
  {
   "cell_type": "code",
   "execution_count": 6,
   "metadata": {},
   "outputs": [],
   "source": [
    "import pandas as pd\n",
    "import numpy as np\n",
    "from datetime import datetime\n",
    "import re\n",
    "import os\n",
    "\n",
    "df = pd.read_spss(\"BasePrueba.sav\")\n",
    "expresiones = pd.read_excel(\"Expresiones.xlsx\")"
   ]
  },
  {
   "cell_type": "code",
   "execution_count": 87,
   "metadata": {},
   "outputs": [],
   "source": [
    "def leer_condicion(condition):\n",
    "    # Para las columnas de texto, busca patrones del tipo 'variable = (vacío)' o 'variable no es (vacío)'\n",
    "    text_var_pattern = r'(\\w+)\\s*(==|!=)\\s*\\((vacío|vacio)\\)'\n",
    "    text_var_matches = re.findall(text_var_pattern, condition)\n",
    "\n",
    "    for var, op in text_var_matches:\n",
    "        if op == '==':\n",
    "            condition = condition.replace(f'{var} {op} (vacío)', f'{var} == \"\"')\n",
    "            condition = condition.replace(f'{var} {op} (vacio)', f'{var} == \"\"')\n",
    "        elif op == '!=':\n",
    "            condition = condition.replace(f'{var} {op} (vacío)', f'{var} != \"\"')\n",
    "            condition = condition.replace(f'{var} {op} (vacio)', f'{var} != \"\"')\n",
    "\n",
    "    # Reemplaza los símbolos y frases con su equivalente en Python\n",
    "    condition = condition.replace('<=', '<=').replace(\"VACIO\", \"vacío\").replace(\"VACÍO\", \"vacío\")\n",
    "    condition = condition.replace('=', '==').replace('<>', '!=').replace(\">==\", \">=\").replace(\"<==\",\"<=\").replace(\"Y\", \"y\")\n",
    "    condition = condition.replace(' y ', ' & ').replace(' o ', ' | ').replace('NO ESTA EN', 'not in').replace('no está en', 'not in')\n",
    "    condition = condition.replace('ESTA EN', 'in').replace('está en', 'in')\n",
    "\n",
    "    # Para las demás columnas, asume que son numéricas y reemplaza 'no es (vacío)' por '!= np.nan' y 'es (vacío)' por '== np.nan'\n",
    "    condition = condition.replace(' no es (vacío)', '!=\"NaN\"')\n",
    "    condition = condition.replace(' no es vacío', '!=\"NaN\"')\n",
    "    condition = condition.replace(' es (vacío)', '==\"NaN\"')\n",
    "    condition = condition.replace(' es vacío', '==\"NaN\"')\n",
    "\n",
    "    condition = condition.replace(\"NA\", 'None')\n",
    "\n",
    "    # Reemplaza las comparaciones entre variables para que sean legibles en Python\n",
    "    condition = re.sub(r'(\\w+)\\s*(<=|>=|<|>|==|!=)\\s*(\\w+)', r'\\1 \\2 \\3', condition)\n",
    "\n",
    "    # Si \"está en\" se encuentra en la condición, lo reemplaza por la sintaxis correcta en Python\n",
    "    if \"está en\" in condition:\n",
    "        condition = re.sub(r'(\\w+)\\s+está en\\s+(\\(.*?\\))', r'\\1 in \\2', condition)\n",
    "    \n",
    "    # Agrega paréntesis alrededor de la condición\n",
    "    condition = '(' + condition + ')'\n",
    "    return condition\n",
    "\n",
    "# Función para filtrar base de datos dada una query\n",
    "def filter_base(conditions):\n",
    "    global df\n",
    "    filter = leer_condicion(conditions)\n",
    "    df_filtered = df[df.eval(filter)]\n",
    "    return df_filtered"
   ]
  },
  {
   "cell_type": "code",
   "execution_count": 89,
   "metadata": {},
   "outputs": [
    {
     "data": {
      "text/plain": [
       "'(P01H09 == 1 & (P01H10 == (vacío) | P01H11 == (vacío) | P01H12 == (vacío) | P01H13 == (vacío) | P01H14 == (vacío) | P01H15 == (vacío) | P01H16 == (vacío) ))'"
      ]
     },
     "execution_count": 89,
     "metadata": {},
     "output_type": "execute_result"
    }
   ],
   "source": [
    "leer_condicion(\"P01H09 = 1 y (P01H10 = (VACIO) o P01H11 = (VACIO) o P01H12 = (VACIO) o P01H13 = (VACIO) o P01H14 = (VACIO) o P01H15 = (VACIO) o P01H16 = (VACIO) )\")"
   ]
  },
  {
   "cell_type": "code",
   "execution_count": 93,
   "metadata": {},
   "outputs": [
    {
     "data": {
      "text/html": [
       "<div>\n",
       "<style scoped>\n",
       "    .dataframe tbody tr th:only-of-type {\n",
       "        vertical-align: middle;\n",
       "    }\n",
       "\n",
       "    .dataframe tbody tr th {\n",
       "        vertical-align: top;\n",
       "    }\n",
       "\n",
       "    .dataframe thead th {\n",
       "        text-align: right;\n",
       "    }\n",
       "</style>\n",
       "<table border=\"1\" class=\"dataframe\">\n",
       "  <thead>\n",
       "    <tr style=\"text-align: right;\">\n",
       "      <th></th>\n",
       "      <th>P09H01A</th>\n",
       "      <th>P09H01B</th>\n",
       "      <th>P09H01C</th>\n",
       "      <th>P09H01D</th>\n",
       "      <th>P07A02B</th>\n",
       "      <th>P07A06C</th>\n",
       "      <th>P06B06B</th>\n",
       "      <th>P06B25B</th>\n",
       "      <th>P10E10B</th>\n",
       "      <th>PPA01A</th>\n",
       "      <th>...</th>\n",
       "      <th>P01H07</th>\n",
       "      <th>P01H08</th>\n",
       "      <th>P01H09</th>\n",
       "      <th>P01H10</th>\n",
       "      <th>P01H11</th>\n",
       "      <th>P01H12</th>\n",
       "      <th>P01H13</th>\n",
       "      <th>P01H14</th>\n",
       "      <th>P01H15</th>\n",
       "      <th>P01H16</th>\n",
       "    </tr>\n",
       "  </thead>\n",
       "  <tbody>\n",
       "  </tbody>\n",
       "</table>\n",
       "<p>0 rows × 737 columns</p>\n",
       "</div>"
      ],
      "text/plain": [
       "Empty DataFrame\n",
       "Columns: [P09H01A, P09H01B, P09H01C, P09H01D, P07A02B, P07A06C, P06B06B, P06B25B, P10E10B, PPA01A, PPA01B, P08A01C, P08A01E, P08A03C, P08A03E, P10C05C, P10D06C, P10D06E, P06B06D, P06B25D, P10E10D, P08A01G, P08A03G, P10C05E, P10C05G, P10D06G, P03C01A, P03C02A, P04A13A, P05A01A, P05A04A, P05C02A, P05C04A, P05D05A, P05D18HA, P05E19A, P05E24KA, P06B17A, P06B27B, P06B27C, P07A02C, P07A04A, P07A05A, P07A06D, P08A04A, P10A02A, P10A07A, P10B02A, P10B05A, P10B10A, P10C02, P10C03, P10C04, P10C07, P10C10A, P10C20A, P10C45A, P10C46A, P10D02, P10D03, P10D04, P10D05, P10E09A, P12A08HA, P12A14JA, P05C06A, P05C08AA, P05C08BA, P05C09GA, P05D04AA, P05D07A, P05D09AA, P05D09BA, P05D19A, P05E09A, P05E10A, P05E18A, P05E23KA, P06A02A, P06B09A, P06B11AA, P06B11BA, P12A12B, P05C05A, CAPI_IIIB, CAPI_IV, CAPI_IX, CAPI_V, CAPI_VI, CAPI_VII, CAPI_VIII, CAPI_X, CAPI_XI, CAPI_XII, P03B01, P03B02, P04A01A, P04A04A, P05A07, P05B02, ...]\n",
       "Index: []\n",
       "\n",
       "[0 rows x 737 columns]"
      ]
     },
     "execution_count": 93,
     "metadata": {},
     "output_type": "execute_result"
    }
   ],
   "source": [
    "filter_base(\"P01H09 = 1 y (P01H10 es vacío o P01H11  es vacío o P01H12  es vacío o P01H13  es vacío o P01H14  es vacío o P01H15  es vacío o P01H16  es vacío)\")"
   ]
  },
  {
   "cell_type": "code",
   "execution_count": 18,
   "metadata": {},
   "outputs": [],
   "source": [
    "# Función para devolver inconsistencias dado un analista, capitulo, seccion en especifico\n",
    "def process_specific_data(capitulo, seccion, analista):\n",
    "    global expresiones\n",
    "    try:        \n",
    "        # Crear lista con expresiones para filtrar\n",
    "        expressions = list(expresiones[(expresiones[\"Analista\"] == analista) & (expresiones[\"Capítulo\"] == capitulo) & (expresiones[\"Sección\"] == seccion)][\"Condición o Criterio\"])\n",
    "        \n",
    "        # Crear archivo tipo ExcelWriter para exportar en diferentes pestañas\n",
    "        writer = pd.ExcelWriter(\"C{}S{}.xlsx\".format(capitulo,seccion))\n",
    "        \n",
    "        # Leer filtros y tomar subconjuntos de la base\n",
    "        for i in range(len(expressions)):\n",
    "            try:\n",
    "                Validacion = filter_base(expressions[i])  # Aplicar filtro a la base de datos\n",
    "                sheet_name = \"S{}V{}\".format(capitulo, seccion, i)  # Generar el nombre de la hoja\n",
    "                Validacion.to_excel(writer, sheet_name=sheet_name)  # Exportar subconjunto de datos a una hoja de Excel\n",
    "            except Exception as e:\n",
    "                print(f\"Error al procesar la expresión {expressions[i]}: {e}\")  # Manejar error específico de una expresión\n",
    "\n",
    "        writer.save()  # Guardar el archivo de Excel con las hojas generadas\n",
    "        print(\"Proceso completado exitosamente.\")  # Indicar que el proceso ha finalizado con éxito\n",
    "    \n",
    "    except Exception as e:\n",
    "        print(f\"Error general: {e}\")  # Manejar error general en caso de problemas durante el proceso\n"
   ]
  },
  {
   "cell_type": "code",
   "execution_count": 25,
   "metadata": {},
   "outputs": [],
   "source": [
    "import os\n",
    "from datetime import datetime\n",
    "\n",
    "def process_general_data():\n",
    "    global df, expresiones\n",
    "    try:\n",
    "        grouped = expresiones.groupby([\"Capítulo\", \"Sección\"])\n",
    "\n",
    "        # Crear lista con expresiones para filtrar\n",
    "        tuplas_chap_sec = [(name[0], name[1]) for name, _ in grouped]\n",
    "\n",
    "        # Leer filtros y tomar subconjuntos de la base\n",
    "        carpeta_padre = f\"Inconsistencias_{datetime.strftime(datetime.now(), '%d_%m_%Y_%H_%M_%S')}\"\n",
    "        if not os.path.exists(carpeta_padre):\n",
    "            os.mkdir(carpeta_padre)\n",
    "        for capitulo, seccion in tuplas_chap_sec:\n",
    "            # Crear carpeta por capitulo\n",
    "            folder_name = f\"C{capitulo}\"\n",
    "            ruta_carpeta = os.path.join(carpeta_padre, folder_name)\n",
    "            if not os.path.exists(ruta_carpeta):\n",
    "                os.makedirs(ruta_carpeta)\n",
    "            conditions = list(expresiones[(expresiones[\"Capítulo\"] == capitulo) & (expresiones[\"Sección\"] == seccion)][\"Condición o Criterio\"])\n",
    "            for condition in conditions:\n",
    "                try:\n",
    "                    Validacion = filter_base(condition)  # Aplicar filtro a la base de datos\n",
    "                    sheet_name = \"S{}V{}\".format(seccion, conditions.index(condition))  # Generar el nombre de la hoja\n",
    "                    filename = os.path.join(ruta_carpeta, \"S{}.xlsx\".format(seccion))  # Crea la ruta completa al archivo\n",
    "                    Validacion.to_excel(filename, sheet_name=sheet_name)  # Exportar subconjunto de datos a una hoja de Excel\n",
    "                except Exception as e:\n",
    "                    print(f\"Error al procesar la expresión {condition}: {e}\")  # Manejar error específico de una expresión\n",
    "\n",
    "    except Exception as e:\n",
    "        print(f\"Error general: {e}\")  # Manejar error general en caso de problemas durante el proceso\n"
   ]
  },
  {
   "cell_type": "code",
   "execution_count": 94,
   "metadata": {},
   "outputs": [
    {
     "name": "stdout",
     "output_type": "stream",
     "text": [
      "Error al procesar la expresión P01C01 = 2 y P01C02A = 1 y P01C02B = 1 y P01C02C = 1 y P01C02D = 1 y P01C02E = 1 y P01C02F = 1 y P01C02G = 1 y P01C02H = 1 y P01C02I = 1 y P01C02J = 1 y P01C02K = 1 y P01C02L = 1 y P01C02M = 1: name 'P01C02E' is not defined\n",
      "Error al procesar la expresión P01G01 NO ESTA EN (1,2,3,4): name 'P01G01' is not defined\n",
      "Error al procesar la expresión P01H09 = 1 y (P01H10 = (VACIO)\n",
      "P01H11 = (VACIO)\n",
      "P01H12 = (VACIO)\n",
      "P01H13 = (VACIO)\n",
      "P01H14 = (VACIO)\n",
      "P01H15 = (VACIO)\n",
      "P01H16 = (VACIO) ): ('EOF in multi-line statement', (2, 0))\n",
      "Error al procesar la expresión P01H09 = 2 y (P01H10 <> (VACIO)\n",
      "P01H11 <> (VACIO)\n",
      "P01H12 <> (VACIO)\n",
      "P01H13 <> (VACIO)\n",
      "P01H14 <> (VACIO)\n",
      "P01H15 <> (VACIO)\n",
      "P01H16 <> (VACIO) ): ('EOF in multi-line statement', (2, 0))\n"
     ]
    },
    {
     "ename": "KeyboardInterrupt",
     "evalue": "",
     "output_type": "error",
     "traceback": [
      "\u001b[1;31m---------------------------------------------------------------------------\u001b[0m",
      "\u001b[1;31mKeyboardInterrupt\u001b[0m                         Traceback (most recent call last)",
      "Cell \u001b[1;32mIn[94], line 1\u001b[0m\n\u001b[1;32m----> 1\u001b[0m process_general_data()\n",
      "Cell \u001b[1;32mIn[25], line 28\u001b[0m, in \u001b[0;36mprocess_general_data\u001b[1;34m()\u001b[0m\n\u001b[0;32m     26\u001b[0m     sheet_name \u001b[39m=\u001b[39m \u001b[39m\"\u001b[39m\u001b[39mS\u001b[39m\u001b[39m{}\u001b[39;00m\u001b[39mV\u001b[39m\u001b[39m{}\u001b[39;00m\u001b[39m\"\u001b[39m\u001b[39m.\u001b[39mformat(seccion, conditions\u001b[39m.\u001b[39mindex(condition))  \u001b[39m# Generar el nombre de la hoja\u001b[39;00m\n\u001b[0;32m     27\u001b[0m     filename \u001b[39m=\u001b[39m os\u001b[39m.\u001b[39mpath\u001b[39m.\u001b[39mjoin(ruta_carpeta, \u001b[39m\"\u001b[39m\u001b[39mS\u001b[39m\u001b[39m{}\u001b[39;00m\u001b[39m.xlsx\u001b[39m\u001b[39m\"\u001b[39m\u001b[39m.\u001b[39mformat(seccion))  \u001b[39m# Crea la ruta completa al archivo\u001b[39;00m\n\u001b[1;32m---> 28\u001b[0m     Validacion\u001b[39m.\u001b[39;49mto_excel(filename, sheet_name\u001b[39m=\u001b[39;49msheet_name)  \u001b[39m# Exportar subconjunto de datos a una hoja de Excel\u001b[39;00m\n\u001b[0;32m     29\u001b[0m \u001b[39mexcept\u001b[39;00m \u001b[39mException\u001b[39;00m \u001b[39mas\u001b[39;00m e:\n\u001b[0;32m     30\u001b[0m     \u001b[39mprint\u001b[39m(\u001b[39mf\u001b[39m\u001b[39m\"\u001b[39m\u001b[39mError al procesar la expresión \u001b[39m\u001b[39m{\u001b[39;00mcondition\u001b[39m}\u001b[39;00m\u001b[39m: \u001b[39m\u001b[39m{\u001b[39;00me\u001b[39m}\u001b[39;00m\u001b[39m\"\u001b[39m)  \u001b[39m# Manejar error específico de una expresión\u001b[39;00m\n",
      "File \u001b[1;32mc:\\Users\\mchinchilla\\AppData\\Local\\Programs\\Python\\Python311\\Lib\\site-packages\\pandas\\util\\_decorators.py:211\u001b[0m, in \u001b[0;36mdeprecate_kwarg.<locals>._deprecate_kwarg.<locals>.wrapper\u001b[1;34m(*args, **kwargs)\u001b[0m\n\u001b[0;32m    209\u001b[0m     \u001b[39melse\u001b[39;00m:\n\u001b[0;32m    210\u001b[0m         kwargs[new_arg_name] \u001b[39m=\u001b[39m new_arg_value\n\u001b[1;32m--> 211\u001b[0m \u001b[39mreturn\u001b[39;00m func(\u001b[39m*\u001b[39;49margs, \u001b[39m*\u001b[39;49m\u001b[39m*\u001b[39;49mkwargs)\n",
      "File \u001b[1;32mc:\\Users\\mchinchilla\\AppData\\Local\\Programs\\Python\\Python311\\Lib\\site-packages\\pandas\\util\\_decorators.py:211\u001b[0m, in \u001b[0;36mdeprecate_kwarg.<locals>._deprecate_kwarg.<locals>.wrapper\u001b[1;34m(*args, **kwargs)\u001b[0m\n\u001b[0;32m    209\u001b[0m     \u001b[39melse\u001b[39;00m:\n\u001b[0;32m    210\u001b[0m         kwargs[new_arg_name] \u001b[39m=\u001b[39m new_arg_value\n\u001b[1;32m--> 211\u001b[0m \u001b[39mreturn\u001b[39;00m func(\u001b[39m*\u001b[39;49margs, \u001b[39m*\u001b[39;49m\u001b[39m*\u001b[39;49mkwargs)\n",
      "File \u001b[1;32mc:\\Users\\mchinchilla\\AppData\\Local\\Programs\\Python\\Python311\\Lib\\site-packages\\pandas\\core\\generic.py:2374\u001b[0m, in \u001b[0;36mNDFrame.to_excel\u001b[1;34m(self, excel_writer, sheet_name, na_rep, float_format, columns, header, index, index_label, startrow, startcol, engine, merge_cells, encoding, inf_rep, verbose, freeze_panes, storage_options)\u001b[0m\n\u001b[0;32m   2361\u001b[0m \u001b[39mfrom\u001b[39;00m \u001b[39mpandas\u001b[39;00m\u001b[39m.\u001b[39;00m\u001b[39mio\u001b[39;00m\u001b[39m.\u001b[39;00m\u001b[39mformats\u001b[39;00m\u001b[39m.\u001b[39;00m\u001b[39mexcel\u001b[39;00m \u001b[39mimport\u001b[39;00m ExcelFormatter\n\u001b[0;32m   2363\u001b[0m formatter \u001b[39m=\u001b[39m ExcelFormatter(\n\u001b[0;32m   2364\u001b[0m     df,\n\u001b[0;32m   2365\u001b[0m     na_rep\u001b[39m=\u001b[39mna_rep,\n\u001b[1;32m   (...)\u001b[0m\n\u001b[0;32m   2372\u001b[0m     inf_rep\u001b[39m=\u001b[39minf_rep,\n\u001b[0;32m   2373\u001b[0m )\n\u001b[1;32m-> 2374\u001b[0m formatter\u001b[39m.\u001b[39;49mwrite(\n\u001b[0;32m   2375\u001b[0m     excel_writer,\n\u001b[0;32m   2376\u001b[0m     sheet_name\u001b[39m=\u001b[39;49msheet_name,\n\u001b[0;32m   2377\u001b[0m     startrow\u001b[39m=\u001b[39;49mstartrow,\n\u001b[0;32m   2378\u001b[0m     startcol\u001b[39m=\u001b[39;49mstartcol,\n\u001b[0;32m   2379\u001b[0m     freeze_panes\u001b[39m=\u001b[39;49mfreeze_panes,\n\u001b[0;32m   2380\u001b[0m     engine\u001b[39m=\u001b[39;49mengine,\n\u001b[0;32m   2381\u001b[0m     storage_options\u001b[39m=\u001b[39;49mstorage_options,\n\u001b[0;32m   2382\u001b[0m )\n",
      "File \u001b[1;32mc:\\Users\\mchinchilla\\AppData\\Local\\Programs\\Python\\Python311\\Lib\\site-packages\\pandas\\io\\formats\\excel.py:950\u001b[0m, in \u001b[0;36mExcelFormatter.write\u001b[1;34m(self, writer, sheet_name, startrow, startcol, freeze_panes, engine, storage_options)\u001b[0m\n\u001b[0;32m    947\u001b[0m     need_save \u001b[39m=\u001b[39m \u001b[39mTrue\u001b[39;00m\n\u001b[0;32m    949\u001b[0m \u001b[39mtry\u001b[39;00m:\n\u001b[1;32m--> 950\u001b[0m     writer\u001b[39m.\u001b[39;49m_write_cells(\n\u001b[0;32m    951\u001b[0m         formatted_cells,\n\u001b[0;32m    952\u001b[0m         sheet_name,\n\u001b[0;32m    953\u001b[0m         startrow\u001b[39m=\u001b[39;49mstartrow,\n\u001b[0;32m    954\u001b[0m         startcol\u001b[39m=\u001b[39;49mstartcol,\n\u001b[0;32m    955\u001b[0m         freeze_panes\u001b[39m=\u001b[39;49mfreeze_panes,\n\u001b[0;32m    956\u001b[0m     )\n\u001b[0;32m    957\u001b[0m \u001b[39mfinally\u001b[39;00m:\n\u001b[0;32m    958\u001b[0m     \u001b[39m# make sure to close opened file handles\u001b[39;00m\n\u001b[0;32m    959\u001b[0m     \u001b[39mif\u001b[39;00m need_save:\n",
      "File \u001b[1;32mc:\\Users\\mchinchilla\\AppData\\Local\\Programs\\Python\\Python311\\Lib\\site-packages\\pandas\\io\\excel\\_xlsxwriter.py:289\u001b[0m, in \u001b[0;36mXlsxWriter._write_cells\u001b[1;34m(self, cells, sheet_name, startrow, startcol, freeze_panes)\u001b[0m\n\u001b[0;32m    280\u001b[0m     wks\u001b[39m.\u001b[39mmerge_range(\n\u001b[0;32m    281\u001b[0m         startrow \u001b[39m+\u001b[39m cell\u001b[39m.\u001b[39mrow,\n\u001b[0;32m    282\u001b[0m         startcol \u001b[39m+\u001b[39m cell\u001b[39m.\u001b[39mcol,\n\u001b[1;32m   (...)\u001b[0m\n\u001b[0;32m    286\u001b[0m         style,\n\u001b[0;32m    287\u001b[0m     )\n\u001b[0;32m    288\u001b[0m \u001b[39melse\u001b[39;00m:\n\u001b[1;32m--> 289\u001b[0m     wks\u001b[39m.\u001b[39;49mwrite(startrow \u001b[39m+\u001b[39;49m cell\u001b[39m.\u001b[39;49mrow, startcol \u001b[39m+\u001b[39;49m cell\u001b[39m.\u001b[39;49mcol, val, style)\n",
      "File \u001b[1;32mc:\\Users\\mchinchilla\\AppData\\Local\\Programs\\Python\\Python311\\Lib\\site-packages\\xlsxwriter\\worksheet.py:81\u001b[0m, in \u001b[0;36mconvert_cell_args.<locals>.cell_wrapper\u001b[1;34m(self, *args, **kwargs)\u001b[0m\n\u001b[0;32m     74\u001b[0m \u001b[39mdef\u001b[39;00m \u001b[39mconvert_cell_args\u001b[39m(method):\n\u001b[0;32m     75\u001b[0m \u001b[39m    \u001b[39m\u001b[39m\"\"\"\u001b[39;00m\n\u001b[0;32m     76\u001b[0m \u001b[39m    Decorator function to convert A1 notation in cell method calls\u001b[39;00m\n\u001b[0;32m     77\u001b[0m \u001b[39m    to the default row/col notation.\u001b[39;00m\n\u001b[0;32m     78\u001b[0m \n\u001b[0;32m     79\u001b[0m \u001b[39m    \"\"\"\u001b[39;00m\n\u001b[1;32m---> 81\u001b[0m     \u001b[39m@wraps\u001b[39m(method)\n\u001b[0;32m     82\u001b[0m     \u001b[39mdef\u001b[39;00m \u001b[39mcell_wrapper\u001b[39m(\u001b[39mself\u001b[39m, \u001b[39m*\u001b[39margs, \u001b[39m*\u001b[39m\u001b[39m*\u001b[39mkwargs):\n\u001b[0;32m     83\u001b[0m         \u001b[39mtry\u001b[39;00m:\n\u001b[0;32m     84\u001b[0m             \u001b[39m# First arg is an int, default to row/col notation.\u001b[39;00m\n\u001b[0;32m     85\u001b[0m             \u001b[39mif\u001b[39;00m args:\n",
      "\u001b[1;31mKeyboardInterrupt\u001b[0m: "
     ]
    }
   ],
   "source": [
    "process_general_data()"
   ]
  }
 ],
 "metadata": {
  "kernelspec": {
   "display_name": "Python 3",
   "language": "python",
   "name": "python3"
  },
  "language_info": {
   "codemirror_mode": {
    "name": "ipython",
    "version": 3
   },
   "file_extension": ".py",
   "mimetype": "text/x-python",
   "name": "python",
   "nbconvert_exporter": "python",
   "pygments_lexer": "ipython3",
   "version": "3.11.2"
  },
  "orig_nbformat": 4
 },
 "nbformat": 4,
 "nbformat_minor": 2
}
