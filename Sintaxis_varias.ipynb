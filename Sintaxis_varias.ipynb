{
 "cells": [
  {
   "cell_type": "code",
   "execution_count": null,
   "metadata": {},
   "outputs": [],
   "source": [
    "import pandas as pd\n",
    "import re\n",
    "import os\n",
    "import numpy as np\n",
    "\n",
    "df = pd.read_spss(\"BasePrueba.sav\")\n",
    "expresiones = pd.read_excel(\"Expresiones.xlsx\")"
   ]
  },
  {
   "cell_type": "code",
   "execution_count": null,
   "metadata": {},
   "outputs": [],
   "source": [
    "def leer_condicion(condition):\n",
    "    # Para las columnas de texto, busca patrones del tipo 'variable = (vacío)' o 'variable no es (vacío)'\n",
    "    text_var_pattern = r'(\\w+)\\s*(==|!=)\\s*\\((vacío|vacio)\\)'\n",
    "    text_var_matches = re.findall(text_var_pattern, condition)\n",
    "\n",
    "    for var, op in text_var_matches:\n",
    "        if op == '==':\n",
    "            condition = condition.replace(f'{var} {op} (vacío)', f'{var} == \"\"')\n",
    "            condition = condition.replace(f'{var} {op} (vacio)', f'{var} == \"\"')\n",
    "        elif op == '!=':\n",
    "            condition = condition.replace(f'{var} {op} (vacío)', f'{var} != \"\"')\n",
    "            condition = condition.replace(f'{var} {op} (vacio)', f'{var} != \"\"')\n",
    "\n",
    "    # Reemplaza los símbolos y frases con su equivalente en Python\n",
    "    condition = condition.replace('<=', '<=')\n",
    "    condition = condition.replace('=', '==').replace('<>', '!=').replace(\">==\", \">=\").replace(\"<==\",\"<=\").replace(\"Y\", \"y\")\n",
    "    condition = condition.replace(' y ', ' & ').replace(' o ', ' | ').replace('NO ESTA EN', 'not in')\n",
    "\n",
    "    # Para las demás columnas, asume que son numéricas y reemplaza 'no es (vacío)' por '!= np.nan' y 'es (vacío)' por '== np.nan'\n",
    "    condition = condition.replace(' no es (vacío)', '!=\"NaN\"')\n",
    "    condition = condition.replace(' no es vacío', '!=\"NaN\"')\n",
    "    condition = condition.replace(' es (vacío)', '==\"NaN\"')\n",
    "    condition = condition.replace(' es vacío', '==\"NaN\"')\n",
    "\n",
    "    condition = condition.replace(\"NA\", 'np.nan')\n",
    "\n",
    "    # Reemplaza las comparaciones entre variables para que sean legibles en Python\n",
    "    condition = re.sub(r'(\\w+)\\s*(<=|>=|<|>|==|!=)\\s*(\\w+)', r'\\1 \\2 \\3', condition)\n",
    "\n",
    "    # Si \"está en\" se encuentra en la condición, lo reemplaza por la sintaxis correcta en Python\n",
    "    if \"está en\" in condition:\n",
    "        condition = re.sub(r'(\\w+)\\s+está en\\s+(\\(.*?\\))', r'\\1 in \\2', condition)\n",
    "    \n",
    "    # Agrega paréntesis alrededor de la condición\n",
    "    condition = '(' + condition + ')'\n",
    "    return condition\n",
    "\n",
    "\n",
    "# Función para filtrar base de datos dada una query\n",
    "def filter_base(conditions):\n",
    "    global df\n",
    "    filter = leer_condicion(conditions)\n",
    "    df_filtered = df.query(filter, local_dict={'np': np})\n",
    "    return df_filtered\n"
   ]
  },
  {
   "cell_type": "code",
   "execution_count": null,
   "metadata": {},
   "outputs": [],
   "source": [
    "#leer_condicion(\"PPA03 < 7 y P09A01A es (vacío) | P09A01B es (vacío) |  P09A01C es (vacío) | P09A02A es (vacío) | P09A02B es (vacío) | P09A02C es vacío | P09A03A es vacío | P09A03B es (vacío) |  P09A03C es (vacío) | P09A04A es (vacío) | P09A04B es (vacío) | P09A04C es (vacío) | P09A05A es (vacío) | P09A05B es (vacío) | P09A05C es (vacío)\")\n",
    "filter_base(\"PPA03 < 7 y P09A01A es (vacío) | P09A01B es (vacío) |  P09A01C es (vacío) | P09A02A es (vacío) | P09A02B es (vacío) | P09A02C es vacío | P09A03A es vacío | P09A03B es (vacío) |  P09A03C es (vacío) | P09A04A es (vacío) | P09A04B es (vacío) | P09A04C es (vacío) | P09A05A es (vacío) | P09A05B es (vacío) | P09A05C es (vacío)\")"
   ]
  },
  {
   "cell_type": "code",
   "execution_count": null,
   "metadata": {},
   "outputs": [],
   "source": [
    "# Función para devolver inconsistencias dado un analista, capitulo, seccion en especifico\n",
    "def process_specific_data(capitulo, seccion, analista):\n",
    "    global expresiones\n",
    "    try:        \n",
    "        # Crear lista con expresiones para filtrar\n",
    "        expressions = list(expresiones[(expresiones[\"Analista\"] == analista) & (expresiones[\"Capítulo\"] == capitulo) & (expresiones[\"Sección\"] == seccion)][\"Condición o Criterio\"])\n",
    "        \n",
    "        # Crear archivo tipo ExcelWriter para exportar en diferentes pestañas\n",
    "        writer = pd.ExcelWriter(\"C{}S{}.xlsx\".format(capitulo,seccion))\n",
    "        \n",
    "        # Leer filtros y tomar subconjuntos de la base\n",
    "        for i in range(len(expressions)):\n",
    "            try:\n",
    "                Validacion = filter_base(expressions[i])  # Aplicar filtro a la base de datos\n",
    "                sheet_name = \"S{}V{}\".format(capitulo, seccion, i)  # Generar el nombre de la hoja\n",
    "                Validacion.to_excel(writer, sheet_name=sheet_name)  # Exportar subconjunto de datos a una hoja de Excel\n",
    "            except Exception as e:\n",
    "                print(f\"Error al procesar la expresión {expressions[i]}: {e}\")  # Manejar error específico de una expresión\n",
    "\n",
    "        writer.save()  # Guardar el archivo de Excel con las hojas generadas\n",
    "        print(\"Proceso completado exitosamente.\")  # Indicar que el proceso ha finalizado con éxito\n",
    "    \n",
    "    except Exception as e:\n",
    "        print(f\"Error general: {e}\")  # Manejar error general en caso de problemas durante el proceso\n",
    "\n"
   ]
  },
  {
   "cell_type": "code",
   "execution_count": null,
   "metadata": {},
   "outputs": [],
   "source": [
    "# Funcion de lectura de expresiones generales\n",
    "def process_general_data():\n",
    "    global df, expresiones\n",
    "    try:\n",
    "        grouped = expresiones.groupby([\"Capítulo\", \"Sección\"])\n",
    "\n",
    "        # Crear lista con expresiones para filtrar\n",
    "        tuplas_chap_sec = [(name[0], name[1]) for name, _ in grouped]\n",
    "\n",
    "        # Leer filtros y tomar subconjuntos de la base\n",
    "        for capitulo, seccion in tuplas_chap_sec:\n",
    "            # Crear carpeta por capitulo\n",
    "            folder_name = \"C{}\".format(capitulo)\n",
    "            ruta_carpeta = os.path.join(os.getcwd(), folder_name)\n",
    "            if not os.path.exists(ruta_carpeta):\n",
    "                os.mkdir(ruta_carpeta)\n",
    "            conditions = list(expresiones[(expresiones[\"Capítulo\"] == capitulo) & (expresiones[\"Sección\"] == seccion)][\"Condición o Criterio\"])\n",
    "            for condition in conditions:\n",
    "                try:\n",
    "                    Validacion = filter_base(condition)  # Aplicar filtro a la base de datos\n",
    "                    sheet_name = \"S{}V{}\".format(seccion, conditions.index(condition))  # Generar el nombre de la hoja\n",
    "                    filename = os.path.join(ruta_carpeta, \"S{}.xlsx\".format(seccion))  # Crea la ruta completa al archivo\n",
    "                    Validacion.to_excel(filename, sheet_name=sheet_name)  # Exportar subconjunto de datos a una hoja de Excel\n",
    "                except Exception as e:\n",
    "                    print(f\"Error al procesar la expresión {condition}: {e}\")  # Manejar error específico de una expresión\n",
    "\n",
    "    except Exception as e:\n",
    "        print(f\"Error general: {e}\")  # Manejar error general en caso de problemas durante el proceso"
   ]
  },
  {
   "cell_type": "code",
   "execution_count": null,
   "metadata": {},
   "outputs": [],
   "source": [
    "process_general_data()"
   ]
  },
  {
   "cell_type": "code",
   "execution_count": null,
   "metadata": {},
   "outputs": [],
   "source": []
  }
 ],
 "metadata": {
  "kernelspec": {
   "display_name": "Python 3",
   "language": "python",
   "name": "python3"
  },
  "language_info": {
   "codemirror_mode": {
    "name": "ipython",
    "version": 3
   },
   "file_extension": ".py",
   "mimetype": "text/x-python",
   "name": "python",
   "nbconvert_exporter": "python",
   "pygments_lexer": "ipython3",
   "version": "3.10.7"
  },
  "orig_nbformat": 4
 },
 "nbformat": 4,
 "nbformat_minor": 2
}
