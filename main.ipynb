{
 "cells": [
  {
   "cell_type": "code",
   "execution_count": 1,
   "metadata": {},
   "outputs": [],
   "source": [
    "import pandas as pd\n",
    "from INEvalidador import Validador\n",
    "from INEvalidador.conexionSQL import baseSQL\n",
    "import re\n",
    "import datetime\n",
    "import dask.dataframe as dd\n",
    "import os \n",
    "\n",
    "conexion_sql = baseSQL()"
   ]
  },
  {
   "cell_type": "code",
   "execution_count": 2,
   "metadata": {},
   "outputs": [],
   "source": [
    "# Función que obtenga la primera variable en la validación para poder identificar qué pasa usará\n",
    "def identificar_variable(condicion: str):\n",
    "    variable = re.findall(r'^\\s*([A-Za-z_][A-Za-z\\d_]*)\\s*[<>!=]*', condicion, re.MULTILINE)\n",
    "    return variable"
   ]
  },
  {
   "cell_type": "code",
   "execution_count": 3,
   "metadata": {},
   "outputs": [],
   "source": [
    "# Función para convertirlas todas las columnas de la base a mayuscula\n",
    "def columnas_a_mayuscula(tabla:str):\n",
    "    base = pd.read_feather(tabla)\n",
    "    columnas_originales = base.columns\n",
    "    columnas_nuevas = []\n",
    "    for columna in columnas_originales:\n",
    "        col = columna.upper()\n",
    "        columnas_nuevas.append(col)\n",
    "    diccionario = dict(zip(columnas_originales, columnas_nuevas))\n",
    "    base = base.rename(columns=diccionario)\n",
    "    return base"
   ]
  },
  {
   "cell_type": "code",
   "execution_count": 4,
   "metadata": {},
   "outputs": [],
   "source": [
    "def clasificar_validaciones(condiciones:str, bases:list):\n",
    "    validaciones = pd.read_excel(condiciones)\n",
    "    df1 = columnas_a_mayuscula(bases[0])\n",
    "    df2 = columnas_a_mayuscula(bases[1])\n",
    "    df3 = columnas_a_mayuscula(bases[2])\n",
    "    for validacion in list(validaciones[\"Condición o Criterio\"]):\n",
    "        # Asegurarse de que validacion sea una cadena\n",
    "        validacion_str = str(validacion)\n",
    "        var = identificar_variable(validacion_str)\n",
    "        if var in list(df1.columns):\n",
    "            validacion[\"Base_a_usar\"] = 1\n",
    "        if var in list(df2.columns):\n",
    "            validacion[\"Base_a_usar\"] = 2\n",
    "        if var in list(df3.columns):\n",
    "            validacion[\"Base_a_usar\"] = 3\n",
    "    for i in range(len(bases)):\n",
    "        validaciones[validaciones[\"Base_a_usar\"] == i].to_excel(f\"ExpresionesBase{i}.xlsx\")\n"
   ]
  },
  {
   "cell_type": "code",
   "execution_count": 5,
   "metadata": {},
   "outputs": [],
   "source": [
    "def main(condiciones, bases: list=[\"Bases/Ronda1/personas.feather\",\"Bases/Ronda1/HogaresRonda1.feather\",\"Bases/Ronda2/HogaresRonda2.feather\"]):\n",
    "    conexion_sql.obtener_datos()\n",
    "    clasificar_validaciones(condiciones,bases)\n",
    "    marca_temp = datetime.now().strftime(\"%Y%m%d%H%M%S\")\n",
    "    carpeta_padre = \"Inconsistencias_{}\".format(marca_temp)\n",
    "    for i in range(len(bases)):\n",
    "        validador = Validador(bases[i],f'ExpresionesBase{i}.xlsx')\n",
    "        validador.process_to_export(f'Parte{i}')\n",
    "    dfs = []\n",
    "    for i in range(len(bases)):\n",
    "        dfs.append(pd.read_excel(f'ExpresionesBase{i}.xlsx'))\n",
    "    df_exportacion = pd.concat(dfs)\n",
    "    df_exportacion.to_excel(os.path.join(carpeta_padre, f'Inconsistencias.xlsx'),index=False)"
   ]
  },
  {
   "cell_type": "code",
   "execution_count": 6,
   "metadata": {},
   "outputs": [
    {
     "ename": "NameError",
     "evalue": "name 'dd' is not defined",
     "output_type": "error",
     "traceback": [
      "\u001b[1;31m---------------------------------------------------------------------------\u001b[0m",
      "\u001b[1;31mNameError\u001b[0m                                 Traceback (most recent call last)",
      "Cell \u001b[1;32mIn[6], line 1\u001b[0m\n\u001b[1;32m----> 1\u001b[0m main(\u001b[39m\"\u001b[39;49m\u001b[39mExpresiones.xlsx\u001b[39;49m\u001b[39m\"\u001b[39;49m)\n",
      "Cell \u001b[1;32mIn[5], line 2\u001b[0m, in \u001b[0;36mmain\u001b[1;34m(condiciones, bases)\u001b[0m\n\u001b[0;32m      1\u001b[0m \u001b[39mdef\u001b[39;00m \u001b[39mmain\u001b[39m(condiciones, bases: \u001b[39mlist\u001b[39m\u001b[39m=\u001b[39m[\u001b[39m\"\u001b[39m\u001b[39mBases/Ronda1/personas.feather\u001b[39m\u001b[39m\"\u001b[39m,\u001b[39m\"\u001b[39m\u001b[39mBases/Ronda1/HogaresRonda1.feather\u001b[39m\u001b[39m\"\u001b[39m,\u001b[39m\"\u001b[39m\u001b[39mBases/Ronda2/HogaresRonda2.feather\u001b[39m\u001b[39m\"\u001b[39m]):\n\u001b[1;32m----> 2\u001b[0m     conexion_sql\u001b[39m.\u001b[39;49mobtener_datos()\n\u001b[0;32m      3\u001b[0m     clasificar_validaciones(condiciones,bases)\n\u001b[0;32m      4\u001b[0m     marca_temp \u001b[39m=\u001b[39m datetime\u001b[39m.\u001b[39mnow()\u001b[39m.\u001b[39mstrftime(\u001b[39m\"\u001b[39m\u001b[39m%\u001b[39m\u001b[39mY\u001b[39m\u001b[39m%\u001b[39m\u001b[39mm\u001b[39m\u001b[39m%d\u001b[39;00m\u001b[39m%\u001b[39m\u001b[39mH\u001b[39m\u001b[39m%\u001b[39m\u001b[39mM\u001b[39m\u001b[39m%\u001b[39m\u001b[39mS\u001b[39m\u001b[39m\"\u001b[39m)\n",
      "File \u001b[1;32mc:\\Users\\mchinchilla\\Documents\\GitHub\\INE_ValidacionENCOVI\\INEvalidador\\conexionSQL.py:75\u001b[0m, in \u001b[0;36mbaseSQL.obtener_datos\u001b[1;34m(self)\u001b[0m\n\u001b[0;32m     73\u001b[0m     \u001b[39mif\u001b[39;00m arch \u001b[39m!=\u001b[39m \u001b[39m'\u001b[39m\u001b[39maudio_pr.feather\u001b[39m\u001b[39m'\u001b[39m \u001b[39mand\u001b[39;00m arch \u001b[39m!=\u001b[39m \u001b[39m'\u001b[39m\u001b[39mpersonas.feather\u001b[39m\u001b[39m'\u001b[39m \u001b[39mand\u001b[39;00m arch \u001b[39m!=\u001b[39m \u001b[39m\"\u001b[39m\u001b[39mcspro_meta.feather\u001b[39m\u001b[39m\"\u001b[39m \u001b[39mand\u001b[39;00m arch \u001b[39m!=\u001b[39m \u001b[39m\"\u001b[39m\u001b[39mcspro_jobs.feather\u001b[39m\u001b[39m\"\u001b[39m \u001b[39mand\u001b[39;00m arch \u001b[39m!=\u001b[39m \u001b[39m\"\u001b[39m\u001b[39mnotes.feather\u001b[39m\u001b[39m\"\u001b[39m \u001b[39mand\u001b[39;00m arch \u001b[39m!=\u001b[39m \u001b[39m\"\u001b[39m\u001b[39mcases.feather\u001b[39m\u001b[39m\"\u001b[39m:\n\u001b[0;32m     74\u001b[0m         df \u001b[39m=\u001b[39m pd\u001b[39m.\u001b[39mread_feather(ruta \u001b[39m+\u001b[39m \u001b[39m\"\u001b[39m\u001b[39m/\u001b[39m\u001b[39m\"\u001b[39m \u001b[39m+\u001b[39m arch)\n\u001b[1;32m---> 75\u001b[0m         bases\u001b[39m.\u001b[39mappend(dd\u001b[39m.\u001b[39mfrom_pandas(df, npartitions\u001b[39m=\u001b[39m\u001b[39m5\u001b[39m))\n\u001b[0;32m     76\u001b[0m db_hogares1 \u001b[39m=\u001b[39m bases[\u001b[39m0\u001b[39m]\n\u001b[0;32m     77\u001b[0m \u001b[39mfor\u001b[39;00m base \u001b[39min\u001b[39;00m bases[\u001b[39m1\u001b[39m:]:\n",
      "\u001b[1;31mNameError\u001b[0m: name 'dd' is not defined"
     ]
    }
   ],
   "source": [
    "main(\"Expresiones.xlsx\")"
   ]
  }
 ],
 "metadata": {
  "kernelspec": {
   "display_name": "Python 3",
   "language": "python",
   "name": "python3"
  },
  "language_info": {
   "codemirror_mode": {
    "name": "ipython",
    "version": 3
   },
   "file_extension": ".py",
   "mimetype": "text/x-python",
   "name": "python",
   "nbconvert_exporter": "python",
   "pygments_lexer": "ipython3",
   "version": "3.11.2"
  },
  "orig_nbformat": 4
 },
 "nbformat": 4,
 "nbformat_minor": 2
}
