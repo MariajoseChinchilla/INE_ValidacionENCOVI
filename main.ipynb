{
 "cells": [
  {
   "cell_type": "code",
   "execution_count": null,
   "metadata": {},
   "outputs": [],
   "source": [
    "import pandas as pd\n",
    "from INEvalidador import Validador\n",
    "from INEvalidador.conexionSQL import baseSQL\n",
    "import re\n",
    "import datetime\n",
    "import dask.dataframe as dd\n",
    "import os \n",
    "\n",
    "conexion_sql = baseSQL()"
   ]
  },
  {
   "cell_type": "code",
   "execution_count": null,
   "metadata": {},
   "outputs": [],
   "source": [
    "# Función que obtenga la primera variable en la validación para poder identificar qué pasa usará\n",
    "def identificar_variable(condicion: str):\n",
    "    variable = re.findall(r'^\\s*([A-Za-z_][A-Za-z\\d_]*)\\s*[<>!=]*', condicion, re.MULTILINE)\n",
    "    return variable"
   ]
  },
  {
   "cell_type": "code",
   "execution_count": null,
   "metadata": {},
   "outputs": [],
   "source": [
    "# Función para convertirlas todas las columnas de la base a mayuscula\n",
    "def columnas_a_mayuscula(tabla:str):\n",
    "    base = pd.read_feather(tabla)\n",
    "    columnas_originales = base.columns\n",
    "    columnas_nuevas = []\n",
    "    for columna in columnas_originales:\n",
    "        col = columna.upper()\n",
    "        columnas_nuevas.append(col)\n",
    "    diccionario = dict(zip(columnas_originales, columnas_nuevas))\n",
    "    base = base.rename(columns=diccionario)\n",
    "    return base"
   ]
  },
  {
   "cell_type": "code",
   "execution_count": null,
   "metadata": {},
   "outputs": [],
   "source": [
    "def clasificar_validaciones(condiciones:str, bases:list):\n",
    "    validaciones = pd.read_excel(condiciones)\n",
    "    df1 = columnas_a_mayuscula(bases[0])\n",
    "    df2 = columnas_a_mayuscula(bases[1])\n",
    "    df3 = columnas_a_mayuscula(bases[2])\n",
    "    for validacion in list(validaciones[\"Condición o Criterio\"]):\n",
    "        # Asegurarse de que validacion sea una cadena\n",
    "        validacion_str = str(validacion)\n",
    "        var = identificar_variable(validacion_str)\n",
    "        if var in list(df1.columns):\n",
    "            validacion[\"Base_a_usar\"] = 1\n",
    "        if var in list(df2.columns):\n",
    "            validacion[\"Base_a_usar\"] = 2\n",
    "        if var in list(df3.columns):\n",
    "            validacion[\"Base_a_usar\"] = 3\n",
    "    for i in range(len(bases)):\n",
    "        validaciones[validaciones[\"Base_a_usar\"] == i].to_excel(f\"ExpresionesBase{i}.xlsx\")\n"
   ]
  },
  {
   "cell_type": "code",
   "execution_count": null,
   "metadata": {},
   "outputs": [],
   "source": [
    "def main(condiciones, bases: list=[\"Bases/Ronda1/personas.feather\",\"Bases/Ronda1/HogaresRonda1.feather\",\"Bases/Ronda2/HogaresRonda2.feather\"]):\n",
    "    conexion_sql.obtener_datos()\n",
    "    clasificar_validaciones(condiciones,bases)\n",
    "    marca_temp = datetime.now().strftime(\"%Y%m%d%H%M%S\")\n",
    "    carpeta_padre = \"Inconsistencias_{}\".format(marca_temp)\n",
    "    for i in range(len(bases)):\n",
    "        validador = Validador(bases[i],f'ExpresionesBase{i}.xlsx')\n",
    "        validador.process_to_export(f'Parte{i}')\n",
    "    dfs = []\n",
    "    for i in range(len(bases)):\n",
    "        dfs.append(pd.read_excel(f'ExpresionesBase{i}.xlsx'))\n",
    "    df_exportacion = pd.concat(dfs)\n",
    "    df_exportacion.to_excel(os.path.join(carpeta_padre, f'Inconsistencias.xlsx'),index=False)"
   ]
  },
  {
   "cell_type": "code",
   "execution_count": null,
   "metadata": {},
   "outputs": [],
   "source": [
    "main(\"Expresiones.xlsx\")"
   ]
  },
  {
   "cell_type": "code",
   "execution_count": null,
   "metadata": {},
   "outputs": [],
   "source": [
    "# Función para convertirlas todas las columnas de la base a mayuscula\n",
    "def columnas_a_mayuscula(df: pd.DataFrame):\n",
    "    columnas_originales = df.columns\n",
    "    columnas_nuevas = []\n",
    "    for columna in columnas_originales:\n",
    "        col = columna.upper()\n",
    "        columnas_nuevas.append(col)\n",
    "    diccionario = dict(zip(columnas_originales, columnas_nuevas))\n",
    "    df = df.rename(columns=diccionario)\n",
    "    return df"
   ]
  },
  {
   "cell_type": "code",
   "execution_count": null,
   "metadata": {},
   "outputs": [],
   "source": [
    "import os\n",
    "import pandas as pd\n",
    "\n",
    "# Diccionario para almacenar los nombres de los archivos y las columnas\n",
    "columnas_por_archivo = {}\n",
    "\n",
    "# Directorio donde se encuentran los archivos Feather\n",
    "directorio = 'db'\n",
    "\n",
    "# Recorre todos los archivos en el directorio especificado\n",
    "for archivo in os.listdir(directorio):\n",
    "    if archivo.endswith('.feather'):  # Verifica si el archivo es un archivo Feather\n",
    "        ruta_completa = os.path.join(directorio, archivo)\n",
    "        try:\n",
    "            # Lee el archivo Feather\n",
    "            df = pd.read_feather(ruta_completa)\n",
    "            df = columnas_a_mayuscula(df)\n",
    "            \n",
    "            # Obtiene las columnas del DataFrame\n",
    "            columnas = df.columns.tolist()\n",
    "\n",
    "            \n",
    "            # Agrega el nombre del archivo y las columnas al diccionario\n",
    "            columnas_por_archivo[archivo] = columnas\n",
    "        except Exception as e:\n",
    "            print(f\"Error al leer el archivo {archivo}: {str(e)}\")\n",
    "\n",
    "# Muestra el diccionario con los nombres de los archivos y las columnas\n",
    "columnas_por_archivo\n"
   ]
  },
  {
   "cell_type": "code",
   "execution_count": null,
   "metadata": {},
   "outputs": [],
   "source": [
    "df_col = conexion_sql.base_df_col"
   ]
  },
  {
   "cell_type": "code",
   "execution_count": null,
   "metadata": {},
   "outputs": [],
   "source": [
    "variables = ['']"
   ]
  }
 ],
 "metadata": {
  "kernelspec": {
   "display_name": "Python 3",
   "language": "python",
   "name": "python3"
  },
  "language_info": {
   "codemirror_mode": {
    "name": "ipython",
    "version": 3
   },
   "file_extension": ".py",
   "mimetype": "text/x-python",
   "name": "python",
   "nbconvert_exporter": "python",
   "pygments_lexer": "ipython3",
   "version": "3.11.2"
  },
  "orig_nbformat": 4
 },
 "nbformat": 4,
 "nbformat_minor": 2
}
