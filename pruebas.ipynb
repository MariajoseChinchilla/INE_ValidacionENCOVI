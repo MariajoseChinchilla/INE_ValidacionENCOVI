{
 "cells": [
  {
   "cell_type": "code",
   "execution_count": 1,
   "metadata": {},
   "outputs": [],
   "source": [
    "from INEvalidador import Validador\n",
    "from INEvalidador.automarizador_drive import subir_a_drive\n",
    "validador = Validador(descargar=False)"
   ]
  },
  {
   "cell_type": "code",
   "execution_count": 2,
   "metadata": {},
   "outputs": [
    {
     "name": "stderr",
     "output_type": "stream",
     "text": [
      "100%|██████████| 478/478 [03:10<00:00,  2.51condicion/s]\n"
     ]
    },
    {
     "name": "stdout",
     "output_type": "stream",
     "text": [
      "[conflicted] Will prefer dplyr::filter over any other package.\n",
      "\fSe ha creado la carpeta: Salidas_Finales/Salidas26-08-10-55-28\n"
     ]
    }
   ],
   "source": [
    "# Para validar datos de la ENCOVI, ejecuta las funciones validar_encuesta() y cuando corresponda, la función subir_a_drive\n",
    "validador.validar_encuesta(fecha_inicio=\"2023-8-22\", fecha_final=\"2023-8-26\")"
   ]
  },
  {
   "cell_type": "code",
   "execution_count": 2,
   "metadata": {},
   "outputs": [
    {
     "name": "stdout",
     "output_type": "stream",
     "text": [
      "No se encontró archivo para el grupo 1. Pasando al siguiente grupo.\n",
      "No se encontró archivo para el grupo 2. Pasando al siguiente grupo.\n",
      "Archivo Salidas_Finales/Salidas26-08-10-55-28\\InconsistenciasGRUPO3.xlsx_26-08-10-55-28.xlsx subido correctamente con ID: 1PbwDaZjDwhFlB50GHlMKglBnQDpOIKXt\n",
      "No se encontró archivo para el grupo 4. Pasando al siguiente grupo.\n",
      "Archivo Salidas_Finales/Salidas26-08-10-55-28\\InconsistenciasGRUPO5.xlsx_26-08-10-55-28.xlsx subido correctamente con ID: 1UOjrs-Ah1KU8kHdS4_b4kauirMdovqT3\n",
      "Archivo Salidas_Finales/Salidas26-08-10-55-28\\InconsistenciasGRUPO6.xlsx_26-08-10-55-28.xlsx subido correctamente con ID: 1k0FFLQ5ZPglu1SM5Q-O-pu7OsguqRW0K\n",
      "No se encontró archivo para el grupo 7. Pasando al siguiente grupo.\n",
      "Archivo Salidas_Finales/Salidas26-08-10-55-28\\InconsistenciasGRUPO8.xlsx_26-08-10-55-28.xlsx subido correctamente con ID: 1tqAvogQf9ugr17SYXFswVG_nxqsi3NTB\n",
      "Archivo Salidas_Finales/Salidas26-08-10-55-28\\InconsistenciasGRUPO9.xlsx_26-08-10-55-28.xlsx subido correctamente con ID: 1TH21yo_3btHW17vOCXeJ_BD9mpMUrBLc\n",
      "Archivo Salidas_Finales/Salidas26-08-10-55-28\\InconsistenciasGRUPO10.xlsx_26-08-10-55-28.xlsx subido correctamente con ID: 1VfkA6yBx_RV3aFh9mOoU_TsvpeNqaclT\n",
      "Archivo Salidas_Finales/Salidas26-08-10-55-28\\InconsistenciasGRUPO11.xlsx_26-08-10-55-28.xlsx subido correctamente con ID: 1i01RCYE154iQSvK0a1sKVBtgLIRd2GvR\n",
      "Archivo Salidas_Finales/Salidas26-08-10-55-28\\InconsistenciasGRUPO12.xlsx_26-08-10-55-28.xlsx subido correctamente con ID: 1ENUgJco6_jdy3rFy2rgKtJqKB9FjS0q6\n",
      "Archivo Salidas_Finales/Salidas26-08-10-55-28\\InconsistenciasGRUPO13.xlsx_26-08-10-55-28.xlsx subido correctamente con ID: 1CYhemWI2p192yK14jZrpFNlAI9Os-Z29\n",
      "No se encontró archivo para el grupo 14. Pasando al siguiente grupo.\n",
      "Archivo Salidas_Finales/Salidas26-08-10-55-28\\InconsistenciasGRUPO15.xlsx_26-08-10-55-28.xlsx subido correctamente con ID: 1Fd2B0Y3MCb7AE9ButjhQ9FwtYonGARpC\n",
      "Archivo Salidas_Finales/Salidas26-08-10-55-28\\InconsistenciasGRUPO16.xlsx_26-08-10-55-28.xlsx subido correctamente con ID: 1Ig6Z_eXJ3BUZUOo59i8ig1FGrpZmmRey\n",
      "Archivo Salidas_Finales/Salidas26-08-10-55-28\\InconsistenciasGRUPO17.xlsx_26-08-10-55-28.xlsx subido correctamente con ID: 1gT6D7rzt8RrW_AtNvrrkZp_xW1c92UiY\n",
      "No se encontró archivo para el grupo 18. Pasando al siguiente grupo.\n",
      "No se encontró archivo para el grupo 19. Pasando al siguiente grupo.\n",
      "Archivo Salidas_Finales/Salidas26-08-10-55-28\\InconsistenciasGRUPO20.xlsx_26-08-10-55-28.xlsx subido correctamente con ID: 1feGYuyRR8F3NfSk3e5TBkMnZCqT1Z9xL\n",
      "Archivo Salidas_Finales/Salidas26-08-10-55-28\\InconsistenciasGRUPO21.xlsx_26-08-10-55-28.xlsx subido correctamente con ID: 1rYP54s__6FIAJPQp7sx8wzV8h0Luu_a9\n",
      "Archivo Salidas_Finales/Salidas26-08-10-55-28\\InconsistenciasGRUPO22.xlsx_26-08-10-55-28.xlsx subido correctamente con ID: 1WsWIohyYuMKFFu7XKBC-_n98s-MRugsh\n",
      "Archivo Salidas_Finales/Salidas26-08-10-55-28\\InconsistenciasGRUPO23.xlsx_26-08-10-55-28.xlsx subido correctamente con ID: 1_eOFvN63YGJysA_RYOmbm60u9WV5qlAf\n",
      "Archivo Salidas_Finales/Salidas26-08-10-55-28\\InconsistenciasGRUPO24.xlsx_26-08-10-55-28.xlsx subido correctamente con ID: 1M_Y1MlpjM0ZhZOlaTEXsHlo6sIK3pRNi\n",
      "Archivo Salidas_Finales/Salidas26-08-10-55-28\\InconsistenciasGRUPO25.xlsx_26-08-10-55-28.xlsx subido correctamente con ID: 19oYAuK650gSTTk4qjSwmnsz950X4O5lx\n",
      "Archivo Salidas_Finales/Salidas26-08-10-55-28\\InconsistenciasGRUPO26.xlsx_26-08-10-55-28.xlsx subido correctamente con ID: 1ZJwCsLs8SlmZgQdPksU7RbJOntKqyEkr\n",
      "Archivo Salidas_Finales/Salidas26-08-10-55-28\\InconsistenciasGRUPO27.xlsx_26-08-10-55-28.xlsx subido correctamente con ID: 1h2UwELbRWIDpE3nh3ZOY4JJUaYn_td_A\n",
      "Archivo Salidas_Finales/Salidas26-08-10-55-28\\InconsistenciasGRUPO28.xlsx_26-08-10-55-28.xlsx subido correctamente con ID: 1Dytd4yasa5Ih-p4qzdobaJpReAR5NEpW\n",
      "Archivo Salidas_Finales/Salidas26-08-10-55-28\\InconsistenciasGRUPO29.xlsx_26-08-10-55-28.xlsx subido correctamente con ID: 1_Mq-n-kk10Qz11mxjG2in0eMjiW9xGzV\n",
      "Archivo Salidas_Finales/Salidas26-08-10-55-28\\InconsistenciasGRUPO30.xlsx_26-08-10-55-28.xlsx subido correctamente con ID: 1amkXpj6OgnsWpa2Mc6dH8bvdSl9h27AQ\n",
      "No se encontró archivo para el grupo 31. Pasando al siguiente grupo.\n",
      "Archivo Salidas_Finales/Salidas26-08-10-55-28\\InconsistenciasGRUPO32.xlsx_26-08-10-55-28.xlsx subido correctamente con ID: 1MpjzzBhzqEZusWF9fvd9lEcXUknX58GP\n",
      "Archivo Salidas_Finales/Salidas26-08-10-55-28\\InconsistenciasGRUPO33.xlsx_26-08-10-55-28.xlsx subido correctamente con ID: 1ojtzvrmICDXDwVCtZTVJofnX5DslgmB7\n",
      "Archivo Salidas_Finales/Salidas26-08-10-55-28\\InconsistenciasGRUPO34.xlsx_26-08-10-55-28.xlsx subido correctamente con ID: 1cIIulgzUxkroafjiOy2t2tpjEFlaBtC0\n",
      "No se encontró archivo para el grupo 35. Pasando al siguiente grupo.\n",
      "No se encontró archivo para el grupo 36. Pasando al siguiente grupo.\n",
      "No se encontró archivo para el grupo 37. Pasando al siguiente grupo.\n",
      "Archivo Salidas_Finales/Salidas26-08-10-55-28\\InconsistenciasGRUPO38.xlsx_26-08-10-55-28.xlsx subido correctamente con ID: 1wWurITCzq3bpQO0k97DcoWwbkSqlZIYS\n",
      "No se encontró archivo para el grupo 39. Pasando al siguiente grupo.\n"
     ]
    }
   ],
   "source": [
    "validador.subir_a_drive(\"Salidas_Finales/Salidas26-08-10-55-28\")"
   ]
  }
 ],
 "metadata": {
  "kernelspec": {
   "display_name": "Python 3",
   "language": "python",
   "name": "python3"
  },
  "language_info": {
   "codemirror_mode": {
    "name": "ipython",
    "version": 3
   },
   "file_extension": ".py",
   "mimetype": "text/x-python",
   "name": "python",
   "nbconvert_exporter": "python",
   "pygments_lexer": "ipython3",
   "version": "3.11.2"
  },
  "orig_nbformat": 4
 },
 "nbformat": 4,
 "nbformat_minor": 2
}
