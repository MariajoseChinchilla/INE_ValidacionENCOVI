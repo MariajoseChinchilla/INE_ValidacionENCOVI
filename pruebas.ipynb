{
 "cells": [
  {
   "cell_type": "code",
   "execution_count": 1,
   "metadata": {},
   "outputs": [],
   "source": [
    "from INEvalidador import Validador\n",
    "from INEvalidador.automarizador_drive import subir_a_drive\n",
    "validador = Validador(descargar=False)"
   ]
  },
  {
   "cell_type": "code",
   "execution_count": 2,
   "metadata": {},
   "outputs": [
    {
     "name": "stderr",
     "output_type": "stream",
     "text": [
      "100%|██████████| 1/1 [00:00<00:00,  1.62condicion/s]\n"
     ]
    },
    {
     "name": "stdout",
     "output_type": "stream",
     "text": [
      "[conflicted] Will prefer dplyr::filter over any other package.\n",
      "\fSe ha creado la carpeta: Salidas_Finales/Salidas28-08-10-45-10\n"
     ]
    }
   ],
   "source": [
    "# Para validar datos de la ENCOVI, ejecuta las funciones validar_encuesta() y cuando corresponda, la función subir_a_drive\n",
    "validador.validar_encuesta(fecha_inicio=\"2023-1-1\", fecha_final=\"2023-8-28\")"
   ]
  },
  {
   "cell_type": "code",
   "execution_count": null,
   "metadata": {},
   "outputs": [],
   "source": [
    "from INEvalidador.utils import condicion_a_variables"
   ]
  },
  {
   "cell_type": "code",
   "execution_count": null,
   "metadata": {},
   "outputs": [],
   "source": [
    "expresion = \"P06B07A esta en (2,3,4) & P06B07B no esta en (1,2,3,4,5,6,7,8,9,10,11,12,13,14,15,16,17,18,19,20,21,22,23,24,25,26,27, 99)\"\n",
    "validador.filter_base(expresion, list(condicion_a_variables(expresion)), fecha_inicio=\"2023-8-22\", fecha_final=\"2023-8-26\")"
   ]
  }
 ],
 "metadata": {
  "kernelspec": {
   "display_name": "Python 3",
   "language": "python",
   "name": "python3"
  },
  "language_info": {
   "codemirror_mode": {
    "name": "ipython",
    "version": 3
   },
   "file_extension": ".py",
   "mimetype": "text/x-python",
   "name": "python",
   "nbconvert_exporter": "python",
   "pygments_lexer": "ipython3",
   "version": "3.11.2"
  },
  "orig_nbformat": 4
 },
 "nbformat": 4,
 "nbformat_minor": 2
}
