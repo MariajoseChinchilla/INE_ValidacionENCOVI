{
 "cells": [
  {
   "cell_type": "code",
   "execution_count": 1,
   "metadata": {},
   "outputs": [],
   "source": [
    "from INEvalidador import Validador"
   ]
  },
  {
   "cell_type": "code",
   "execution_count": 2,
   "metadata": {},
   "outputs": [],
   "source": [
    "validador = Validador()"
   ]
  },
  {
   "cell_type": "code",
   "execution_count": 6,
   "metadata": {},
   "outputs": [
    {
     "name": "stderr",
     "output_type": "stream",
     "text": [
      "100%|██████████| 5904/5904 [00:14<00:00, 409.04condicion/s] \n"
     ]
    }
   ],
   "source": [
    "validador.process_to_export(\"Prueba\")"
   ]
  },
  {
   "cell_type": "code",
   "execution_count": 3,
   "metadata": {},
   "outputs": [
    {
     "ename": "TypeError",
     "evalue": "Can only merge Series or DataFrame objects, a <class 'NoneType'> was passed",
     "output_type": "error",
     "traceback": [
      "\u001b[1;31m---------------------------------------------------------------------------\u001b[0m",
      "\u001b[1;31mTypeError\u001b[0m                                 Traceback (most recent call last)",
      "Cell \u001b[1;32mIn[3], line 1\u001b[0m\n\u001b[1;32m----> 1\u001b[0m validador\u001b[39m.\u001b[39;49mfilter_base(\u001b[39m\"\u001b[39;49m\u001b[39mP10C01 > 1 y PPA03 >= 7 y P10D01 = 1 y P10D08 no esta en (1,2)\u001b[39;49m\u001b[39m\"\u001b[39;49m,[\u001b[39m\"\u001b[39;49m\u001b[39mP10C01\u001b[39;49m\u001b[39m\"\u001b[39;49m,\u001b[39m\"\u001b[39;49m\u001b[39mPPA03\u001b[39;49m\u001b[39m\"\u001b[39;49m,\u001b[39m\"\u001b[39;49m\u001b[39mP10D01\u001b[39;49m\u001b[39m\"\u001b[39;49m,\u001b[39m\"\u001b[39;49m\u001b[39mP10D08\u001b[39;49m\u001b[39m\"\u001b[39;49m])\n",
      "File \u001b[1;32mc:\\Users\\mchinchilla\\Documents\\GitHub\\INE_ValidacionENCOVI\\INEvalidador\\validador.py:121\u001b[0m, in \u001b[0;36mValidador.filter_base\u001b[1;34m(self, condicion, columnas)\u001b[0m\n\u001b[0;32m    120\u001b[0m \u001b[39mdef\u001b[39;00m \u001b[39mfilter_base\u001b[39m(\u001b[39mself\u001b[39m, condicion: \u001b[39mstr\u001b[39m, columnas: \u001b[39mlist\u001b[39m) \u001b[39m-\u001b[39m\u001b[39m>\u001b[39m pd\u001b[39m.\u001b[39mDataFrame:\n\u001b[1;32m--> 121\u001b[0m     df_temp \u001b[39m=\u001b[39m \u001b[39mself\u001b[39;49m\u001b[39m.\u001b[39;49msql\u001b[39m.\u001b[39;49mdf_para_condicion(condicion)\n\u001b[0;32m    122\u001b[0m     \u001b[39mreturn\u001b[39;00m df_temp\u001b[39m.\u001b[39mquery(\u001b[39mself\u001b[39m\u001b[39m.\u001b[39mleer_condicion(condicion))[columnas]\n",
      "File \u001b[1;32mc:\\Users\\mchinchilla\\Documents\\GitHub\\INE_ValidacionENCOVI\\INEvalidador\\conexionSQL.py:57\u001b[0m, in \u001b[0;36mbaseSQL.df_para_condicion\u001b[1;34m(self, condicion)\u001b[0m\n\u001b[0;32m     55\u001b[0m df_base \u001b[39m=\u001b[39m \u001b[39mself\u001b[39m\u001b[39m.\u001b[39mbase_df\u001b[39m.\u001b[39mget(\u001b[39m'\u001b[39m\u001b[39mlevel-1\u001b[39m\u001b[39m'\u001b[39m)\n\u001b[0;32m     56\u001b[0m \u001b[39mfor\u001b[39;00m df \u001b[39min\u001b[39;00m df_a_unir:\n\u001b[1;32m---> 57\u001b[0m     df_base \u001b[39m=\u001b[39m pd\u001b[39m.\u001b[39;49mmerge(df_base, df, on\u001b[39m=\u001b[39;49m\u001b[39m'\u001b[39;49m\u001b[39mLEVEL-1-ID\u001b[39;49m\u001b[39m'\u001b[39;49m, how\u001b[39m=\u001b[39;49m\u001b[39m'\u001b[39;49m\u001b[39minner\u001b[39;49m\u001b[39m'\u001b[39;49m)\n\u001b[0;32m     58\u001b[0m df_base \u001b[39m=\u001b[39m df_base\u001b[39m.\u001b[39mquery(\u001b[39m'\u001b[39m\u001b[39mPPA10 == 1\u001b[39m\u001b[39m'\u001b[39m)\n\u001b[0;32m     59\u001b[0m \u001b[39mreturn\u001b[39;00m df_base\n",
      "File \u001b[1;32mc:\\Users\\mchinchilla\\AppData\\Local\\Programs\\Python\\Python311\\Lib\\site-packages\\pandas\\core\\reshape\\merge.py:110\u001b[0m, in \u001b[0;36mmerge\u001b[1;34m(left, right, how, on, left_on, right_on, left_index, right_index, sort, suffixes, copy, indicator, validate)\u001b[0m\n\u001b[0;32m     93\u001b[0m \u001b[39m@Substitution\u001b[39m(\u001b[39m\"\u001b[39m\u001b[39m\\n\u001b[39;00m\u001b[39mleft : DataFrame or named Series\u001b[39m\u001b[39m\"\u001b[39m)\n\u001b[0;32m     94\u001b[0m \u001b[39m@Appender\u001b[39m(_merge_doc, indents\u001b[39m=\u001b[39m\u001b[39m0\u001b[39m)\n\u001b[0;32m     95\u001b[0m \u001b[39mdef\u001b[39;00m \u001b[39mmerge\u001b[39m(\n\u001b[1;32m   (...)\u001b[0m\n\u001b[0;32m    108\u001b[0m     validate: \u001b[39mstr\u001b[39m \u001b[39m|\u001b[39m \u001b[39mNone\u001b[39;00m \u001b[39m=\u001b[39m \u001b[39mNone\u001b[39;00m,\n\u001b[0;32m    109\u001b[0m ) \u001b[39m-\u001b[39m\u001b[39m>\u001b[39m DataFrame:\n\u001b[1;32m--> 110\u001b[0m     op \u001b[39m=\u001b[39m _MergeOperation(\n\u001b[0;32m    111\u001b[0m         left,\n\u001b[0;32m    112\u001b[0m         right,\n\u001b[0;32m    113\u001b[0m         how\u001b[39m=\u001b[39;49mhow,\n\u001b[0;32m    114\u001b[0m         on\u001b[39m=\u001b[39;49mon,\n\u001b[0;32m    115\u001b[0m         left_on\u001b[39m=\u001b[39;49mleft_on,\n\u001b[0;32m    116\u001b[0m         right_on\u001b[39m=\u001b[39;49mright_on,\n\u001b[0;32m    117\u001b[0m         left_index\u001b[39m=\u001b[39;49mleft_index,\n\u001b[0;32m    118\u001b[0m         right_index\u001b[39m=\u001b[39;49mright_index,\n\u001b[0;32m    119\u001b[0m         sort\u001b[39m=\u001b[39;49msort,\n\u001b[0;32m    120\u001b[0m         suffixes\u001b[39m=\u001b[39;49msuffixes,\n\u001b[0;32m    121\u001b[0m         indicator\u001b[39m=\u001b[39;49mindicator,\n\u001b[0;32m    122\u001b[0m         validate\u001b[39m=\u001b[39;49mvalidate,\n\u001b[0;32m    123\u001b[0m     )\n\u001b[0;32m    124\u001b[0m     \u001b[39mreturn\u001b[39;00m op\u001b[39m.\u001b[39mget_result(copy\u001b[39m=\u001b[39mcopy)\n",
      "File \u001b[1;32mc:\\Users\\mchinchilla\\AppData\\Local\\Programs\\Python\\Python311\\Lib\\site-packages\\pandas\\core\\reshape\\merge.py:645\u001b[0m, in \u001b[0;36m_MergeOperation.__init__\u001b[1;34m(self, left, right, how, on, left_on, right_on, axis, left_index, right_index, sort, suffixes, indicator, validate)\u001b[0m\n\u001b[0;32m    628\u001b[0m \u001b[39mdef\u001b[39;00m \u001b[39m__init__\u001b[39m(\n\u001b[0;32m    629\u001b[0m     \u001b[39mself\u001b[39m,\n\u001b[0;32m    630\u001b[0m     left: DataFrame \u001b[39m|\u001b[39m Series,\n\u001b[1;32m   (...)\u001b[0m\n\u001b[0;32m    642\u001b[0m     validate: \u001b[39mstr\u001b[39m \u001b[39m|\u001b[39m \u001b[39mNone\u001b[39;00m \u001b[39m=\u001b[39m \u001b[39mNone\u001b[39;00m,\n\u001b[0;32m    643\u001b[0m ) \u001b[39m-\u001b[39m\u001b[39m>\u001b[39m \u001b[39mNone\u001b[39;00m:\n\u001b[0;32m    644\u001b[0m     _left \u001b[39m=\u001b[39m _validate_operand(left)\n\u001b[1;32m--> 645\u001b[0m     _right \u001b[39m=\u001b[39m _validate_operand(right)\n\u001b[0;32m    646\u001b[0m     \u001b[39mself\u001b[39m\u001b[39m.\u001b[39mleft \u001b[39m=\u001b[39m \u001b[39mself\u001b[39m\u001b[39m.\u001b[39morig_left \u001b[39m=\u001b[39m _left\n\u001b[0;32m    647\u001b[0m     \u001b[39mself\u001b[39m\u001b[39m.\u001b[39mright \u001b[39m=\u001b[39m \u001b[39mself\u001b[39m\u001b[39m.\u001b[39morig_right \u001b[39m=\u001b[39m _right\n",
      "File \u001b[1;32mc:\\Users\\mchinchilla\\AppData\\Local\\Programs\\Python\\Python311\\Lib\\site-packages\\pandas\\core\\reshape\\merge.py:2426\u001b[0m, in \u001b[0;36m_validate_operand\u001b[1;34m(obj)\u001b[0m\n\u001b[0;32m   2424\u001b[0m         \u001b[39mreturn\u001b[39;00m obj\u001b[39m.\u001b[39mto_frame()\n\u001b[0;32m   2425\u001b[0m \u001b[39melse\u001b[39;00m:\n\u001b[1;32m-> 2426\u001b[0m     \u001b[39mraise\u001b[39;00m \u001b[39mTypeError\u001b[39;00m(\n\u001b[0;32m   2427\u001b[0m         \u001b[39mf\u001b[39m\u001b[39m\"\u001b[39m\u001b[39mCan only merge Series or DataFrame objects, a \u001b[39m\u001b[39m{\u001b[39;00m\u001b[39mtype\u001b[39m(obj)\u001b[39m}\u001b[39;00m\u001b[39m was passed\u001b[39m\u001b[39m\"\u001b[39m\n\u001b[0;32m   2428\u001b[0m     )\n",
      "\u001b[1;31mTypeError\u001b[0m: Can only merge Series or DataFrame objects, a <class 'NoneType'> was passed"
     ]
    }
   ],
   "source": [
    "validador.filter_base(\"P10C01 > 1 y PPA03 >= 7 y P10D01 = 1 y P10D08 no esta en (1,2)\",[\"P10C01\",\"PPA03\",\"P10D01\",\"P10D08\"])"
   ]
  },
  {
   "cell_type": "code",
   "execution_count": null,
   "metadata": {},
   "outputs": [],
   "source": []
  }
 ],
 "metadata": {
  "kernelspec": {
   "display_name": "Python 3",
   "language": "python",
   "name": "python3"
  },
  "language_info": {
   "codemirror_mode": {
    "name": "ipython",
    "version": 3
   },
   "file_extension": ".py",
   "mimetype": "text/x-python",
   "name": "python",
   "nbconvert_exporter": "python",
   "pygments_lexer": "ipython3",
   "version": "3.11.2"
  },
  "orig_nbformat": 4
 },
 "nbformat": 4,
 "nbformat_minor": 2
}
