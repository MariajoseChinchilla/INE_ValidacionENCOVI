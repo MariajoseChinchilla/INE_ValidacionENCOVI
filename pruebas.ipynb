{
 "cells": [
  {
   "cell_type": "code",
   "execution_count": 1,
   "metadata": {},
   "outputs": [],
   "source": [
    "from INEvalidador import Validador\n",
    "from INEvalidador.automarizador_drive import subir_a_drive\n",
    "from INEvalidador.utils import condicion_a_variables\n",
    "from INEvalidador.conexionSQL import baseSQL\n",
    "sql = baseSQL(False)\n",
    "validador = Validador(descargar=False)"
   ]
  },
  {
   "cell_type": "code",
   "execution_count": 3,
   "metadata": {},
   "outputs": [
    {
     "name": "stderr",
     "output_type": "stream",
     "text": [
      "  0%|          | 0/2 [00:00<?, ?condicion/s]c:\\Users\\mchinchilla\\Documents\\GitHub\\INE_ValidacionENCOVI\\INEvalidador\\conexionSQL.py:126: FutureWarning: Passing 'suffixes' which cause duplicate columns {'INDEX_x'} in the result is deprecated and will raise a MergeError in a future version.\n",
      "  df_base = pd.merge(df_base, caratula_pr_df, on='LEVEL-1-ID', how='inner')  # Unión por 'LEVEL-1-ID'\n",
      " 50%|█████     | 1/2 [00:07<00:07,  7.49s/condicion]c:\\Users\\mchinchilla\\Documents\\GitHub\\INE_ValidacionENCOVI\\INEvalidador\\conexionSQL.py:126: FutureWarning: Passing 'suffixes' which cause duplicate columns {'INDEX_x'} in the result is deprecated and will raise a MergeError in a future version.\n",
      "  df_base = pd.merge(df_base, caratula_pr_df, on='LEVEL-1-ID', how='inner')  # Unión por 'LEVEL-1-ID'\n",
      "100%|██████████| 2/2 [00:18<00:00,  9.03s/condicion]"
     ]
    },
    {
     "name": "stdout",
     "output_type": "stream",
     "text": [
      "[conflicted] Removing existing preference.\n",
      "[conflicted] Will prefer dplyr::filter over any other package.\n"
     ]
    },
    {
     "name": "stderr",
     "output_type": "stream",
     "text": [
      "\n"
     ]
    },
    {
     "name": "stdout",
     "output_type": "stream",
     "text": [
      "\fSe ha creado la carpeta: Salidas_Finales/Salidas11-09-12-00-42\n"
     ]
    }
   ],
   "source": [
    "validador.validar_encuesta(fecha_inicio=\"2023-1-1\", fecha_final=\"2023-12-31\")"
   ]
  },
  {
   "cell_type": "code",
   "execution_count": null,
   "metadata": {},
   "outputs": [],
   "source": [
    "expresion = \"CP no es vacio y PPA03 >= 12 y PPA08 no esta en (1,2,3,4,5,6,7)\"\n",
    "validador.filter_base(expresion, [\"FECHA\"], fecha_inicio=\"2023-1-1\", fecha_final=\"2023-12-31\")"
   ]
  }
 ],
 "metadata": {
  "kernelspec": {
   "display_name": "Python 3",
   "language": "python",
   "name": "python3"
  },
  "language_info": {
   "codemirror_mode": {
    "name": "ipython",
    "version": 3
   },
   "file_extension": ".py",
   "mimetype": "text/x-python",
   "name": "python",
   "nbconvert_exporter": "python",
   "pygments_lexer": "ipython3",
   "version": "3.11.2"
  },
  "orig_nbformat": 4
 },
 "nbformat": 4,
 "nbformat_minor": 2
}
