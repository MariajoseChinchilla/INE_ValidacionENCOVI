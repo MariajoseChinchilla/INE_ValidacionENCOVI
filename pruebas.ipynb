{
 "cells": [
  {
   "cell_type": "code",
   "execution_count": null,
   "metadata": {},
   "outputs": [],
   "source": [
    "from INEvalidador import Validador\n",
    "validador = Validador()\n",
    "validador.process_to_export()"
   ]
  },
  {
   "cell_type": "code",
   "execution_count": null,
   "metadata": {},
   "outputs": [],
   "source": [
    "validador.leer_condicion(\"P05D01 = 1 & P05D02 está en (1,2)\")"
   ]
  },
  {
   "cell_type": "code",
   "execution_count": null,
   "metadata": {},
   "outputs": [],
   "source": [
    "validador.filter_base(\"P02A01 = 2 y (P02A02 esta en (1,2,3,4,5,6,7,8,9,10,11,12,13,14,15) o P02A03 esta en (1,2,3,4,5,6,7,8,9,10,11,12,13,14,15,16,17,18,19,20,21,22,23,24,25,26,27,28,29,30) o P02A04A no es (vacio) o P02A04B esta en (1,2,3,4,5,6,7,8,9,10,11,12,13,98) o P02A04BA no es (vacio) o P02A05 esta en (1,2,3,4,98) o P02A05A no es (vacio) o P02A06A esta en (1,2,3,4,5,6,7,8,9,98) o P02A06AA no es (vacio) o P02A06B esta en (1,2,3,4,5,6,7,8,9,98) o P02A06BA no es (vacio) o P02A06C esta en (1,2,3,4,5,6,7,8,9,98) o P02A06CA no es (vacio) o P02A07 esta en (1,2,3,4,5,6,7,8,9,10,11,96,98) o P02A07A no es (vacio)\",[\"DEPTO\",\"MUPIO\",\"ESTRUCTURA\",\"VIVIENDA\",\"P05D01\",\"P05D02\"])"
   ]
  },
  {
   "cell_type": "code",
   "execution_count": null,
   "metadata": {},
   "outputs": [],
   "source": [
    "validador.df[\"P05D02\"]"
   ]
  }
 ],
 "metadata": {
  "kernelspec": {
   "display_name": "Python 3",
   "language": "python",
   "name": "python3"
  },
  "language_info": {
   "codemirror_mode": {
    "name": "ipython",
    "version": 3
   },
   "file_extension": ".py",
   "mimetype": "text/x-python",
   "name": "python",
   "nbconvert_exporter": "python",
   "pygments_lexer": "ipython3",
   "version": "3.11.2"
  },
  "orig_nbformat": 4
 },
 "nbformat": 4,
 "nbformat_minor": 2
}
