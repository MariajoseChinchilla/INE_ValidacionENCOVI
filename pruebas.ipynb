{
 "cells": [
  {
   "cell_type": "code",
   "execution_count": null,
   "metadata": {},
   "outputs": [],
   "source": [
    "from INEvalidador import Validador\n",
    "from INEvalidador.automarizador_drive import subir_a_drive\n",
    "from INEvalidador.utils import condicion_a_variables\n",
    "from INEvalidador.conexionSQL import baseSQL\n",
    "sql = baseSQL(False)\n",
    "validador = Validador(descargar=False)"
   ]
  },
  {
   "cell_type": "code",
   "execution_count": null,
   "metadata": {},
   "outputs": [],
   "source": [
    "validador.validar_encuesta(\"2023-9-23\", \"2023-9-25\")"
   ]
  },
  {
   "cell_type": "code",
   "execution_count": null,
   "metadata": {},
   "outputs": [],
   "source": [
    "validador.subir_a_drive(\"Salidas_Finales/Salidas25-09-11-18-31\")"
   ]
  },
  {
   "cell_type": "code",
   "execution_count": 68,
   "metadata": {},
   "outputs": [],
   "source": [
    "expresion1 = \"PPA03 >= 18 & CP no es vacio & (P10C21 está en (5,6) o P10D07 está en (5,6) o P10C47 > 0)\"\n",
    "cap141 = validador.filter_base(expresion1,[\"LEVEL-1-ID\", \"CP\"], \"2023-1-1\", \"2023-12-31\")\n",
    "agrupado14 = cap141.groupby([\"LEVEL-1-ID\"])[\"CP\"].unique().reset_index()\n",
    "expresion2 = \"P14A04 no es vacio y P14A03A no es vacio\"\n",
    "cap142 = validador.filter_base(expresion2, [\"P14A04\", \"P14A03A\", \"LEVEL-1-ID\"], \"2023-1-1\", \"2023-12-31\")\n",
    "agrupado142 = cap142.groupby([\"LEVEL-1-ID\"])[\"P14A04\"].unique().reset_index()\n",
    "final14 = agrupado14.merge(agrupado142, how=\"inner\", on=\"LEVEL-1-ID\")\n",
    "final14[\"COINCIDENCIA\"] = final14[\"CP\"].astype(str) == final14[\"P14A04\"].astype(str)"
   ]
  },
  {
   "cell_type": "code",
   "execution_count": 69,
   "metadata": {},
   "outputs": [
    {
     "data": {
      "text/html": [
       "<div>\n",
       "<style scoped>\n",
       "    .dataframe tbody tr th:only-of-type {\n",
       "        vertical-align: middle;\n",
       "    }\n",
       "\n",
       "    .dataframe tbody tr th {\n",
       "        vertical-align: top;\n",
       "    }\n",
       "\n",
       "    .dataframe thead th {\n",
       "        text-align: right;\n",
       "    }\n",
       "</style>\n",
       "<table border=\"1\" class=\"dataframe\">\n",
       "  <thead>\n",
       "    <tr style=\"text-align: right;\">\n",
       "      <th></th>\n",
       "      <th>LEVEL-1-ID</th>\n",
       "      <th>CP</th>\n",
       "      <th>P14A04</th>\n",
       "      <th>COINCIDENCIA</th>\n",
       "    </tr>\n",
       "  </thead>\n",
       "  <tbody>\n",
       "    <tr>\n",
       "      <th>0</th>\n",
       "      <td>658</td>\n",
       "      <td>[1.0, 2.0]</td>\n",
       "      <td>[2.0]</td>\n",
       "      <td>False</td>\n",
       "    </tr>\n",
       "    <tr>\n",
       "      <th>1</th>\n",
       "      <td>692</td>\n",
       "      <td>[1.0]</td>\n",
       "      <td>[2.0]</td>\n",
       "      <td>False</td>\n",
       "    </tr>\n",
       "    <tr>\n",
       "      <th>2</th>\n",
       "      <td>723</td>\n",
       "      <td>[1.0]</td>\n",
       "      <td>[2.0]</td>\n",
       "      <td>False</td>\n",
       "    </tr>\n",
       "    <tr>\n",
       "      <th>4</th>\n",
       "      <td>745</td>\n",
       "      <td>[2.0]</td>\n",
       "      <td>[1.0]</td>\n",
       "      <td>False</td>\n",
       "    </tr>\n",
       "    <tr>\n",
       "      <th>5</th>\n",
       "      <td>851</td>\n",
       "      <td>[2.0]</td>\n",
       "      <td>[1.0]</td>\n",
       "      <td>False</td>\n",
       "    </tr>\n",
       "    <tr>\n",
       "      <th>...</th>\n",
       "      <td>...</td>\n",
       "      <td>...</td>\n",
       "      <td>...</td>\n",
       "      <td>...</td>\n",
       "    </tr>\n",
       "    <tr>\n",
       "      <th>97</th>\n",
       "      <td>5749</td>\n",
       "      <td>[2.0]</td>\n",
       "      <td>[1.0, 2.0]</td>\n",
       "      <td>False</td>\n",
       "    </tr>\n",
       "    <tr>\n",
       "      <th>99</th>\n",
       "      <td>5869</td>\n",
       "      <td>[1.0, 2.0]</td>\n",
       "      <td>[1.0]</td>\n",
       "      <td>False</td>\n",
       "    </tr>\n",
       "    <tr>\n",
       "      <th>100</th>\n",
       "      <td>5881</td>\n",
       "      <td>[9.0]</td>\n",
       "      <td>[1.0]</td>\n",
       "      <td>False</td>\n",
       "    </tr>\n",
       "    <tr>\n",
       "      <th>102</th>\n",
       "      <td>6015</td>\n",
       "      <td>[1.0, 2.0]</td>\n",
       "      <td>[2.0]</td>\n",
       "      <td>False</td>\n",
       "    </tr>\n",
       "    <tr>\n",
       "      <th>104</th>\n",
       "      <td>6153</td>\n",
       "      <td>[1.0, 6.0]</td>\n",
       "      <td>[2.0]</td>\n",
       "      <td>False</td>\n",
       "    </tr>\n",
       "  </tbody>\n",
       "</table>\n",
       "<p>70 rows × 4 columns</p>\n",
       "</div>"
      ],
      "text/plain": [
       "     LEVEL-1-ID          CP      P14A04  COINCIDENCIA\n",
       "0           658  [1.0, 2.0]       [2.0]         False\n",
       "1           692       [1.0]       [2.0]         False\n",
       "2           723       [1.0]       [2.0]         False\n",
       "4           745       [2.0]       [1.0]         False\n",
       "5           851       [2.0]       [1.0]         False\n",
       "..          ...         ...         ...           ...\n",
       "97         5749       [2.0]  [1.0, 2.0]         False\n",
       "99         5869  [1.0, 2.0]       [1.0]         False\n",
       "100        5881       [9.0]       [1.0]         False\n",
       "102        6015  [1.0, 2.0]       [2.0]         False\n",
       "104        6153  [1.0, 6.0]       [2.0]         False\n",
       "\n",
       "[70 rows x 4 columns]"
      ]
     },
     "execution_count": 69,
     "metadata": {},
     "output_type": "execute_result"
    }
   ],
   "source": [
    "final14[final14[\"COINCIDENCIA\"] == False]"
   ]
  },
  {
   "cell_type": "code",
   "execution_count": null,
   "metadata": {},
   "outputs": [],
   "source": [
    "expresion2 = \"P14A04 no es vacio y P14A03A no es vacio\"\n",
    "validador.filter_base(expresion2, list(condicion_a_variables(expresion2)), \"2023-1-1\", \"2023-12-31\")"
   ]
  },
  {
   "cell_type": "code",
   "execution_count": null,
   "metadata": {},
   "outputs": [],
   "source": [
    "expresion1 = \"PPA03 >= 18 & CP no es vacio & (P10C21 está en (5,6) o P10D07 está en (5,6) o P10C47 > 0)\"\n",
    "cap141 = validador.filter_base(expresion1,list(condicion_a_variables(expresion1)), \"2023-1-1\", \"2023-12-31\")"
   ]
  }
 ],
 "metadata": {
  "kernelspec": {
   "display_name": "Python 3",
   "language": "python",
   "name": "python3"
  },
  "language_info": {
   "codemirror_mode": {
    "name": "ipython",
    "version": 3
   },
   "file_extension": ".py",
   "mimetype": "text/x-python",
   "name": "python",
   "nbconvert_exporter": "python",
   "pygments_lexer": "ipython3",
   "version": "3.11.2"
  },
  "orig_nbformat": 4
 },
 "nbformat": 4,
 "nbformat_minor": 2
}
