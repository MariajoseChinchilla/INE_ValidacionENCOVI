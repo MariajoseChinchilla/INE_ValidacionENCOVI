{
 "cells": [
  {
   "cell_type": "code",
   "execution_count": 1,
   "metadata": {},
   "outputs": [],
   "source": [
    "from INEvalidador import Validador\n",
    "validador = Validador(descargar=False)"
   ]
  },
  {
   "cell_type": "code",
   "execution_count": null,
   "metadata": {},
   "outputs": [],
   "source": [
    "validador.process_to_export(columna_upm=\"SECTOR\",fecha_inicio=\"2023-8-22\",fecha_final=\"2023-8-27\")"
   ]
  },
  {
   "cell_type": "code",
   "execution_count": 2,
   "metadata": {},
   "outputs": [],
   "source": [
    "from INEvalidador.utils import condicion_a_variables\n",
    "from INEvalidador.conexionSQL import baseSQL\n",
    "sql = baseSQL(False)"
   ]
  },
  {
   "cell_type": "code",
   "execution_count": 10,
   "metadata": {},
   "outputs": [
    {
     "data": {
      "text/html": [
       "<div>\n",
       "<style scoped>\n",
       "    .dataframe tbody tr th:only-of-type {\n",
       "        vertical-align: middle;\n",
       "    }\n",
       "\n",
       "    .dataframe tbody tr th {\n",
       "        vertical-align: top;\n",
       "    }\n",
       "\n",
       "    .dataframe thead th {\n",
       "        text-align: right;\n",
       "    }\n",
       "</style>\n",
       "<table border=\"1\" class=\"dataframe\">\n",
       "  <thead>\n",
       "    <tr style=\"text-align: right;\">\n",
       "      <th></th>\n",
       "      <th>PPA03</th>\n",
       "      <th>P12A07C</th>\n",
       "      <th>P12A07H</th>\n",
       "      <th>P12A07F</th>\n",
       "      <th>P12A06A</th>\n",
       "      <th>P12A07A</th>\n",
       "      <th>P12A07D</th>\n",
       "      <th>P12A06C</th>\n",
       "      <th>P12A07I</th>\n",
       "      <th>P12A07K</th>\n",
       "      <th>P12A07G</th>\n",
       "      <th>P12A07J</th>\n",
       "      <th>P12A07E</th>\n",
       "      <th>P12A06B</th>\n",
       "      <th>P12A07B</th>\n",
       "    </tr>\n",
       "  </thead>\n",
       "  <tbody>\n",
       "  </tbody>\n",
       "</table>\n",
       "</div>"
      ],
      "text/plain": [
       "Empty DataFrame\n",
       "Columns: [PPA03, P12A07C, P12A07H, P12A07F, P12A06A, P12A07A, P12A07D, P12A06C, P12A07I, P12A07K, P12A07G, P12A07J, P12A07E, P12A06B, P12A07B]\n",
       "Index: []"
      ]
     },
     "execution_count": 10,
     "metadata": {},
     "output_type": "execute_result"
    }
   ],
   "source": [
    "expresion = \"(PPA03 >= 7) & (P12A06A = 1 | P12A06B = 1 | P12A06C = 1) & (P12A07A no esta en (1,2) o P12A07B no esta en (1,2) o P12A07C no esta en (1,2) o P12A07D no esta en (1,2) o P12A07E no esta en (1,2) o P12A07F no esta en (1,2) o P12A07G no esta en (1,2) o P12A07H no esta en (1,2) o P12A07I no esta en (1,2) o P12A07J no esta en (1,2) o P12A07K no esta en (1,2))\"\n",
    "validador.filter_base(expresion, list(condicion_a_variables(expresion)), fecha_inicio=\"2023-8-11\", fecha_final=\"2023-8-27\")"
   ]
  },
  {
   "cell_type": "code",
   "execution_count": null,
   "metadata": {},
   "outputs": [],
   "source": []
  }
 ],
 "metadata": {
  "kernelspec": {
   "display_name": "Python 3",
   "language": "python",
   "name": "python3"
  },
  "language_info": {
   "codemirror_mode": {
    "name": "ipython",
    "version": 3
   },
   "file_extension": ".py",
   "mimetype": "text/x-python",
   "name": "python",
   "nbconvert_exporter": "python",
   "pygments_lexer": "ipython3",
   "version": "3.11.2"
  },
  "orig_nbformat": 4
 },
 "nbformat": 4,
 "nbformat_minor": 2
}
