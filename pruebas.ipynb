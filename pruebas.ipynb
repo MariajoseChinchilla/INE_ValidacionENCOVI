{
 "cells": [
  {
   "cell_type": "code",
   "execution_count": 1,
   "metadata": {},
   "outputs": [],
   "source": [
    "from INEvalidador import Validador\n",
    "from INEvalidador.utils import condicion_a_variables\n",
    "from INEvalidador.conexionSQL import baseSQL\n",
    "sql = baseSQL(False)\n",
    "from INEvalidador.reporte_produccion import GestorConteos\n",
    "# gestor = GestorConteos()\n",
    "validador = Validador(descargar=False)\n",
    "from INEvalidador.limpieza import Limpieza\n",
    "limpieza = Limpieza(1,descargar=False)"
   ]
  },
  {
   "cell_type": "code",
   "execution_count": null,
   "metadata": {},
   "outputs": [],
   "source": [
    "limpieza.escribir_query_sq(archivo=r\"C:\\Users\\mchinchilla\\Desktop\\Validador\\Datos para Revisión\\output_17-10-2023\\Prueba Majo.xlsx\",comision=1,nombre=\"Majo\")"
   ]
  },
  {
   "cell_type": "code",
   "execution_count": null,
   "metadata": {},
   "outputs": [],
   "source": [
    "limpieza.escribir_query_sq(r\"C:\\Users\\mchinchilla\\Desktop\\Validador\\Datos para Revisión\\output_17-10-2023\\Prueba Majo.xlsx\",1,\"majo\")"
   ]
  },
  {
   "cell_type": "code",
   "execution_count": null,
   "metadata": {},
   "outputs": [],
   "source": [
    "sql.base_col.get(\"P14A04\")"
   ]
  },
  {
   "cell_type": "code",
   "execution_count": null,
   "metadata": {},
   "outputs": [],
   "source": [
    "expresion1 = \"PPA03 >= 18 & CP no es vacio & (P10C21 está en (5,6) o P10D07 está en (5,6) o P10C47 > 0)\"\n",
    "cap141 = validador.filter_base(expresion1,[\"LEVEL-1-ID\", \"FECHA\", \"DEPTO\", \"CP\", \"ENCUESTADOR\", \"MUPIO\", \"SECTOR\", \"ESTRUCTURA\", \"VIVIENDA\", \"HOGAR\"], \"2023-1-1\", \"2023-12-31\")\n",
    "expresion2 = \"P14A04 no es vacio y P14A03A no es vacio\"\n",
    "cap142 = validador.filter_base(expresion2, [\"P14A04\", \"P14A03A\", \"FECHA\", \"LEVEL-1-ID\", \"ENCUESTADOR\", \"DEPTO\", \"CP\", \"MUPIO\", \"SECTOR\", \"ESTRUCTURA\", \"VIVIENDA\", \"HOGAR\"], \"2023-1-1\", \"2023-12-31\")\n",
    "# Agrupación conservando columnas adicionales\n",
    "agrupado14 = cap141.groupby([\"LEVEL-1-ID\"]).agg({\n",
    "    'CP': lambda x: list(set(x)),\n",
    "    'FECHA': 'first',\n",
    "    'DEPTO': 'first',\n",
    "    'MUPIO': 'first',\n",
    "    'SECTOR': 'first',\n",
    "    'ESTRUCTURA': 'first',\n",
    "    'VIVIENDA': 'first',\n",
    "    'HOGAR': 'first',\n",
    "    \"ENCUESTADOR\": \"first\",\n",
    "}).reset_index()\n",
    "\n",
    "agrupado142 = cap142.groupby([\"LEVEL-1-ID\"]).agg({\n",
    "    'P14A04': lambda x: list(set(x)),\n",
    "    'FECHA': 'first',\n",
    "    'DEPTO': 'first',\n",
    "    'MUPIO': 'first',\n",
    "    'SECTOR': 'first',\n",
    "    'ESTRUCTURA': 'first',\n",
    "    'VIVIENDA': 'first',\n",
    "    \"ENCUESTADOR\": \"first\",\n",
    "    'HOGAR': 'first',\n",
    "}).reset_index()\n",
    "\n",
    "# Fusión de dataframes\n",
    "final14 = agrupado14.merge(agrupado142, how=\"inner\", on=[\"LEVEL-1-ID\"], suffixes=('_x', '_y'))"
   ]
  },
  {
   "cell_type": "code",
   "execution_count": 2,
   "metadata": {},
   "outputs": [
    {
     "data": {
      "text/plain": [
       "'(~P14A04.isnull() & ~P14A03A.isna() & P14A03A != \"\")'"
      ]
     },
     "execution_count": 2,
     "metadata": {},
     "output_type": "execute_result"
    }
   ],
   "source": [
    "validador.leer_condicion(\"P14A04 no es vacio y P14A03A no es vacio\")"
   ]
  },
  {
   "cell_type": "code",
   "execution_count": null,
   "metadata": {},
   "outputs": [],
   "source": []
  }
 ],
 "metadata": {
  "kernelspec": {
   "display_name": "Python 3",
   "language": "python",
   "name": "python3"
  },
  "language_info": {
   "codemirror_mode": {
    "name": "ipython",
    "version": 3
   },
   "file_extension": ".py",
   "mimetype": "text/x-python",
   "name": "python",
   "nbconvert_exporter": "python",
   "pygments_lexer": "ipython3",
   "version": "3.11.2"
  },
  "orig_nbformat": 4
 },
 "nbformat": 4,
 "nbformat_minor": 2
}
