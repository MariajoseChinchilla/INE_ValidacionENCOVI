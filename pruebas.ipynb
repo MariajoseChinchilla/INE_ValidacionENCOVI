{
 "cells": [
  {
   "cell_type": "code",
   "execution_count": 3,
   "metadata": {},
   "outputs": [],
   "source": [
    "from INEvalidador import Validador\n",
    "from INEvalidador.utils import condicion_a_variables\n",
    "from INEvalidador.conexionSQL import baseSQL\n",
    "sql = baseSQL(False)\n",
    "from INEvalidador.reporte_produccion import GestorConteos\n",
    "# gestor = GestorConteos()\n",
    "validador = Validador(descargar=True)\n",
    "from INEvalidador.limpieza import Limpieza\n",
    "limpieza = Limpieza(1,descargar=False)"
   ]
  },
  {
   "cell_type": "code",
   "execution_count": 4,
   "metadata": {},
   "outputs": [
    {
     "name": "stderr",
     "output_type": "stream",
     "text": [
      "100%|██████████| 1067/1067 [14:14<00:00,  1.25condicion/s]\n",
      "c:\\Users\\mchinchilla\\Documents\\GitHub\\INE_ValidacionENCOVI\\INEvalidador\\scripR.py:72: UserWarning: pandas only supports SQLAlchemy connectable (engine/connection) or database string URI or sqlite3 DBAPI2 connection. Other DBAPI2 objects are not tested. Please consider using SQLAlchemy.\n",
      "  self.data = pd.read_sql(self.sql, cnn)\n"
     ]
    },
    {
     "name": "stdout",
     "output_type": "stream",
     "text": [
      "Total de inconsistencias: 0\n",
      "Se ha creado la carpeta: C:\\Users\\mchinchilla\\Desktop\\Validador\\Validaciones Encuestadores\\output_17-10-2023\\Salidas Finales\\Salidas Finales\n"
     ]
    }
   ],
   "source": [
    "validador.validar_encuesta(\"2023-9-23\",\"2023-10-17\")"
   ]
  },
  {
   "cell_type": "code",
   "execution_count": null,
   "metadata": {},
   "outputs": [],
   "source": [
    "validador.limpieza_por_query(\"PruebasFinales\",\"P01J1\",[\"PPA03\"])"
   ]
  },
  {
   "cell_type": "code",
   "execution_count": null,
   "metadata": {},
   "outputs": [],
   "source": [
    "gestor.escribir_query_sq(r\"C:\\Users\\mchinchilla\\Desktop\\Limpieza\\Datos para Revisión\\output_09-10-2023\\ejemplo.xlsx\",\"SalidasPrueba\")"
   ]
  }
 ],
 "metadata": {
  "kernelspec": {
   "display_name": "Python 3",
   "language": "python",
   "name": "python3"
  },
  "language_info": {
   "codemirror_mode": {
    "name": "ipython",
    "version": 3
   },
   "file_extension": ".py",
   "mimetype": "text/x-python",
   "name": "python",
   "nbconvert_exporter": "python",
   "pygments_lexer": "ipython3",
   "version": "3.11.2"
  },
  "orig_nbformat": 4
 },
 "nbformat": 4,
 "nbformat_minor": 2
}
