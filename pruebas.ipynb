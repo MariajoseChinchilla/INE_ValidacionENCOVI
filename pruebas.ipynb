{
 "cells": [
  {
   "cell_type": "code",
   "execution_count": null,
   "metadata": {},
   "outputs": [],
   "source": [
    "from INEvalidador import Validador\n",
    "from INEvalidador.utils import condicion_a_variables\n",
    "# from INEvalidador.conexionSQL import baseSQL\n",
    "from INEvalidador.reporte_produccion import GestorConteos\n",
    "# gestor = GestorConteos()\n",
    "validador = Validador(descargar=False)\n",
    "from INEvalidador.limpieza import Limpieza\n",
    "limpieza = Limpieza(1,descargar=True)"
   ]
  },
  {
   "cell_type": "code",
   "execution_count": null,
   "metadata": {},
   "outputs": [],
   "source": [
    "limpieza.df_para_limpieza([\"PPA03\"])"
   ]
  },
  {
   "cell_type": "code",
   "execution_count": null,
   "metadata": {},
   "outputs": [],
   "source": [
    "validador.limpieza_por_query(\"PruebasFinales\",\"P01J1\",[\"PPA03\"])"
   ]
  },
  {
   "cell_type": "code",
   "execution_count": null,
   "metadata": {},
   "outputs": [],
   "source": [
    "gestor.escribir_query_sq(r\"C:\\Users\\mchinchilla\\Desktop\\Limpieza\\Datos para Revisión\\output_09-10-2023\\ejemplo.xlsx\",\"SalidasPrueba\")"
   ]
  }
 ],
 "metadata": {
  "kernelspec": {
   "display_name": "Python 3",
   "language": "python",
   "name": "python3"
  },
  "language_info": {
   "codemirror_mode": {
    "name": "ipython",
    "version": 3
   },
   "file_extension": ".py",
   "mimetype": "text/x-python",
   "name": "python",
   "nbconvert_exporter": "python",
   "pygments_lexer": "ipython3",
   "version": "3.11.2"
  },
  "orig_nbformat": 4
 },
 "nbformat": 4,
 "nbformat_minor": 2
}
