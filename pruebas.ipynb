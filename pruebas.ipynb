{
 "cells": [
  {
   "cell_type": "code",
   "execution_count": 1,
   "metadata": {},
   "outputs": [],
   "source": [
    "from INEvalidador import Validador\n",
    "from INEvalidador.automarizador_drive import subir_a_drive\n",
    "from INEvalidador.utils import condicion_a_variables\n",
    "from INEvalidador.conexionSQL import baseSQL\n",
    "sql = baseSQL(False)\n",
    "validador = Validador(descargar=False)"
   ]
  },
  {
   "cell_type": "code",
   "execution_count": 2,
   "metadata": {},
   "outputs": [
    {
     "name": "stderr",
     "output_type": "stream",
     "text": [
      "100%|██████████| 1067/1067 [08:44<00:00,  2.03condicion/s]\n"
     ]
    },
    {
     "name": "stdout",
     "output_type": "stream",
     "text": [
      "[conflicted] Will prefer dplyr::filter over any other package.\n",
      "\fSe ha creado la carpeta: Salidas_Finales/Salidas21-09-10-53-42\n"
     ]
    }
   ],
   "source": [
    "validador.validar_encuesta(\"2023-9-18\", \"2023-9-21\")"
   ]
  },
  {
   "cell_type": "code",
   "execution_count": null,
   "metadata": {},
   "outputs": [],
   "source": [
    "expresion = \"P10C01 > 1 y PPA03 >= 7 y P10D01 = 1 y P10D07 está en (1,2,3,4) y P10D10A = 1 Y P10D10B es (vacio)\"\n",
    "validador.filter_base(expresion, list(condicion_a_variables(expresion)), \"2023-9-18\", \"2023-9-21\")\n",
    "# a[(a[\"DEPTO\"] == 6) & (a[\"MUPIO\"] == 6) & (a[\"SECTOR\"] == 8891)]"
   ]
  },
  {
   "cell_type": "code",
   "execution_count": null,
   "metadata": {},
   "outputs": [],
   "source": [
    "validador.subir_a_drive(\"Salidas_Finales/Salidas20-09-15-34-53\")"
   ]
  },
  {
   "cell_type": "code",
   "execution_count": null,
   "metadata": {},
   "outputs": [],
   "source": []
  }
 ],
 "metadata": {
  "kernelspec": {
   "display_name": "Python 3",
   "language": "python",
   "name": "python3"
  },
  "language_info": {
   "codemirror_mode": {
    "name": "ipython",
    "version": 3
   },
   "file_extension": ".py",
   "mimetype": "text/x-python",
   "name": "python",
   "nbconvert_exporter": "python",
   "pygments_lexer": "ipython3",
   "version": "3.11.2"
  },
  "orig_nbformat": 4
 },
 "nbformat": 4,
 "nbformat_minor": 2
}
