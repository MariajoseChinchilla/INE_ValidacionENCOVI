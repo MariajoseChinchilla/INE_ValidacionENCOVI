{
 "cells": [
  {
   "cell_type": "code",
   "execution_count": 1,
   "metadata": {},
   "outputs": [],
   "source": [
    "from INEvalidador import Validador\n",
    "from INEvalidador.automarizador_drive import subir_a_drive\n",
    "from INEvalidador.utils import condicion_a_variables\n",
    "from INEvalidador.conexionSQL import baseSQL\n",
    "sql = baseSQL(False)\n",
    "validador = Validador(descargar=False)"
   ]
  },
  {
   "cell_type": "code",
   "execution_count": null,
   "metadata": {},
   "outputs": [],
   "source": [
    "validador.validar_encuesta(\"2023-9-12\", \"2023-9-14\")"
   ]
  },
  {
   "cell_type": "code",
   "execution_count": 5,
   "metadata": {},
   "outputs": [
    {
     "name": "stderr",
     "output_type": "stream",
     "text": [
      "c:\\Users\\mchinchilla\\Documents\\GitHub\\INE_ValidacionENCOVI\\INEvalidador\\conexionSQL.py:126: FutureWarning: Passing 'suffixes' which cause duplicate columns {'INDEX_x'} in the result is deprecated and will raise a MergeError in a future version.\n",
      "  df_base = pd.merge(df_base, caratula_pr_df, on='LEVEL-1-ID', how='inner')  # Unión por 'LEVEL-1-ID'\n"
     ]
    },
    {
     "data": {
      "text/html": [
       "<div>\n",
       "<style scoped>\n",
       "    .dataframe tbody tr th:only-of-type {\n",
       "        vertical-align: middle;\n",
       "    }\n",
       "\n",
       "    .dataframe tbody tr th {\n",
       "        vertical-align: top;\n",
       "    }\n",
       "\n",
       "    .dataframe thead th {\n",
       "        text-align: right;\n",
       "    }\n",
       "</style>\n",
       "<table border=\"1\" class=\"dataframe\">\n",
       "  <thead>\n",
       "    <tr style=\"text-align: right;\">\n",
       "      <th></th>\n",
       "      <th>P16A01</th>\n",
       "      <th>PPA01A</th>\n",
       "      <th>P10D07</th>\n",
       "      <th>PPA03</th>\n",
       "      <th>P10C21</th>\n",
       "    </tr>\n",
       "  </thead>\n",
       "  <tbody>\n",
       "  </tbody>\n",
       "</table>\n",
       "</div>"
      ],
      "text/plain": [
       "Empty DataFrame\n",
       "Columns: [P16A01, PPA01A, P10D07, PPA03, P10C21]\n",
       "Index: []"
      ]
     },
     "execution_count": 5,
     "metadata": {},
     "output_type": "execute_result"
    }
   ],
   "source": [
    "expresion = \"PPA01A no es vacio y PPA03 >= 18 Y (P10C21 no esta en (7,8) y P10D07 no esta en (7,8)) y (P16A01 = 1)\"\n",
    "validador.filter_base(expresion, list(condicion_a_variables(expresion)), \"2023-9-12\", \"2023-9-14\")"
   ]
  }
 ],
 "metadata": {
  "kernelspec": {
   "display_name": "Python 3",
   "language": "python",
   "name": "python3"
  },
  "language_info": {
   "codemirror_mode": {
    "name": "ipython",
    "version": 3
   },
   "file_extension": ".py",
   "mimetype": "text/x-python",
   "name": "python",
   "nbconvert_exporter": "python",
   "pygments_lexer": "ipython3",
   "version": "3.11.2"
  },
  "orig_nbformat": 4
 },
 "nbformat": 4,
 "nbformat_minor": 2
}
