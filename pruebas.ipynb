{
 "cells": [
  {
   "cell_type": "code",
   "execution_count": null,
   "metadata": {},
   "outputs": [],
   "source": [
    "from INEvalidador import Validador\n",
    "from INEvalidador.utils import condicion_a_variables\n",
    "from INEvalidador.conexionSQL import baseSQL\n",
    "from INEvalidador.reporte_produccion import GestorConteos\n",
    "# gestor = GestorConteos()\n",
    "validador = Validador(descargar=False)\n",
    "from INEvalidador.limpieza import Limpieza\n",
    "limpieza = Limpieza()"
   ]
  },
  {
   "cell_type": "code",
   "execution_count": 7,
   "metadata": {},
   "outputs": [
    {
     "ename": "KeyError",
     "evalue": "'PPA03'",
     "output_type": "error",
     "traceback": [
      "\u001b[1;31m---------------------------------------------------------------------------\u001b[0m",
      "\u001b[1;31mKeyError\u001b[0m                                  Traceback (most recent call last)",
      "\u001b[1;32mc:\\Users\\mchinchilla\\Documents\\GitHub\\INE_ValidacionENCOVI\\pruebas.ipynb Celda 2\u001b[0m line \u001b[0;36m1\n\u001b[1;32m----> <a href='vscode-notebook-cell:/c%3A/Users/mchinchilla/Documents/GitHub/INE_ValidacionENCOVI/pruebas.ipynb#W1sZmlsZQ%3D%3D?line=0'>1</a>\u001b[0m validador\u001b[39m.\u001b[39;49mleer_condicion(\u001b[39m\"\u001b[39;49m\u001b[39mPPA03 es vacio\u001b[39;49m\u001b[39m\"\u001b[39;49m)\n",
      "File \u001b[1;32mc:\\Users\\mchinchilla\\Documents\\GitHub\\INE_ValidacionENCOVI\\INEvalidador\\validador.py:186\u001b[0m, in \u001b[0;36mValidador.leer_condicion\u001b[1;34m(self, condicion)\u001b[0m\n\u001b[0;32m    182\u001b[0m \u001b[39m# print(self.df.columns)\u001b[39;00m\n\u001b[0;32m    183\u001b[0m \u001b[39m# print(condicion_convertida)\u001b[39;00m\n\u001b[0;32m    184\u001b[0m \u001b[39mfor\u001b[39;00m col, tipo \u001b[39min\u001b[39;00m \u001b[39mself\u001b[39m\u001b[39m.\u001b[39mcolumnas_condicion_nula(condicion_convertida):\n\u001b[0;32m    185\u001b[0m     \u001b[39m# Verificar si la columna es de tipo int o float\u001b[39;00m\n\u001b[1;32m--> 186\u001b[0m     \u001b[39mif\u001b[39;00m np\u001b[39m.\u001b[39missubdtype(\u001b[39mself\u001b[39;49m\u001b[39m.\u001b[39;49mdf[col]\u001b[39m.\u001b[39mdtype, np\u001b[39m.\u001b[39minteger) \u001b[39mor\u001b[39;00m np\u001b[39m.\u001b[39missubdtype(\u001b[39mself\u001b[39m\u001b[39m.\u001b[39mdf[col]\u001b[39m.\u001b[39mdtype, np\u001b[39m.\u001b[39mfloating):\n\u001b[0;32m    187\u001b[0m         \u001b[39m# Sustituir cuando la columna sea de tipo numérica\u001b[39;00m\n\u001b[0;32m    188\u001b[0m         \u001b[39mif\u001b[39;00m tipo \u001b[39m==\u001b[39m \u001b[39m\"\u001b[39m\u001b[39m==\u001b[39m\u001b[39m\"\u001b[39m:\n\u001b[0;32m    189\u001b[0m             condicion_convertida \u001b[39m=\u001b[39m condicion_convertida\u001b[39m.\u001b[39mreplace(\u001b[39mf\u001b[39m\u001b[39m'\u001b[39m\u001b[39m{\u001b[39;00mcol\u001b[39m}\u001b[39;00m\u001b[39m \u001b[39m\u001b[39m{\u001b[39;00mtipo\u001b[39m}\u001b[39;00m\u001b[39m \u001b[39m\u001b[39m\"\u001b[39m\u001b[39m\"\u001b[39m\u001b[39m'\u001b[39m, \u001b[39mf\u001b[39m\u001b[39m'\u001b[39m\u001b[39m{\u001b[39;00mcol\u001b[39m}\u001b[39;00m\u001b[39m.isnull()\u001b[39m\u001b[39m'\u001b[39m)       \u001b[39m#modificaciones para variables tipo numérica\u001b[39;00m\n",
      "File \u001b[1;32mc:\\Users\\mchinchilla\\AppData\\Local\\Programs\\Python\\Python311\\Lib\\site-packages\\pandas\\core\\frame.py:3761\u001b[0m, in \u001b[0;36mDataFrame.__getitem__\u001b[1;34m(self, key)\u001b[0m\n\u001b[0;32m   3759\u001b[0m \u001b[39mif\u001b[39;00m \u001b[39mself\u001b[39m\u001b[39m.\u001b[39mcolumns\u001b[39m.\u001b[39mnlevels \u001b[39m>\u001b[39m \u001b[39m1\u001b[39m:\n\u001b[0;32m   3760\u001b[0m     \u001b[39mreturn\u001b[39;00m \u001b[39mself\u001b[39m\u001b[39m.\u001b[39m_getitem_multilevel(key)\n\u001b[1;32m-> 3761\u001b[0m indexer \u001b[39m=\u001b[39m \u001b[39mself\u001b[39;49m\u001b[39m.\u001b[39;49mcolumns\u001b[39m.\u001b[39;49mget_loc(key)\n\u001b[0;32m   3762\u001b[0m \u001b[39mif\u001b[39;00m is_integer(indexer):\n\u001b[0;32m   3763\u001b[0m     indexer \u001b[39m=\u001b[39m [indexer]\n",
      "File \u001b[1;32mc:\\Users\\mchinchilla\\AppData\\Local\\Programs\\Python\\Python311\\Lib\\site-packages\\pandas\\core\\indexes\\range.py:349\u001b[0m, in \u001b[0;36mRangeIndex.get_loc\u001b[1;34m(self, key)\u001b[0m\n\u001b[0;32m    347\u001b[0m         \u001b[39mraise\u001b[39;00m \u001b[39mKeyError\u001b[39;00m(key) \u001b[39mfrom\u001b[39;00m \u001b[39merr\u001b[39;00m\n\u001b[0;32m    348\u001b[0m \u001b[39mif\u001b[39;00m \u001b[39misinstance\u001b[39m(key, Hashable):\n\u001b[1;32m--> 349\u001b[0m     \u001b[39mraise\u001b[39;00m \u001b[39mKeyError\u001b[39;00m(key)\n\u001b[0;32m    350\u001b[0m \u001b[39mself\u001b[39m\u001b[39m.\u001b[39m_check_indexing_error(key)\n\u001b[0;32m    351\u001b[0m \u001b[39mraise\u001b[39;00m \u001b[39mKeyError\u001b[39;00m(key)\n",
      "\u001b[1;31mKeyError\u001b[0m: 'PPA03'"
     ]
    }
   ],
   "source": [
    "validador.leer_condicion(\"PPA03 es vacio\")"
   ]
  },
  {
   "cell_type": "code",
   "execution_count": null,
   "metadata": {},
   "outputs": [],
   "source": [
    "limpieza.leer_condicion(\"PPA03 no es vacio\")"
   ]
  },
  {
   "cell_type": "code",
   "execution_count": null,
   "metadata": {},
   "outputs": [],
   "source": [
    "validador.limpieza_por_query(\"PruebasFinales\",\"P01J1\",[\"PPA03\"])"
   ]
  },
  {
   "cell_type": "code",
   "execution_count": null,
   "metadata": {},
   "outputs": [],
   "source": [
    "gestor.escribir_query_sq(r\"C:\\Users\\mchinchilla\\Desktop\\Limpieza\\Datos para Revisión\\output_09-10-2023\\ejemplo.xlsx\",\"SalidasPrueba\")"
   ]
  }
 ],
 "metadata": {
  "kernelspec": {
   "display_name": "Python 3",
   "language": "python",
   "name": "python3"
  },
  "language_info": {
   "codemirror_mode": {
    "name": "ipython",
    "version": 3
   },
   "file_extension": ".py",
   "mimetype": "text/x-python",
   "name": "python",
   "nbconvert_exporter": "python",
   "pygments_lexer": "ipython3",
   "version": "3.10.7"
  },
  "orig_nbformat": 4
 },
 "nbformat": 4,
 "nbformat_minor": 2
}
