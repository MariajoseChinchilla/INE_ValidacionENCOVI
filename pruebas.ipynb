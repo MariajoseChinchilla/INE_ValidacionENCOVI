{
 "cells": [
  {
   "cell_type": "code",
   "execution_count": 1,
   "metadata": {},
   "outputs": [],
   "source": [
    "from INEvalidador import Validador\n",
    "from INEvalidador.automarizador_drive import subir_a_drive\n",
    "from INEvalidador.utils import condicion_a_variables\n",
    "from INEvalidador.conexionSQL import baseSQL\n",
    "sql = baseSQL(False)\n",
    "validador = Validador(descargar=False)"
   ]
  },
  {
   "cell_type": "code",
   "execution_count": null,
   "metadata": {},
   "outputs": [],
   "source": [
    "validador.validar_encuesta(\"2023-9-23\", \"2023-9-26\")"
   ]
  },
  {
   "cell_type": "code",
   "execution_count": null,
   "metadata": {},
   "outputs": [],
   "source": [
    "validador.subir_a_drive(\"Salidas_Finales/Salidas26-09-12-38-51\")"
   ]
  },
  {
   "cell_type": "code",
   "execution_count": 2,
   "metadata": {},
   "outputs": [
    {
     "name": "stderr",
     "output_type": "stream",
     "text": [
      "  0%|          | 0/1 [00:00<?, ?condicion/s]"
     ]
    },
    {
     "name": "stdout",
     "output_type": "stream",
     "text": [
      "[('prueba', 'prueba', 'P01A01 = 2 y PPB02 > 1', ['DEPTO', 'MUPIO', 'P01A01', 'PPA03'])]\n"
     ]
    },
    {
     "name": "stderr",
     "output_type": "stream",
     "text": [
      "100%|██████████| 1/1 [00:00<00:00,  5.02condicion/s]\n"
     ]
    }
   ],
   "source": [
    "validador.archivos_limpieza()"
   ]
  },
  {
   "cell_type": "code",
   "execution_count": null,
   "metadata": {},
   "outputs": [],
   "source": [
    "expresion2 = \"CP_PROD no es vacio\"\n",
    "cap142 = validador.filter_base(expresion2, [\"CP_PROD\", \"FECHA\", \"LEVEL-1-ID\", \"ENCUESTADOR\", \"DEPTO\", \"CP\", \"MUPIO\", \"SECTOR\", \"ESTRUCTURA\", \"VIVIENDA\", \"HOGAR\"], \"2023-1-1\", \"2023-12-31\")"
   ]
  },
  {
   "cell_type": "code",
   "execution_count": null,
   "metadata": {},
   "outputs": [],
   "source": [
    "agrupado142"
   ]
  },
  {
   "cell_type": "code",
   "execution_count": null,
   "metadata": {},
   "outputs": [],
   "source": [
    "expresion1 = \"PPA03 >= 18 & CP no es vacio & (P10C21 está en (5,6) o P10D07 está en (5,6) o P10C47 > 0)\"\n",
    "cap141 = validador.filter_base(expresion1,list(condicion_a_variables(expresion1)), \"2023-1-1\", \"2023-12-31\")"
   ]
  }
 ],
 "metadata": {
  "kernelspec": {
   "display_name": "Python 3",
   "language": "python",
   "name": "python3"
  },
  "language_info": {
   "codemirror_mode": {
    "name": "ipython",
    "version": 3
   },
   "file_extension": ".py",
   "mimetype": "text/x-python",
   "name": "python",
   "nbconvert_exporter": "python",
   "pygments_lexer": "ipython3",
   "version": "3.11.2"
  },
  "orig_nbformat": 4
 },
 "nbformat": 4,
 "nbformat_minor": 2
}
