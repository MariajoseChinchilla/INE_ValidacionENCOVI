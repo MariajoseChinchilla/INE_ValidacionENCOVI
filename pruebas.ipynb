{
 "cells": [
  {
   "cell_type": "code",
   "execution_count": 1,
   "metadata": {},
   "outputs": [],
   "source": [
    "from INEvalidador import Validador\n",
    "from INEvalidador.utils import condicion_a_variables\n",
    "from INEvalidador.conexionSQL import baseSQL\n",
    "sql = baseSQL(False)\n",
    "from INEvalidador.reporte_produccion import GestorConteos\n",
    "# gestor = GestorConteos()\n",
    "validador = Validador(descargar=False)\n",
    "from INEvalidador.limpieza import Limpieza\n",
    "limpieza = Limpieza(1,descargar=False)"
   ]
  },
  {
   "cell_type": "code",
   "execution_count": 2,
   "metadata": {},
   "outputs": [
    {
     "name": "stdout",
     "output_type": "stream",
     "text": [
      "P\n",
      "P\n",
      "A\n",
      "0\n",
      "3\n",
      " \n",
      "e\n",
      "s\n",
      " \n",
      "v\n",
      "a\n",
      "c\n",
      "i\n",
      "o\n",
      "[None]\n"
     ]
    },
    {
     "ename": "AttributeError",
     "evalue": "'NoneType' object has no attribute 'columns'",
     "output_type": "error",
     "traceback": [
      "\u001b[1;31m---------------------------------------------------------------------------\u001b[0m",
      "\u001b[1;31mAttributeError\u001b[0m                            Traceback (most recent call last)",
      "\u001b[1;32mc:\\Users\\mchinchilla\\Documents\\GitHub\\INE_ValidacionENCOVI\\pruebas.ipynb Celda 2\u001b[0m line \u001b[0;36m1\n\u001b[1;32m----> <a href='vscode-notebook-cell:/c%3A/Users/mchinchilla/Documents/GitHub/INE_ValidacionENCOVI/pruebas.ipynb#W2sZmlsZQ%3D%3D?line=0'>1</a>\u001b[0m limpieza\u001b[39m.\u001b[39;49mfiltrar_base_limpieza(\u001b[39m\"\u001b[39;49m\u001b[39mPPA03 es vacio\u001b[39;49m\u001b[39m\"\u001b[39;49m,[\u001b[39m\"\u001b[39;49m\u001b[39mPPA03\u001b[39;49m\u001b[39m\"\u001b[39;49m])\n",
      "File \u001b[1;32mc:\\Users\\mchinchilla\\Documents\\GitHub\\INE_ValidacionENCOVI\\INEvalidador\\limpieza.py:135\u001b[0m, in \u001b[0;36mLimpieza.filtrar_base_limpieza\u001b[1;34m(self, condicion, columnas, fecha_inicio, fecha_final)\u001b[0m\n\u001b[0;32m    133\u001b[0m \u001b[39mdef\u001b[39;00m \u001b[39mfiltrar_base_limpieza\u001b[39m(\u001b[39mself\u001b[39m, condicion: \u001b[39mstr\u001b[39m, columnas: \u001b[39mlist\u001b[39m, fecha_inicio: datetime\u001b[39m=\u001b[39m\u001b[39m\"\u001b[39m\u001b[39m2023-1-1\u001b[39m\u001b[39m\"\u001b[39m, fecha_final:datetime\u001b[39m=\u001b[39m\u001b[39m\"\u001b[39m\u001b[39m2023-12-31\u001b[39m\u001b[39m\"\u001b[39m) \u001b[39m-\u001b[39m\u001b[39m>\u001b[39m pd\u001b[39m.\u001b[39mDataFrame:\n\u001b[0;32m    134\u001b[0m     \u001b[39m# var = columnas + [\"FECHA\", \"ENCUESTADOR\", \"DEPTO\", \"MUPIO\", \"SECTOR\",\"ESTRUCTURA\", \"VIVIENDA\", \"HOGAR\", \"CP\", \"CAPITULO\", \"SECCION\", \"PREGUNTA\", \"DEFINICION DE INCONSISTENCIA\", \"CODIGO ERROR\", \"COMENTARIOS\"]\u001b[39;00m\n\u001b[1;32m--> 135\u001b[0m     \u001b[39mself\u001b[39m\u001b[39m.\u001b[39mdf \u001b[39m=\u001b[39m \u001b[39mself\u001b[39;49m\u001b[39m.\u001b[39;49mdf_para_limpieza(condicion, columnas)\n\u001b[0;32m    136\u001b[0m     \u001b[39mself\u001b[39m\u001b[39m.\u001b[39mdf[\u001b[39m\"\u001b[39m\u001b[39mVARIABLE\u001b[39m\u001b[39m\"\u001b[39m] \u001b[39m=\u001b[39m \u001b[39mNone\u001b[39;00m\n\u001b[0;32m    137\u001b[0m     \u001b[39mself\u001b[39m\u001b[39m.\u001b[39mdf[\u001b[39m\"\u001b[39m\u001b[39mVALOR NUEVO\u001b[39m\u001b[39m\"\u001b[39m] \u001b[39m=\u001b[39m \u001b[39mNone\u001b[39;00m  \n",
      "File \u001b[1;32mc:\\Users\\mchinchilla\\Documents\\GitHub\\INE_ValidacionENCOVI\\INEvalidador\\limpieza.py:230\u001b[0m, in \u001b[0;36mLimpieza.df_para_limpieza\u001b[1;34m(self, variables, fecha_inicio, fecha_final)\u001b[0m\n\u001b[0;32m    228\u001b[0m df_base \u001b[39m=\u001b[39m \u001b[39mself\u001b[39m\u001b[39m.\u001b[39msql\u001b[39m.\u001b[39mbase_df\u001b[39m.\u001b[39mget(\u001b[39mf\u001b[39m\u001b[39m'\u001b[39m\u001b[39mlevel-1_\u001b[39m\u001b[39m{\u001b[39;00mtipo\u001b[39m}\u001b[39;00m\u001b[39m'\u001b[39m)\n\u001b[0;32m    229\u001b[0m \u001b[39mfor\u001b[39;00m df \u001b[39min\u001b[39;00m df_a_unir:\n\u001b[1;32m--> 230\u001b[0m     \u001b[39mif\u001b[39;00m \u001b[39m\"\u001b[39m\u001b[39mINDEX\u001b[39m\u001b[39m\"\u001b[39m \u001b[39min\u001b[39;00m df\u001b[39m.\u001b[39;49mcolumns:\n\u001b[0;32m    231\u001b[0m         df \u001b[39m=\u001b[39m df\u001b[39m.\u001b[39mdrop(\u001b[39m'\u001b[39m\u001b[39mINDEX\u001b[39m\u001b[39m'\u001b[39m, axis\u001b[39m=\u001b[39m\u001b[39m1\u001b[39m)\n\u001b[0;32m    232\u001b[0m     df_base \u001b[39m=\u001b[39m pd\u001b[39m.\u001b[39mmerge(df_base, df, on\u001b[39m=\u001b[39m\u001b[39m'\u001b[39m\u001b[39mLEVEL-1-ID\u001b[39m\u001b[39m'\u001b[39m, how\u001b[39m=\u001b[39m\u001b[39m'\u001b[39m\u001b[39minner\u001b[39m\u001b[39m'\u001b[39m)\n",
      "\u001b[1;31mAttributeError\u001b[0m: 'NoneType' object has no attribute 'columns'"
     ]
    }
   ],
   "source": [
    "limpieza.filtrar_base_limpieza(\"PPA03 es vacio\",[\"PPA03\"])"
   ]
  },
  {
   "cell_type": "code",
   "execution_count": null,
   "metadata": {},
   "outputs": [],
   "source": [
    "validador.limpieza_por_query(\"PruebasFinales\",\"P01J1\",[\"PPA03\"])"
   ]
  },
  {
   "cell_type": "code",
   "execution_count": null,
   "metadata": {},
   "outputs": [],
   "source": [
    "gestor.escribir_query_sq(r\"C:\\Users\\mchinchilla\\Desktop\\Limpieza\\Datos para Revisión\\output_09-10-2023\\ejemplo.xlsx\",\"SalidasPrueba\")"
   ]
  }
 ],
 "metadata": {
  "kernelspec": {
   "display_name": "Python 3",
   "language": "python",
   "name": "python3"
  },
  "language_info": {
   "codemirror_mode": {
    "name": "ipython",
    "version": 3
   },
   "file_extension": ".py",
   "mimetype": "text/x-python",
   "name": "python",
   "nbconvert_exporter": "python",
   "pygments_lexer": "ipython3",
   "version": "3.11.2"
  },
  "orig_nbformat": 4
 },
 "nbformat": 4,
 "nbformat_minor": 2
}
