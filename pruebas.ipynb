{
 "cells": [
  {
   "cell_type": "code",
   "execution_count": null,
   "metadata": {},
   "outputs": [],
   "source": [
    "from INEvalidador import Validador\n",
    "from INEvalidador.automarizador_drive import subir_a_drive\n",
    "from INEvalidador.utils import condicion_a_variables\n",
    "from INEvalidador.conexionSQL import baseSQL\n",
    "sql = baseSQL(False)\n",
    "validador = Validador(descargar=False)"
   ]
  },
  {
   "cell_type": "code",
   "execution_count": null,
   "metadata": {},
   "outputs": [],
   "source": [
    "validador.validar_encuesta(\"2023-9-23\", \"2023-9-25\")"
   ]
  },
  {
   "cell_type": "code",
   "execution_count": null,
   "metadata": {},
   "outputs": [],
   "source": [
    "validador.subir_a_drive(\"Salidas_Finales/Salidas25-09-11-18-31\")"
   ]
  },
  {
   "cell_type": "code",
   "execution_count": null,
   "metadata": {},
   "outputs": [],
   "source": [
    "expresion1 = \"PPA03 >= 18 & CP no es vacio & (P10C21 está en (5,6) o P10D07 está en (5,6) o P10C47 > 0)\"\n",
    "cap141 = validador.filter_base(expresion1,[\"LEVEL-1-ID\", \"CP\"], \"2023-1-1\", \"2023-12-31\")\n",
    "agrupado14 = cap141.groupby([\"LEVEL-1-ID\"])[\"CP\"].unique().reset_index()\n",
    "expresion2 = \"P14A04 no es vacio y P14A03A no es vacio\"\n",
    "cap142 = validador.filter_base(expresion2, [\"P14A04\", \"P14A03A\", \"LEVEL-1-ID\"], \"2023-1-1\", \"2023-12-31\")\n",
    "agrupado142 = cap142.groupby([\"LEVEL-1-ID\"])[\"P14A04\"].unique().reset_index()\n",
    "final14 = agrupado14.merge(agrupado142, how=\"inner\", on=\"LEVEL-1-ID\")\n",
    "final14[\"COINCIDENCIA\"] = final14[\"CP\"].astype(str) == final14[\"P14A04\"].astype(str)"
   ]
  },
  {
   "cell_type": "code",
   "execution_count": null,
   "metadata": {},
   "outputs": [],
   "source": [
    "final14[final14[\"COINCIDENCIA\"] == False]"
   ]
  },
  {
   "cell_type": "code",
   "execution_count": null,
   "metadata": {},
   "outputs": [],
   "source": [
    "expresion2 = \"P14A04 no es vacio y P14A03A no es vacio\"\n",
    "validador.filter_base(expresion2, list(condicion_a_variables(expresion2)), \"2023-1-1\", \"2023-12-31\")"
   ]
  },
  {
   "cell_type": "code",
   "execution_count": null,
   "metadata": {},
   "outputs": [],
   "source": [
    "expresion1 = \"PPA03 >= 18 & CP no es vacio & (P10C21 está en (5,6) o P10D07 está en (5,6) o P10C47 > 0)\"\n",
    "cap141 = validador.filter_base(expresion1,list(condicion_a_variables(expresion1)), \"2023-1-1\", \"2023-12-31\")"
   ]
  }
 ],
 "metadata": {
  "kernelspec": {
   "display_name": "Python 3",
   "language": "python",
   "name": "python3"
  },
  "language_info": {
   "codemirror_mode": {
    "name": "ipython",
    "version": 3
   },
   "file_extension": ".py",
   "mimetype": "text/x-python",
   "name": "python",
   "nbconvert_exporter": "python",
   "pygments_lexer": "ipython3",
   "version": "3.11.3"
  },
  "orig_nbformat": 4
 },
 "nbformat": 4,
 "nbformat_minor": 2
}
