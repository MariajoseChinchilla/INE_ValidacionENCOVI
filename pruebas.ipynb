{
 "cells": [
  {
   "cell_type": "code",
   "execution_count": 1,
   "metadata": {},
   "outputs": [],
   "source": [
    "from INEvalidador import Validador\n",
    "validador = Validador(descargar=False)"
   ]
  },
  {
   "cell_type": "code",
   "execution_count": 2,
   "metadata": {},
   "outputs": [
    {
     "name": "stderr",
     "output_type": "stream",
     "text": [
      "  0%|          | 0/301 [00:00<?, ?condicion/s]"
     ]
    },
    {
     "name": "stderr",
     "output_type": "stream",
     "text": [
      "100%|█████████▉| 300/301 [01:40<00:00,  2.98condicion/s]\n"
     ]
    }
   ],
   "source": [
    "validador.process_to_export(columna_upm=\"SECTOR\",fecha_inicio=\"2023-8-11\",fecha_final=\"2023-8-27\")"
   ]
  },
  {
   "cell_type": "code",
   "execution_count": 7,
   "metadata": {},
   "outputs": [
    {
     "name": "stdout",
     "output_type": "stream",
     "text": [
      "                                 CONDICIÓN  ENCUESTADOR  DEPTO  MUPIO  \\\n",
      "2042  P10C01>0 y P10C17G no esta en (1, 2)       3128.0   16.0    6.0   \n",
      "2258  P10C01>0 y P10C17G no esta en (1, 2)       3145.0   22.0    3.0   \n",
      "2665  P10C01>0 y P10C17G no esta en (1, 2)       3077.0    8.0    5.0   \n",
      "2674  P10C01>0 y P10C17G no esta en (1, 2)       3065.0   19.0    9.0   \n",
      "2870  P10C01>0 y P10C17G no esta en (1, 2)       3146.0   22.0    3.0   \n",
      "2875  P10C01>0 y P10C17G no esta en (1, 2)       3145.0   22.0    3.0   \n",
      "2947  P10C01>0 y P10C17G no esta en (1, 2)       3086.0   20.0    2.0   \n",
      "3065  P10C01>0 y P10C17G no esta en (1, 2)       3064.0   16.0    4.0   \n",
      "3166  P10C01>0 y P10C17G no esta en (1, 2)       3078.0   11.0    3.0   \n",
      "3235  P10C01>0 y P10C17G no esta en (1, 2)       3117.0   11.0    6.0   \n",
      "3504  P10C01>0 y P10C17G no esta en (1, 2)       3076.0    3.0    1.0   \n",
      "4153  P10C01>0 y P10C17G no esta en (1, 2)       3115.0   11.0    1.0   \n",
      "4605  P10C01>0 y P10C17G no esta en (1, 2)       3062.0   16.0   17.0   \n",
      "4836  P10C01>0 y P10C17G no esta en (1, 2)       3107.0   19.0   11.0   \n",
      "5245  P10C01>0 y P10C17G no esta en (1, 2)       3067.0   17.0    8.0   \n",
      "5770  P10C01>0 y P10C17G no esta en (1, 2)       3123.0   13.0    6.0   \n",
      "\n",
      "       SECTOR  ESTRUCTURA  VIVIENDA  HOGAR   CP  CAPÍTULO SECCIÓN  PREGUNTA  \\\n",
      "2042  19923.0       128.0      96.0    1.0  4.0         1       D        23   \n",
      "2258  25130.0       127.0      73.0    9.0  3.0         1       D        23   \n",
      "2665  10585.0        54.0      24.0    4.0  2.0         1       D        23   \n",
      "2674  23387.0        43.0      43.0    3.0  1.0         1       D        23   \n",
      "2870  25130.0        76.0      40.0    5.0  3.0         1       D        23   \n",
      "2875  25130.0       107.0      56.0    7.0  1.0         1       D        23   \n",
      "2947  23655.0        78.0      46.0    4.0  2.0         1       D        23   \n",
      "3065  19851.0       114.0      97.0    1.0  2.0         1       D        23   \n",
      "3166  13215.0        96.0      70.0    4.0  1.0         1       D        23   \n",
      "3235  13294.0        12.0       4.0    1.0  3.0         1       D        23   \n",
      "3504   5901.0        18.0      19.0    1.0  9.0         1       D        23   \n",
      "4153  13101.0       208.0     168.0    1.0  3.0         1       D        23   \n",
      "4605  20927.0        76.0      59.0    1.0  9.0         1       D        23   \n",
      "4836  22961.0       177.0     129.0    1.0  3.0         1       D        23   \n",
      "5245  21684.0       166.0     100.0    1.0  1.0         1       D        23   \n",
      "5770  15976.0        20.0      11.0    1.0  3.0         1       D        23   \n",
      "\n",
      "                           DEFINICIÓN DE INCONSISTENCIA CÓDIGO ERROR  \\\n",
      "2042  Si la respues es SI y no ingresa cuanto pago (...     01D02301   \n",
      "2258  Si la respues es SI y no ingresa cuanto pago (...     01D02301   \n",
      "2665  Si la respues es SI y no ingresa cuanto pago (...     01D02301   \n",
      "2674  Si la respues es SI y no ingresa cuanto pago (...     01D02301   \n",
      "2870  Si la respues es SI y no ingresa cuanto pago (...     01D02301   \n",
      "2875  Si la respues es SI y no ingresa cuanto pago (...     01D02301   \n",
      "2947  Si la respues es SI y no ingresa cuanto pago (...     01D02301   \n",
      "3065  Si la respues es SI y no ingresa cuanto pago (...     01D02301   \n",
      "3166  Si la respues es SI y no ingresa cuanto pago (...     01D02301   \n",
      "3235  Si la respues es SI y no ingresa cuanto pago (...     01D02301   \n",
      "3504  Si la respues es SI y no ingresa cuanto pago (...     01D02301   \n",
      "4153  Si la respues es SI y no ingresa cuanto pago (...     01D02301   \n",
      "4605  Si la respues es SI y no ingresa cuanto pago (...     01D02301   \n",
      "4836  Si la respues es SI y no ingresa cuanto pago (...     01D02301   \n",
      "5245  Si la respues es SI y no ingresa cuanto pago (...     01D02301   \n",
      "5770  Si la respues es SI y no ingresa cuanto pago (...     01D02301   \n",
      "\n",
      "     COMENTARIOS  \n",
      "2042        None  \n",
      "2258        None  \n",
      "2665        None  \n",
      "2674        None  \n",
      "2870        None  \n",
      "2875        None  \n",
      "2947        None  \n",
      "3065        None  \n",
      "3166        None  \n",
      "3235        None  \n",
      "3504        None  \n",
      "4153        None  \n",
      "4605        None  \n",
      "4836        None  \n",
      "5245        None  \n",
      "5770        None  \n"
     ]
    }
   ],
   "source": [
    "codigos = []\n",
    "for df in validador.df_:\n",
    "    if df['CÓDIGO ERROR'].iloc[0] == '01D02301':\n",
    "        print(df)\n",
    "        break"
   ]
  },
  {
   "cell_type": "code",
   "execution_count": 8,
   "metadata": {},
   "outputs": [
    {
     "data": {
      "text/plain": [
       "True"
      ]
     },
     "execution_count": 8,
     "metadata": {},
     "output_type": "execute_result"
    }
   ],
   "source": [
    "'01D02702' in codigos"
   ]
  },
  {
   "cell_type": "code",
   "execution_count": 5,
   "metadata": {},
   "outputs": [],
   "source": [
    "import pandas as pd\n",
    "dff = pd.concat(validador.df_)"
   ]
  },
  {
   "cell_type": "code",
   "execution_count": 9,
   "metadata": {},
   "outputs": [
    {
     "data": {
      "text/plain": [
       "True"
      ]
     },
     "execution_count": 9,
     "metadata": {},
     "output_type": "execute_result"
    }
   ],
   "source": [
    "'01D02702' in dff['CÓDIGO ERROR'].to_list()"
   ]
  },
  {
   "cell_type": "code",
   "execution_count": 7,
   "metadata": {},
   "outputs": [],
   "source": [
    "dff.to_excel('AAA.xlsx')"
   ]
  },
  {
   "cell_type": "code",
   "execution_count": 5,
   "metadata": {},
   "outputs": [],
   "source": [
    "from INEvalidador.utils import condicion_a_variables\n",
    "from INEvalidador.conexionSQL import baseSQL\n",
    "sql = baseSQL(False)"
   ]
  },
  {
   "cell_type": "code",
   "execution_count": 6,
   "metadata": {},
   "outputs": [
    {
     "data": {
      "text/html": [
       "<div>\n",
       "<style scoped>\n",
       "    .dataframe tbody tr th:only-of-type {\n",
       "        vertical-align: middle;\n",
       "    }\n",
       "\n",
       "    .dataframe tbody tr th {\n",
       "        vertical-align: top;\n",
       "    }\n",
       "\n",
       "    .dataframe thead th {\n",
       "        text-align: right;\n",
       "    }\n",
       "</style>\n",
       "<table border=\"1\" class=\"dataframe\">\n",
       "  <thead>\n",
       "    <tr style=\"text-align: right;\">\n",
       "      <th></th>\n",
       "      <th>P10C01</th>\n",
       "      <th>P10C17G</th>\n",
       "    </tr>\n",
       "  </thead>\n",
       "  <tbody>\n",
       "    <tr>\n",
       "      <th>2042</th>\n",
       "      <td>1.0</td>\n",
       "      <td>NaN</td>\n",
       "    </tr>\n",
       "    <tr>\n",
       "      <th>2258</th>\n",
       "      <td>1.0</td>\n",
       "      <td>NaN</td>\n",
       "    </tr>\n",
       "    <tr>\n",
       "      <th>2665</th>\n",
       "      <td>1.0</td>\n",
       "      <td>NaN</td>\n",
       "    </tr>\n",
       "    <tr>\n",
       "      <th>2674</th>\n",
       "      <td>1.0</td>\n",
       "      <td>NaN</td>\n",
       "    </tr>\n",
       "    <tr>\n",
       "      <th>2870</th>\n",
       "      <td>1.0</td>\n",
       "      <td>NaN</td>\n",
       "    </tr>\n",
       "    <tr>\n",
       "      <th>2875</th>\n",
       "      <td>1.0</td>\n",
       "      <td>NaN</td>\n",
       "    </tr>\n",
       "    <tr>\n",
       "      <th>2947</th>\n",
       "      <td>2.0</td>\n",
       "      <td>NaN</td>\n",
       "    </tr>\n",
       "    <tr>\n",
       "      <th>3065</th>\n",
       "      <td>1.0</td>\n",
       "      <td>NaN</td>\n",
       "    </tr>\n",
       "    <tr>\n",
       "      <th>3166</th>\n",
       "      <td>1.0</td>\n",
       "      <td>NaN</td>\n",
       "    </tr>\n",
       "    <tr>\n",
       "      <th>3235</th>\n",
       "      <td>1.0</td>\n",
       "      <td>NaN</td>\n",
       "    </tr>\n",
       "    <tr>\n",
       "      <th>3504</th>\n",
       "      <td>1.0</td>\n",
       "      <td>NaN</td>\n",
       "    </tr>\n",
       "    <tr>\n",
       "      <th>4153</th>\n",
       "      <td>1.0</td>\n",
       "      <td>NaN</td>\n",
       "    </tr>\n",
       "    <tr>\n",
       "      <th>4605</th>\n",
       "      <td>1.0</td>\n",
       "      <td>NaN</td>\n",
       "    </tr>\n",
       "    <tr>\n",
       "      <th>4836</th>\n",
       "      <td>1.0</td>\n",
       "      <td>NaN</td>\n",
       "    </tr>\n",
       "    <tr>\n",
       "      <th>5245</th>\n",
       "      <td>1.0</td>\n",
       "      <td>NaN</td>\n",
       "    </tr>\n",
       "    <tr>\n",
       "      <th>5770</th>\n",
       "      <td>1.0</td>\n",
       "      <td>NaN</td>\n",
       "    </tr>\n",
       "  </tbody>\n",
       "</table>\n",
       "</div>"
      ],
      "text/plain": [
       "      P10C01  P10C17G\n",
       "2042     1.0      NaN\n",
       "2258     1.0      NaN\n",
       "2665     1.0      NaN\n",
       "2674     1.0      NaN\n",
       "2870     1.0      NaN\n",
       "2875     1.0      NaN\n",
       "2947     2.0      NaN\n",
       "3065     1.0      NaN\n",
       "3166     1.0      NaN\n",
       "3235     1.0      NaN\n",
       "3504     1.0      NaN\n",
       "4153     1.0      NaN\n",
       "4605     1.0      NaN\n",
       "4836     1.0      NaN\n",
       "5245     1.0      NaN\n",
       "5770     1.0      NaN"
      ]
     },
     "execution_count": 6,
     "metadata": {},
     "output_type": "execute_result"
    }
   ],
   "source": [
    "expresion = \"P10C01>0 y P10C17G no esta en (1, 2)\" \n",
    "validador.filter_base(expresion, list(condicion_a_variables(expresion)), fecha_inicio=\"2023-8-11\", fecha_final=\"2023-8-27\")"
   ]
  },
  {
   "cell_type": "code",
   "execution_count": null,
   "metadata": {},
   "outputs": [],
   "source": []
  }
 ],
 "metadata": {
  "kernelspec": {
   "display_name": "Python 3",
   "language": "python",
   "name": "python3"
  },
  "language_info": {
   "codemirror_mode": {
    "name": "ipython",
    "version": 3
   },
   "file_extension": ".py",
   "mimetype": "text/x-python",
   "name": "python",
   "nbconvert_exporter": "python",
   "pygments_lexer": "ipython3",
   "version": "3.11.2"
  },
  "orig_nbformat": 4
 },
 "nbformat": 4,
 "nbformat_minor": 2
}
