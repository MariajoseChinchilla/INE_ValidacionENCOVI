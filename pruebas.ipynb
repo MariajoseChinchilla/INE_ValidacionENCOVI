{
 "cells": [
  {
   "cell_type": "code",
   "execution_count": 1,
   "metadata": {},
   "outputs": [],
   "source": [
    "from INEvalidador import Validador\n",
    "from INEvalidador.utils import condicion_a_variables\n",
    "from INEvalidador.conexionSQL import baseSQL\n",
    "sql = baseSQL(False)\n",
    "from INEvalidador.reporte_produccion import GestorConteos\n",
    "# gestor = GestorConteos()\n",
    "validador = Validador(descargar=False)\n",
    "from INEvalidador.limpieza import Limpieza\n",
    "limpieza = Limpieza(1,descargar=False)"
   ]
  },
  {
   "cell_type": "code",
   "execution_count": null,
   "metadata": {},
   "outputs": [],
   "source": [
    "limpieza.escribir_query_sq(archivo=r\"C:\\Users\\mchinchilla\\Desktop\\Validador\\Datos para Revisión\\output_17-10-2023\\Prueba Majo.xlsx\",comision=1,nombre=\"Majo\")"
   ]
  },
  {
   "cell_type": "code",
   "execution_count": null,
   "metadata": {},
   "outputs": [],
   "source": [
    "limpieza.escribir_query_sq(r\"C:\\Users\\mchinchilla\\Desktop\\Validador\\Datos para Revisión\\output_17-10-2023\\Prueba Majo.xlsx\",1,\"majo\")"
   ]
  },
  {
   "cell_type": "code",
   "execution_count": null,
   "metadata": {},
   "outputs": [],
   "source": [
    "sql.base_col.get(\"P14A04\")"
   ]
  },
  {
   "cell_type": "code",
   "execution_count": null,
   "metadata": {},
   "outputs": [],
   "source": [
    "expresion1 = \"PPA03 >= 18 & CP no es vacio & (P10C21 está en (5,6) o P10D07 está en (5,6) o P10C47 > 0)\"\n",
    "cap141 = validador.filter_base(expresion1,[\"LEVEL-1-ID\", \"FECHA\", \"DEPTO\", \"CP\", \"ENCUESTADOR\", \"MUPIO\", \"SECTOR\", \"ESTRUCTURA\", \"VIVIENDA\", \"HOGAR\"], \"2023-1-1\", \"2023-12-31\")\n",
    "expresion2 = \"P14A04 no es vacio y P14A03A no es vacio\"\n",
    "cap142 = validador.filter_base(expresion2, [\"P14A04\", \"P14A03A\", \"FECHA\", \"LEVEL-1-ID\", \"ENCUESTADOR\", \"DEPTO\", \"CP\", \"MUPIO\", \"SECTOR\", \"ESTRUCTURA\", \"VIVIENDA\", \"HOGAR\"], \"2023-1-1\", \"2023-12-31\")\n",
    "# Agrupación conservando columnas adicionales\n",
    "agrupado14 = cap141.groupby([\"LEVEL-1-ID\"]).agg({\n",
    "    'CP': lambda x: list(set(x)),\n",
    "    'FECHA': 'first',\n",
    "    'DEPTO': 'first',\n",
    "    'MUPIO': 'first',\n",
    "    'SECTOR': 'first',\n",
    "    'ESTRUCTURA': 'first',\n",
    "    'VIVIENDA': 'first',\n",
    "    'HOGAR': 'first',\n",
    "    \"ENCUESTADOR\": \"first\",\n",
    "}).reset_index()\n",
    "\n",
    "agrupado142 = cap142.groupby([\"LEVEL-1-ID\"]).agg({\n",
    "    'P14A04': lambda x: list(set(x)),\n",
    "    'FECHA': 'first',\n",
    "    'DEPTO': 'first',\n",
    "    'MUPIO': 'first',\n",
    "    'SECTOR': 'first',\n",
    "    'ESTRUCTURA': 'first',\n",
    "    'VIVIENDA': 'first',\n",
    "    \"ENCUESTADOR\": \"first\",\n",
    "    'HOGAR': 'first',\n",
    "}).reset_index()\n",
    "\n",
    "# Fusión de dataframes\n",
    "final14 = agrupado14.merge(agrupado142, how=\"inner\", on=[\"LEVEL-1-ID\"], suffixes=('_x', '_y'))"
   ]
  },
  {
   "cell_type": "code",
   "execution_count": null,
   "metadata": {},
   "outputs": [],
   "source": [
    "validador.leer_condicion(\"P14A04 no es vacio y P14A03A no es vacio\")"
   ]
  },
  {
   "cell_type": "code",
   "execution_count": null,
   "metadata": {},
   "outputs": [],
   "source": [
    "'FECHA' in sql.df_para_condicion(\"P14A04 no es vacio y P14A03A no es vacio\").columns"
   ]
  },
  {
   "cell_type": "code",
   "execution_count": 1,
   "metadata": {},
   "outputs": [],
   "source": [
    "folder_ids = [\"1PVrC64OpF4lLUTn7GB78NDk4tVHKt_9p\",\"1BCUo3eRu4keGA1BxRaDQz7MpD-9Kybam\",\"124JJ2lqUViTPccSSDmX5BaCnwSh0VTTL\",\"1SaOktnsV36R_zUB-_i3LBTmZVhwcVsps\",\n",
    "            \"1cL7VHAHUwsRymHoRS35uqfkSAY443yG_\",\"1uKxCkBWQUrhsYi3TPJvDsGgOpbjPG7iS\",\"19mX4lM2KpJH4BtxOgux9C3OcmyfBbTPX\",\n",
    "            \"1JoxWGL90fxwvIUXOJNs7X6X4qJwt2xML\",\"1cUSFdi2Iy1_8NG7MSqwLThkjJqhZG3Lh\",\"1r8v7-7QuD7I7M31cPimxM6UvKRuHWIue\",\n",
    "            \"1MlXNuRpvZ-uZVToix0rA8_COvIV_sz41\",\n",
    "            \"190oc3i_n1SdB1WEBwDTjs7kKr-NGftou\",\"1FZmN3LKUnCEDKJBeRAa8ass5DYjmQeKH\",\"1Pe-P-RYDR8LaKZxdJmXAerhOe4JcJLVf\",\n",
    "            \"1QtWFQfRHUSn7F3cqJOkEJtIERl7Sfe-N\",\"1oqRunCgEdN9EAmaUrwwXck18GjQL9hSW\",\"1c_t2TkrO6iXo583ePsHDGNco7dNZ1-3v\",\n",
    "            \"1I6mmP-kx456tSofwOg5YG5HGE93EGams\",\"1KtGdixpy-p8JEj45NfoEb8JtZ29xYpFS\",\"1kQVlHOIBO-p1bmsk-rgxCVjG6P_V2TGr\",\n",
    "            \"1my1uG69TEZba7xSLbdaHphYyb9lOLFtg\",\"1K921NLXIqY5oRyxxivqdL5D7CIFwPjm-\",\"1CnfCG1zkXcHGjvS3GeHMb13_tzOooWn4\",\n",
    "            \"1Sm-YBHKldQ8epDdqDUVfGCo0lQ1v0sCp\",\"1yO0qyfXWg9Y0lVXWGWB4lTIeYkIGtY9I\",\"11z9lGtsWFWgotd05xK-0VHHd-kVYNAGV\",\n",
    "            \"1m92ZurDG-J4_aqPnCub88HsYnWtaEaUI\",\"1-sKuqlI8uTdgJ20PsF0_OwPAF84ZxDPH\",\n",
    "            \"1OKlNUxasy5eXpmqLJIZCXK5PoOoMoGVC\",\"1b4Ya2RjwkmymD0IhI81Lq36KhTh5aTXw\",\"11KOYySNg6CCDNEA_8UawUuU45wplZbO5\",\n",
    "            \"1uWIq6hM3BNjtXOFQ2g4ifwufZGBDvHUf\",\"1vSyw6zjJ3iMBNealEETEaOvmFKfo6OA0\",\"15NVXVv5LFQ7vs-d-YmVptUBnx3ZxrxKx\",\n",
    "            \"1qB5f-R2XEyfiEwpJH_9U3gTQfJRUwf5N\",\"1NmLZNNgnZA3jaXx4td0tITiPaMlvD_3m\",\"1DvvWSgpLFmLnpH4Yv074gPqebKjyaBo3\",\n",
    "            \"1FRz1FK4ogxvzcFSQUjIiMaBPjUqH7lvA\",\"1IdZdQ6Y8ExDs4XhdQmDJjnyp1JrnrRFW\", \"1dxjV8y7J7nXNhTWWDRpc5LkMpQ047Wys\",\n",
    "            \"11tORy_uT7l8-zFLww3R9aTD4jhszKaoE\"]"
   ]
  },
  {
   "cell_type": "code",
   "execution_count": 2,
   "metadata": {},
   "outputs": [
    {
     "data": {
      "text/plain": [
       "41"
      ]
     },
     "execution_count": 2,
     "metadata": {},
     "output_type": "execute_result"
    }
   ],
   "source": [
    "len(folder_ids)"
   ]
  },
  {
   "cell_type": "code",
   "execution_count": null,
   "metadata": {},
   "outputs": [],
   "source": []
  }
 ],
 "metadata": {
  "kernelspec": {
   "display_name": "Python 3",
   "language": "python",
   "name": "python3"
  },
  "language_info": {
   "codemirror_mode": {
    "name": "ipython",
    "version": 3
   },
   "file_extension": ".py",
   "mimetype": "text/x-python",
   "name": "python",
   "nbconvert_exporter": "python",
   "pygments_lexer": "ipython3",
   "version": "3.11.2"
  },
  "orig_nbformat": 4
 },
 "nbformat": 4,
 "nbformat_minor": 2
}
