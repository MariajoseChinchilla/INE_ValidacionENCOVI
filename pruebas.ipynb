{
 "cells": [
  {
   "cell_type": "code",
   "execution_count": 2,
   "metadata": {},
   "outputs": [],
   "source": [
    "from INEvalidador import Validador\n",
    "from INEvalidador.automarizador_drive import subir_a_drive\n",
    "from INEvalidador.utils import condicion_a_variables\n",
    "from INEvalidador.conexionSQL import baseSQL\n",
    "sql = baseSQL(False)\n",
    "validador = Validador(descargar=False)"
   ]
  },
  {
   "cell_type": "code",
   "execution_count": 16,
   "metadata": {},
   "outputs": [
    {
     "name": "stderr",
     "output_type": "stream",
     "text": [
      "c:\\Users\\mchinchilla\\Documents\\GitHub\\INE_ValidacionENCOVI\\INEvalidador\\conexionSQL.py:125: FutureWarning: Passing 'suffixes' which cause duplicate columns {'INDEX_x'} in the result is deprecated and will raise a MergeError in a future version.\n",
      "  df_base = pd.merge(df_base, caratula_pr_df, on='LEVEL-1-ID', how='inner')  # Unión por 'LEVEL-1-ID'\n"
     ]
    }
   ],
   "source": [
    "expresion1 = \"PPA01A no es vacio y PPA03 >= 18 Y (P10C21 esta en (5,6) o P10D07 esta en (5,6)) y (P14A01 = 2 O P14A01 es vacio)\"\n",
    "a1 = validador.filter_base(expresion1, [\"DEPTO\", \"MUPIO\", \"SECTOR\", \"ESTRUCTURA\", \"VIVIENDA\", \"PPA01A\", \"PPA03\", \"P10C21\", \"P10D07\", \"P14A01\"], fecha_inicio=\"2023-1-1\", fecha_final=\"2023-12-31\")\n",
    "a1 = a1.drop_duplicates(keep=\"first\")"
   ]
  },
  {
   "cell_type": "code",
   "execution_count": 4,
   "metadata": {},
   "outputs": [
    {
     "name": "stderr",
     "output_type": "stream",
     "text": [
      "c:\\Users\\mchinchilla\\Documents\\GitHub\\INE_ValidacionENCOVI\\INEvalidador\\conexionSQL.py:125: FutureWarning: Passing 'suffixes' which cause duplicate columns {'INDEX_x'} in the result is deprecated and will raise a MergeError in a future version.\n",
      "  df_base = pd.merge(df_base, caratula_pr_df, on='LEVEL-1-ID', how='inner')  # Unión por 'LEVEL-1-ID'\n"
     ]
    }
   ],
   "source": [
    "expresion2 = \"PPA01A no es vacio y PPA03 >= 18 Y (P10C21 esta en (7,8) o P10D07 esta en (7,8)) y (P16A01 = 2 O P16A01 es vacio)\"\n",
    "a2 = validador.filter_base(expresion2, [\"DEPTO\", \"PPA01A\", \"PPA03\", \"P10C21\", \"P16A01\"] , fecha_inicio=\"2023-1-1\", fecha_final=\"2023-12-31\")\n",
    "a2 = a2.drop_duplicates(keep=\"first\")"
   ]
  }
 ],
 "metadata": {
  "kernelspec": {
   "display_name": "Python 3",
   "language": "python",
   "name": "python3"
  },
  "language_info": {
   "codemirror_mode": {
    "name": "ipython",
    "version": 3
   },
   "file_extension": ".py",
   "mimetype": "text/x-python",
   "name": "python",
   "nbconvert_exporter": "python",
   "pygments_lexer": "ipython3",
   "version": "3.11.2"
  },
  "orig_nbformat": 4
 },
 "nbformat": 4,
 "nbformat_minor": 2
}
