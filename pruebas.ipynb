{
 "cells": [
  {
   "cell_type": "code",
   "execution_count": 1,
   "metadata": {},
   "outputs": [],
   "source": [
    "from INEvalidador import Validador\n",
    "from INEvalidador.utils import condicion_a_variables\n",
    "from INEvalidador.conexionSQL import baseSQL\n",
    "sql = baseSQL(False)\n",
    "from INEvalidador.reporte_produccion import GestorConteos\n",
    "# gestor = GestorConteos()\n",
    "validador = Validador(descargar=False)\n",
    "from INEvalidador.limpieza import Limpieza\n",
    "limpieza = Limpieza(1,descargar=False)"
   ]
  },
  {
   "cell_type": "code",
   "execution_count": 2,
   "metadata": {},
   "outputs": [
    {
     "name": "stderr",
     "output_type": "stream",
     "text": [
      " 50%|█████     | 1/2 [00:00<00:00,  2.04condicion/s]"
     ]
    },
    {
     "name": "stdout",
     "output_type": "stream",
     "text": [
      "Empty DataFrame\n",
      "Columns: [DEPTO, MUPIO, SECTOR, ESTRUCTURA, VIVIENDA, HOGAR, CP, P05C06A, VARIABLE, VALOR NUEVO]\n",
      "Index: []\n"
     ]
    },
    {
     "name": "stderr",
     "output_type": "stream",
     "text": [
      "100%|██████████| 2/2 [00:01<00:00,  1.90condicion/s]"
     ]
    },
    {
     "name": "stdout",
     "output_type": "stream",
     "text": [
      "       DEPTO  MUPIO   SECTOR  ESTRUCTURA  VIVIENDA  HOGAR  CP  PPA03  DEPTO  \\\n",
      "52      12.0   15.0  14649.0       133.0     121.0    4.0 NaN    NaN   12.0   \n",
      "71      10.0   19.0  12939.0       236.0     174.0   10.0 NaN    NaN   10.0   \n",
      "76      10.0   19.0  12939.0       236.0     174.0   10.0 NaN    NaN   10.0   \n",
      "77      10.0   19.0  12939.0       236.0     174.0   10.0 NaN    NaN   10.0   \n",
      "605      4.0    4.0   6737.0       191.0     144.0    5.0 NaN    NaN    4.0   \n",
      "...      ...    ...      ...         ...       ...    ...  ..    ...    ...   \n",
      "12898   15.0    7.0  19256.0        64.0      50.0    3.0 NaN    NaN   15.0   \n",
      "12984   10.0   19.0  12939.0       212.0     155.0    9.0 NaN    NaN   10.0   \n",
      "13047    4.0   12.0   7128.0       207.0     195.0    9.0 NaN    NaN    4.0   \n",
      "13814   12.0    2.0  13783.0        38.0      19.0    3.0 NaN    NaN   12.0   \n",
      "13828   12.0    2.0  13783.0        38.0      19.0    3.0 NaN    NaN   12.0   \n",
      "\n",
      "      VARIABLE VALOR NUEVO  \n",
      "52        None        None  \n",
      "71        None        None  \n",
      "76        None        None  \n",
      "77        None        None  \n",
      "605       None        None  \n",
      "...        ...         ...  \n",
      "12898     None        None  \n",
      "12984     None        None  \n",
      "13047     None        None  \n",
      "13814     None        None  \n",
      "13828     None        None  \n",
      "\n",
      "[69 rows x 11 columns]\n"
     ]
    },
    {
     "name": "stderr",
     "output_type": "stream",
     "text": [
      "\n"
     ]
    }
   ],
   "source": [
    "limpieza.archivos_limpieza()"
   ]
  },
  {
   "cell_type": "code",
   "execution_count": null,
   "metadata": {},
   "outputs": [],
   "source": [
    "validador.limpieza_por_query(\"PruebasFinales\",\"P01J1\",[\"PPA03\"])"
   ]
  },
  {
   "cell_type": "code",
   "execution_count": null,
   "metadata": {},
   "outputs": [],
   "source": [
    "gestor.escribir_query_sq(r\"C:\\Users\\mchinchilla\\Desktop\\Limpieza\\Datos para Revisión\\output_09-10-2023\\ejemplo.xlsx\",\"SalidasPrueba\")"
   ]
  }
 ],
 "metadata": {
  "kernelspec": {
   "display_name": "Python 3",
   "language": "python",
   "name": "python3"
  },
  "language_info": {
   "codemirror_mode": {
    "name": "ipython",
    "version": 3
   },
   "file_extension": ".py",
   "mimetype": "text/x-python",
   "name": "python",
   "nbconvert_exporter": "python",
   "pygments_lexer": "ipython3",
   "version": "3.11.2"
  },
  "orig_nbformat": 4
 },
 "nbformat": 4,
 "nbformat_minor": 2
}
