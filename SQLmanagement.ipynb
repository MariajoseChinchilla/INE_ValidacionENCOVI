{
 "cells": [
  {
   "cell_type": "code",
   "execution_count": 20,
   "metadata": {},
   "outputs": [],
   "source": [
    "from INEvalidador import Validador\n",
    "from INEvalidador import conexionSQL\n",
    "import pandas as pd\n",
    "import os\n",
    "import re"
   ]
  },
  {
   "cell_type": "code",
   "execution_count": 14,
   "metadata": {},
   "outputs": [],
   "source": [
    "# Función para convertirlas todas las columnas de la base a mayuscula\n",
    "def columnas_a_mayuscula(tabla:str):\n",
    "    base = pd.read_feather(tabla)\n",
    "    columnas_originales = base.columns\n",
    "    columnas_nuevas = []\n",
    "    for columna in columnas_originales:\n",
    "        col = columna.upper()\n",
    "        columnas_nuevas.append(col)\n",
    "    diccionario = dict(zip(columnas_originales, columnas_nuevas))\n",
    "    base = base.rename(columns=diccionario)\n",
    "    return base"
   ]
  },
  {
   "cell_type": "code",
   "execution_count": 30,
   "metadata": {},
   "outputs": [],
   "source": [
    "# Función para hacer hacer las bases de datos con las que se trabajarán\n",
    "def unir_tablas(ronda: int):\n",
    "    if ronda == 1:\n",
    "        ruta = \"Bases/Ronda1\" \n",
    "        archivos = os.listdir(ruta)\n",
    "        bases = []\n",
    "        for arch in archivos:\n",
    "            if arch != 'audio_pr.feather' and arch != 'personas.feather':\n",
    "                bases.append(pd.read_feather(ruta + arch))\n",
    "        db_hogares1 = bases[0]\n",
    "        for base in bases[1:]:\n",
    "            db_hogares1.merge(db_hogares1, base, on='level-1-id', how='outer')\n",
    "        db_hogares1.to__feather(\"Bases/Ronda1/HogaresRonda1.feather\")\n",
    "        db_personas1 = pd.read(\"Bases/Ronda1/personas.feather\")\n",
    "        db_personas1.name = \"PersonasRonda1.feather\"\n",
    "    else:\n",
    "        ruta = \"Bases/Ronda2\" \n",
    "        archivos = os.listdir(ruta)\n",
    "        bases = []\n",
    "        for arch in archivos:\n",
    "            if arch != 'audios.feather' and arch != 'personas_sr.feather':\n",
    "                bases.append(pd.read_feather(ruta + arch))\n",
    "        db_hogares2 = bases[0]\n",
    "        for base in bases[1:]:\n",
    "            db_hogares2.merge(db_hogares2, base, on='level-1', how='outer')\n",
    "        db_hogares2.to_feather(\"Bases/Ronda2/HogaresRonda2.feather\")\n",
    "        db_personas2 = pd.read_feather(\"Bases/Ronda2/personas_sr.feather\")\n",
    "        db_personas2.name = \"PersonasRonda2.feather\""
   ]
  },
  {
   "cell_type": "code",
   "execution_count": 13,
   "metadata": {},
   "outputs": [],
   "source": [
    "# Función que obtenga la primera variable en la validación para poder identificar qué pasa usará\n",
    "def identificar_base_a_usar(condicion: str):\n",
    "    variable = re.findall(r'^\\s*([A-Za-z_][A-Za-z\\d_]*)\\s*[<>!=]*', condicion, re.MULTILINE)\n",
    "    return variable"
   ]
  }
 ],
 "metadata": {
  "kernelspec": {
   "display_name": "Python 3",
   "language": "python",
   "name": "python3"
  },
  "language_info": {
   "codemirror_mode": {
    "name": "ipython",
    "version": 3
   },
   "file_extension": ".py",
   "mimetype": "text/x-python",
   "name": "python",
   "nbconvert_exporter": "python",
   "pygments_lexer": "ipython3",
   "version": "3.11.2"
  },
  "orig_nbformat": 4
 },
 "nbformat": 4,
 "nbformat_minor": 2
}
