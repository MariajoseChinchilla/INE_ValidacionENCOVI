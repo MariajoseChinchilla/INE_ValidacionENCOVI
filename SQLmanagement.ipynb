{
 "cells": [
  {
   "cell_type": "code",
   "execution_count": 21,
   "metadata": {},
   "outputs": [],
   "source": [
    "from INEvalidador import Validador\n",
    "from INEvalidador import conexionSQL\n",
    "import pandas as pd\n",
    "import os"
   ]
  },
  {
   "cell_type": "code",
   "execution_count": 14,
   "metadata": {},
   "outputs": [],
   "source": [
    "# Función para convertirlas todas las columnas de la base a mayuscula\n",
    "def columnas_a_mayuscula(tabla:str):\n",
    "    base = pd.read_feather(tabla)\n",
    "    columnas_originales = base.columns\n",
    "    columnas_nuevas = []\n",
    "    for columna in columnas_originales:\n",
    "        col = columna.upper()\n",
    "        columnas_nuevas.append(col)\n",
    "    diccionario = dict(zip(columnas_originales, columnas_nuevas))\n",
    "    base = base.rename(columns=diccionario)\n",
    "    return base"
   ]
  },
  {
   "cell_type": "code",
   "execution_count": 30,
   "metadata": {},
   "outputs": [],
   "source": [
    "# Función para hacer una sola base de hogares\n",
    "def unir_tablas(ronda: int):\n",
    "    if ronda == 1:\n",
    "        ruta = \"Bases/Ronda1\" \n",
    "        archivos = os.listdir(ruta)\n",
    "        bases = []\n",
    "        for arch in archivos:\n",
    "            if arch != 'audio_pr.feather' and arch != 'personas.feather':\n",
    "                bases.append(pd.read_feather(ruta + arch))\n",
    "        db_hogares1 = bases[0]\n",
    "        for base in bases[1:]:\n",
    "            db_hogares1.merge(db_hogares1, base, on='level-1-id', how='outer')\n",
    "        return db_hogares1\n",
    "    else:\n",
    "        ruta = \"Bases/Ronda2\" \n",
    "        archivos = os.listdir(ruta)\n",
    "        bases = []\n",
    "        for arch in archivos:\n",
    "            if arch != 'audio_pr.feather' and arch != 'personas.feather':\n",
    "                bases.append(pd.read_feather(ruta + arch))\n",
    "        db_hogares1 = bases[0]\n",
    "        for base in bases[1:]:\n",
    "            db_hogares1.merge(db_hogares1, base, on='level-1-id', how='outer')\n",
    "        return db_hogares1"
   ]
  },
  {
   "cell_type": "code",
   "execution_count": null,
   "metadata": {},
   "outputs": [],
   "source": []
  }
 ],
 "metadata": {
  "kernelspec": {
   "display_name": "Python 3",
   "language": "python",
   "name": "python3"
  },
  "language_info": {
   "codemirror_mode": {
    "name": "ipython",
    "version": 3
   },
   "file_extension": ".py",
   "mimetype": "text/x-python",
   "name": "python",
   "nbconvert_exporter": "python",
   "pygments_lexer": "ipython3",
   "version": "3.11.2"
  },
  "orig_nbformat": 4
 },
 "nbformat": 4,
 "nbformat_minor": 2
}
