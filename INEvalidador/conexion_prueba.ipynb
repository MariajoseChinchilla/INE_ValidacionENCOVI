{
 "cells": [
  {
   "cell_type": "code",
   "execution_count": null,
   "metadata": {},
   "outputs": [],
   "source": [
    "from sqlalchemy import create_engine, text\n",
    "import pandas as pd\n",
    "import os\n",
    "from datetime import datetime\n",
    "from INEvalidador.utils import columnas_a_mayuscula, condicion_a_variables\n"
   ]
  },
  {
   "cell_type": "code",
   "execution_count": null,
   "metadata": {},
   "outputs": [],
   "source": [
    "class LimpiezaSQL:\n",
    "    def __init__(self, usuario, contraseña, host, puerto, base_de_datos):\n",
    "        self.url_conexion = f\"mysql+mysqlconnector://{usuario}:{contraseña}@{host}:{puerto}/{base_de_datos}\"\n",
    "        self.engine = create_engine(self.url_conexion)\n",
    "    \n",
    "    def ejecutar_consulta_desde_archivo(self, ruta_archivo):\n",
    "        \"\"\"\n",
    "        Ejecuta consultas SQL desde un archivo de texto. Cada línea se considera una consulta separada.\n",
    "        \n",
    "        Parameters:\n",
    "            ruta_archivo (str): Ruta al archivo que contiene las consultas SQL.\n",
    "        \"\"\"\n",
    "        with open(ruta_archivo, 'r', encoding='utf-8') as archivo:\n",
    "            with self.engine.connect() as conexion:\n",
    "                for linea in archivo:\n",
    "                    consulta_sql = linea.strip()  # Elimina espacios en blanco al principio y al final\n",
    "                    if consulta_sql:  # Evita ejecutar líneas vacías\n",
    "                        conexion.execute(text(consulta_sql))\n"
   ]
  },
  {
   "cell_type": "code",
   "execution_count": 4,
   "metadata": {},
   "outputs": [],
   "source": [
    "                \n",
    "# Ejemplo de uso\n",
    "if __name__ == \"__main__\":\n",
    "    limpieza = LimpiezaSQL('root', 'Chin2023/*', 'localhost', '3306', 'ENCOVI_PR')\n",
    "    limpieza.ejecutar_consulta_desde_archivo(r\"C:\\Users\\mchinchilla\\Documents\\GitHub\\INE_ValidacionENCOVI\\Sintaxis.txt\")\n"
   ]
  }
 ],
 "metadata": {
  "kernelspec": {
   "display_name": "Python 3",
   "language": "python",
   "name": "python3"
  },
  "language_info": {
   "codemirror_mode": {
    "name": "ipython",
    "version": 3
   },
   "file_extension": ".py",
   "mimetype": "text/x-python",
   "name": "python",
   "nbconvert_exporter": "python",
   "pygments_lexer": "ipython3",
   "version": "3.11.2"
  },
  "orig_nbformat": 4
 },
 "nbformat": 4,
 "nbformat_minor": 2
}
