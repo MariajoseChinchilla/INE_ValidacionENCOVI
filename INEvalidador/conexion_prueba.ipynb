{
 "cells": [
  {
   "cell_type": "code",
   "execution_count": 1,
   "metadata": {},
   "outputs": [],
   "source": [
    "from sqlalchemy import create_engine, text\n",
    "import pandas as pd\n",
    "import os\n",
    "from datetime import datetime\n",
    "from INEvalidador.utils import columnas_a_mayuscula, condicion_a_variables\n",
    "import re\n"
   ]
  },
  {
   "cell_type": "code",
   "execution_count": 2,
   "metadata": {},
   "outputs": [],
   "source": [
    "class LimpiezaSQL:\n",
    "    def __init__(self, usuario, contraseña, host, puerto, ruta_archivo, comision):\n",
    "        self.ruta_archivo = ruta_archivo\n",
    "        with open(self.ruta_archivo, \"r\", encoding=\"utf-8\") as archivo:\n",
    "            primera_linea = archivo.readline()\n",
    "            match = re.search(r'UPDATE\\s+(\\w+)\\.', primera_linea)\n",
    "            if match:\n",
    "                base_de_datos = match.group(1) + f\"_COM{comision}\"\n",
    "                self.url_conexion = f\"mysql+mysqlconnector://{usuario}:{contraseña}@{host}:{puerto}/{base_de_datos}\"\n",
    "        self.engine = create_engine(self.url_conexion)\n",
    "        print(base_de_datos)\n",
    "    \n",
    "    def ejecutar_consulta_desde_archivo(self):\n",
    "        \"\"\"\n",
    "        Ejecuta consultas SQL desde un archivo de texto. Cada línea se considera una consulta separada.\n",
    "        \n",
    "        Parameters:\n",
    "            ruta_archivo (str): Ruta al archivo que contiene las consultas SQL.\n",
    "        \"\"\"\n",
    "        with open(self.ruta_archivo, 'r', encoding='utf-8') as archivo:\n",
    "            with self.engine.connect() as conexion:\n",
    "                for linea in archivo:\n",
    "                    consulta_sql = linea.strip()  # Elimina espacios en blanco al principio y al final\n",
    "                    if consulta_sql:  # Evita ejecutar líneas vacías\n",
    "                        conexion.execute(text(consulta_sql))\n"
   ]
  },
  {
   "cell_type": "code",
   "execution_count": 3,
   "metadata": {},
   "outputs": [
    {
     "name": "stdout",
     "output_type": "stream",
     "text": [
      "ENCOVI_PR\n"
     ]
    }
   ],
   "source": [
    "                \n",
    "# Ejemplo de uso\n",
    "if __name__ == \"__main__\":\n",
    "    limpieza = LimpiezaSQL('root', 'Chin2023/*', 'localhost', '3306', r\"C:\\Users\\mchinchilla\\Documents\\GitHub\\INE_ValidacionENCOVI\\Sintaxis.txt\" )\n",
    "    # limpieza = LimpiezaSQL('mchinchilla', 'Mchinchilla2023', '10.0.0.170', '3307', 'ENCOVI_PR')\n",
    "    limpieza.ejecutar_consulta_desde_archivo()\n"
   ]
  }
 ],
 "metadata": {
  "kernelspec": {
   "display_name": "Python 3",
   "language": "python",
   "name": "python3"
  },
  "language_info": {
   "codemirror_mode": {
    "name": "ipython",
    "version": 3
   },
   "file_extension": ".py",
   "mimetype": "text/x-python",
   "name": "python",
   "nbconvert_exporter": "python",
   "pygments_lexer": "ipython3",
   "version": "3.11.2"
  },
  "orig_nbformat": 4
 },
 "nbformat": 4,
 "nbformat_minor": 2
}
